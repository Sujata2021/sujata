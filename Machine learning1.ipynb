{
 "cells": [
  {
   "cell_type": "markdown",
   "id": "022b364b-5dba-4281-9517-1839afa73dea",
   "metadata": {},
   "source": [
    "### Q1- Explain the following with an example:-\n",
    "\n",
    "# a) Artificial Intelligence\n",
    "\n",
    "# b) Machine Learning\n",
    "\n",
    "# c) Deep Learning"
   ]
  },
  {
   "cell_type": "markdown",
   "id": "8b92b4e5-02f7-4a75-937f-518f692686e4",
   "metadata": {},
   "source": [
    "a) Artificial intelligence is a smart application that can perform its own task without human intervention.Example-Self driving cars,Robots"
   ]
  },
  {
   "cell_type": "markdown",
   "id": "c358f7f1-9bc6-4c62-841a-f88c2234ad3f",
   "metadata": {},
   "source": [
    "b)Machine learning provides statstool to learn analyze,visualize and develop predictive models from the data.Example-Amazon,Netflix"
   ]
  },
  {
   "cell_type": "markdown",
   "id": "bc9a493a-2f81-4761-9bf4-cd6540f0ea76",
   "metadata": {},
   "source": [
    "c)Deep Learning-It mimic human brain .It is multilayered neural network.Example-object detection,chatbot"
   ]
  },
  {
   "cell_type": "markdown",
   "id": "ad836b98-9ff9-4391-a43d-f5db2744e15c",
   "metadata": {},
   "source": [
    "### Q2- What is supervised learning? List some examples of supervised learning."
   ]
  },
  {
   "cell_type": "markdown",
   "id": "a2f45c7f-dee7-40b0-a341-b3c0b65c05ec",
   "metadata": {},
   "source": [
    "Supervised learning is when we teach or train the machine using data that is well-\n",
    "\n",
    "labelled which means some data is already tagged with the correct answer. After that, the\n",
    "\n",
    "machine is provided with a new set of examples(data) so that the supervised learning\n",
    "\n",
    "algorithm analyses the training data(set of training examples) and produces a correct\n",
    "\n",
    "outcome from labeled data.Example-Image and speech recognition,recommendation system "
   ]
  },
  {
   "cell_type": "markdown",
   "id": "0b9d2658-375b-40c7-a1b3-9e1acb51755a",
   "metadata": {},
   "source": [
    "### Q3- What is unsupervised learning? List some examples of unsupervised learning."
   ]
  },
  {
   "cell_type": "markdown",
   "id": "17cd8902-8892-4110-ba83-c2b51a7dfe48",
   "metadata": {},
   "source": [
    "Unsupervised learning is the training of a machine using information that is neither\n",
    "\n",
    "classified nor labeled and allowing the algorithm to act on that information without\n",
    "\n",
    "guidance. Here the task of the machine is to group unsorted information according to\n",
    "\n",
    "similarities, patterns, and differences without any prior training of data.\n",
    "\n",
    "Example-Social network analysis."
   ]
  },
  {
   "cell_type": "markdown",
   "id": "1a95cf12-7498-4b0d-8942-31b1d2d89b3a",
   "metadata": {},
   "source": [
    "### Q4- What is the difference between AI, ML, DL, and DS?"
   ]
  },
  {
   "cell_type": "markdown",
   "id": "17a4582f-ffe1-4597-a273-6b72bff0ddfb",
   "metadata": {},
   "source": [
    "AI stands for Artificial Intelligence, and is basically the study/process which enables machines to mimic human behaviour through particular algorithm.\n",
    "\n",
    "ML stands for Machine Learning, and is the study that uses statistical methods enabling machines to improve with experience.\n",
    "\n",
    "DL stands for Deep Learning, and is the study that makes use of Neural Networks(similar to neurons present in human brain) to imitate functionality just like a human brain.\n",
    "\n",
    "AI is the broader family consisting of ML and DL as it’s components.\tML is the subset of AI.\t\n",
    "DL is the subset of ML.\n",
    "\n",
    "AI is a computer algorithm which exhibits intelligence through decision making.\n",
    "\n",
    "ML is an AI algorithm which allows system to learn from data.\n",
    "\n",
    "DL is a ML algorithm that uses deep(more than one layer) neural networks to analyze data and provide output accordingly.\n",
    "\n",
    "Data science is the study of data to extract meaningful insights for business. It is a multidisciplinary approach that combines principles and practices from the fields of mathematics, statistics, artificial intelligence, and computer engineering to analyze large amounts of data."
   ]
  },
  {
   "cell_type": "markdown",
   "id": "6f5bbc98-6685-4614-b0db-c3c9c5637aed",
   "metadata": {},
   "source": [
    "## Q5- What are the main differences between supervised, unsupervised, and semi-supervised learning?"
   ]
  },
  {
   "cell_type": "markdown",
   "id": "e1ea006b-351d-4494-8e3b-a6f102600e4f",
   "metadata": {},
   "source": [
    "Supervised learning algorithms are trained using labeled data.\n",
    "\n",
    "Unsupervised learning algorithms are trained using unlabeled data.\n",
    "\n",
    "Supervised learning model takes direct feedback to check if it is predicting correct output or not.\n",
    "\n",
    "Unsupervised learning model does not take any feedback.\n",
    "\n",
    "Supervised learning model predicts the output.\n",
    "\n",
    "Unsupervised learning model finds the hidden patterns in data.\n",
    "\n",
    " In Semi Supervised type of learning, the algorithm is trained upon a combination of labeled and unlabeled data.This combination will contain a very small amount of labeled data and a very large amount of unlabeled data. This is useful for a few reasons. First, the process of labeling massive amounts of data for supervised learning is often prohibitively time-consuming and expensive. Too much labeling can impose human biases on the model. That means including lots of unlabeled data during the training process actually tends to improve the accuracy of the final model while reducing the time and cost spent building it. "
   ]
  },
  {
   "cell_type": "markdown",
   "id": "f3eba6e6-0ca4-4b29-905c-f5bd5568c171",
   "metadata": {},
   "source": [
    "### Q6- What is train, test and validation split? Explain the importance of each term."
   ]
  },
  {
   "cell_type": "markdown",
   "id": "c5a668af-2a21-4319-822e-2cc645f11979",
   "metadata": {},
   "source": [
    "Training dataset is the actual dataset from which a model trains .i.e. the model sees and learns from this data to predict the outcome or to make the right decisions.\n",
    "\n",
    "Testing dataset is independent of the training set but has  some similar type of probability distribution of classes and is used as a benchmark to evaluate the model, used only after the training of the model is complete. Testing set is usually a properly organized dataset having all kinds of data for scenarios that the model would probably be facing when used in the real world.\n",
    "\n",
    "The validation set is used to fine-tune the hyperparameters of the model and is considered a part of the training of the model. The model only sees this data for evaluation but does not learn from this data, providing an objective unbiased evaluation of the model. Validation dataset can be utilized for regression as well by interrupting training of model when loss of validation dataset becomes greater than loss of training dataset .i.e. reducing bias and variance"
   ]
  },
  {
   "cell_type": "markdown",
   "id": "4f3077e4-282c-40a1-bc67-dd65420511e3",
   "metadata": {},
   "source": [
    "### Q7- How can unsupervised learning be used in anomaly detection?"
   ]
  },
  {
   "cell_type": "markdown",
   "id": "820da34d-ad15-414b-a86f-4557e3d237f6",
   "metadata": {},
   "source": [
    "This method does not require any training data and instead assumes two things about the data ie Only a small percentage of data is anomalous and Any anomaly is statistically different from the normal samples. Based on the above assumptions, the data is then clustered using a similarity measure and the data points which are far off from the cluster are considered to be anomalies."
   ]
  },
  {
   "cell_type": "markdown",
   "id": "7e5e6068-31a1-4e8f-81e0-001e79588cd2",
   "metadata": {},
   "source": [
    "### Q8- List down some commonly used supervised learning algorithms and unsupervised learning algorithms."
   ]
  },
  {
   "cell_type": "markdown",
   "id": "bb1f908e-1e94-45a2-923d-1cbae2830925",
   "metadata": {},
   "source": [
    "Supervised learning-\n",
    "\n",
    "Linear Regression\n",
    "\n",
    "Logistic Regression\n",
    "\n",
    "Decision Trees\n",
    "\n",
    "Random Forests\n"
   ]
  },
  {
   "cell_type": "code",
   "execution_count": 1,
   "id": "8499cb99-6880-41cd-82cc-3e08cdc27e15",
   "metadata": {},
   "outputs": [
    {
     "ename": "SyntaxError",
     "evalue": "invalid syntax (2505200515.py, line 1)",
     "output_type": "error",
     "traceback": [
      "\u001b[0;36m  Cell \u001b[0;32mIn[1], line 1\u001b[0;36m\u001b[0m\n\u001b[0;31m    Unsupervised learning-\u001b[0m\n\u001b[0m                 ^\u001b[0m\n\u001b[0;31mSyntaxError\u001b[0m\u001b[0;31m:\u001b[0m invalid syntax\n"
     ]
    }
   ],
   "source": [
    "Unsupervised learning-\n",
    "\n",
    "Clustering\n",
    "\n",
    "Exclusive (partitioning)\n",
    "Agglomerative\n",
    "Overlapping\n",
    "Probabilistic\n",
    "Clustering Types:-\n",
    "\n",
    "Hierarchical clustering\n",
    "K-means clustering\n",
    "Principal Component Analysis\n",
    "Singular Value Decomposition\n",
    "Independent Component Analysis"
   ]
  },
  {
   "cell_type": "code",
   "execution_count": null,
   "id": "10e14965-f1ea-4437-aeea-4d4908c23c7f",
   "metadata": {},
   "outputs": [],
   "source": []
  }
 ],
 "metadata": {
  "kernelspec": {
   "display_name": "Python 3 (ipykernel)",
   "language": "python",
   "name": "python3"
  },
  "language_info": {
   "codemirror_mode": {
    "name": "ipython",
    "version": 3
   },
   "file_extension": ".py",
   "mimetype": "text/x-python",
   "name": "python",
   "nbconvert_exporter": "python",
   "pygments_lexer": "ipython3",
   "version": "3.10.8"
  }
 },
 "nbformat": 4,
 "nbformat_minor": 5
}
