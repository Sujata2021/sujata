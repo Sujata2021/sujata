{
 "cells": [
  {
   "cell_type": "markdown",
   "id": "0e781f4d-2d46-499d-b2d2-85b8466a98d6",
   "metadata": {},
   "source": [
    "Q1. How do you comment code in Python? What are the different types of comments?\n",
    "   "
   ]
  },
  {
   "cell_type": "code",
   "execution_count": null,
   "id": "d9ee6b36-3b02-4b9f-9f08-1e62fa411611",
   "metadata": {},
   "outputs": [],
   "source": [
    "# commenting code single line\\n\",\n",
    "    ''' Code\n",
    "    in python,\n",
    "    multiline,singleline'''        #multiline code"
   ]
  },
  {
   "cell_type": "markdown",
   "id": "0b443c69-6dcc-4d07-926e-6c1e4dd23ced",
   "metadata": {},
   "source": [
    "Q2. What are variables in Python? How do you declare and assign values to variables?"
   ]
  },
  {
   "cell_type": "markdown",
   "id": "5363e8f2-4cea-45cc-89db-c82b60a9892d",
   "metadata": {},
   "source": [
    "## Python is a dynamic typing language we don't  need to declare a variable in python,once it is assigned it will start using it"
   ]
  },
  {
   "cell_type": "code",
   "execution_count": 1,
   "id": "197c9b5a-4c3f-457e-ae71-f7079e3391e6",
   "metadata": {},
   "outputs": [],
   "source": [
    "a1=23"
   ]
  },
  {
   "cell_type": "code",
   "execution_count": 2,
   "id": "2c049656-de3b-459b-ba50-8def42f71df3",
   "metadata": {},
   "outputs": [
    {
     "data": {
      "text/plain": [
       "int"
      ]
     },
     "execution_count": 2,
     "metadata": {},
     "output_type": "execute_result"
    }
   ],
   "source": [
    "type(a1)"
   ]
  },
  {
   "cell_type": "code",
   "execution_count": 3,
   "id": "899c3e75-e88b-44a0-9895-d5afb281fab7",
   "metadata": {},
   "outputs": [],
   "source": [
    "a2=2.3"
   ]
  },
  {
   "cell_type": "code",
   "execution_count": 4,
   "id": "d9f8cf4c-b52c-4e48-a732-addd94158f6b",
   "metadata": {},
   "outputs": [
    {
     "data": {
      "text/plain": [
       "float"
      ]
     },
     "execution_count": 4,
     "metadata": {},
     "output_type": "execute_result"
    }
   ],
   "source": [
    "type(a2)"
   ]
  },
  {
   "cell_type": "markdown",
   "id": "29b59efa-a231-4ddd-99e0-bfa2fee21d6c",
   "metadata": {},
   "source": [
    "Q3. How do you convert one data type to another in Python?"
   ]
  },
  {
   "cell_type": "code",
   "execution_count": 8,
   "id": "b3aa6973-61e5-4d6e-b974-17a2982332e3",
   "metadata": {},
   "outputs": [
    {
     "data": {
      "text/plain": [
       "2"
      ]
     },
     "execution_count": 8,
     "metadata": {},
     "output_type": "execute_result"
    }
   ],
   "source": [
    "int(2.5) #typecasting"
   ]
  },
  {
   "cell_type": "code",
   "execution_count": 9,
   "id": "4fcc45f4-75a7-40b8-9e28-f8582bec1730",
   "metadata": {},
   "outputs": [
    {
     "data": {
      "text/plain": [
       "34.0"
      ]
     },
     "execution_count": 9,
     "metadata": {},
     "output_type": "execute_result"
    }
   ],
   "source": [
    "float(34)"
   ]
  },
  {
   "cell_type": "markdown",
   "id": "60449b79-73ef-4484-bd70-ba82c316ad16",
   "metadata": {},
   "source": [
    "Q4. How do you write and execute a Python script from the command line?"
   ]
  },
  {
   "cell_type": "markdown",
   "id": "c61a76c8-0e61-4918-b1b9-6d5854e478a2",
   "metadata": {},
   "source": [
    "Q5. Given a list my_list = [1, 2, 3, 4, 5], write the code to slice the list and obtain the sub-list [2, 3]."
   ]
  },
  {
   "cell_type": "code",
   "execution_count": 10,
   "id": "1472c66e-ea01-4cfd-b93e-7f1a6e1ec3a0",
   "metadata": {},
   "outputs": [],
   "source": [
    "my_list=[1,2,3,4,5]"
   ]
  },
  {
   "cell_type": "code",
   "execution_count": 11,
   "id": "72be7f9f-3ba6-4c17-97f4-ed2f06292fe6",
   "metadata": {},
   "outputs": [
    {
     "data": {
      "text/plain": [
       "[2, 3]"
      ]
     },
     "execution_count": 11,
     "metadata": {},
     "output_type": "execute_result"
    }
   ],
   "source": [
    "my_list[1:3]"
   ]
  },
  {
   "cell_type": "markdown",
   "id": "d675e777-d548-4fc7-a302-5d24c2ff87bf",
   "metadata": {},
   "source": [
    "Q6. What is a complex number in mathematics, and how is it represented in Python?"
   ]
  },
  {
   "cell_type": "markdown",
   "id": "61a1e5ec-b5d7-41e6-8b65-a161c566b8de",
   "metadata": {},
   "source": [
    "# Complex number is a combination of real and imaginary numbers"
   ]
  },
  {
   "cell_type": "code",
   "execution_count": 12,
   "id": "b9266f2b-011a-47cf-8f5e-53fa33093b1e",
   "metadata": {},
   "outputs": [],
   "source": [
    "a=3+4j"
   ]
  },
  {
   "cell_type": "code",
   "execution_count": 13,
   "id": "e030c42c-44c3-461f-8ca2-491550112b56",
   "metadata": {},
   "outputs": [
    {
     "data": {
      "text/plain": [
       "complex"
      ]
     },
     "execution_count": 13,
     "metadata": {},
     "output_type": "execute_result"
    }
   ],
   "source": [
    "type(a)"
   ]
  },
  {
   "cell_type": "markdown",
   "id": "14773b4a-889f-47d3-8920-a6d9eedd4b41",
   "metadata": {},
   "source": [
    "Q7. What is the correct way to declare a variable named age and assign the value 25 to it?"
   ]
  },
  {
   "cell_type": "code",
   "execution_count": 16,
   "id": "cd659931-670c-46a3-aba2-315e76f4d6b0",
   "metadata": {},
   "outputs": [],
   "source": [
    "age=25  #Create a variable name age and assign the value to it"
   ]
  },
  {
   "cell_type": "code",
   "execution_count": 17,
   "id": "35ec2489-36ba-4c97-bc66-308d4494883b",
   "metadata": {},
   "outputs": [
    {
     "data": {
      "text/plain": [
       "25"
      ]
     },
     "execution_count": 17,
     "metadata": {},
     "output_type": "execute_result"
    }
   ],
   "source": [
    "age"
   ]
  },
  {
   "cell_type": "markdown",
   "id": "b483bb4a-4ef3-4ce0-9ba5-3024ffb6bac2",
   "metadata": {},
   "source": [
    "Q8. Declare a variable named price and assign the value 9.99 to it. What data type does this variable belong to?"
   ]
  },
  {
   "cell_type": "code",
   "execution_count": 18,
   "id": "9946a88b-d38f-4b7c-866f-e684819d258d",
   "metadata": {},
   "outputs": [],
   "source": [
    "price=9.99"
   ]
  },
  {
   "cell_type": "code",
   "execution_count": 19,
   "id": "497d6b28-f854-4605-88f7-fbedbdb3435f",
   "metadata": {},
   "outputs": [
    {
     "data": {
      "text/plain": [
       "float"
      ]
     },
     "execution_count": 19,
     "metadata": {},
     "output_type": "execute_result"
    }
   ],
   "source": [
    "type(price)"
   ]
  },
  {
   "cell_type": "markdown",
   "id": "b751e697-7b77-429b-80df-aa073135ace7",
   "metadata": {},
   "source": [
    "Q9. Create a variable named name and assign your full name to it as a string. How would you print the\n",
    "value of this variable?"
   ]
  },
  {
   "cell_type": "code",
   "execution_count": 20,
   "id": "c4a4afdc-914e-4f7a-9eaf-f6c6055c3032",
   "metadata": {},
   "outputs": [],
   "source": [
    "name=\"sujata\""
   ]
  },
  {
   "cell_type": "code",
   "execution_count": 21,
   "id": "cf0036f9-28bf-4409-bae0-6888994010e8",
   "metadata": {},
   "outputs": [
    {
     "name": "stdout",
     "output_type": "stream",
     "text": [
      "sujata\n"
     ]
    }
   ],
   "source": [
    "print(name)   #using print function"
   ]
  },
  {
   "cell_type": "markdown",
   "id": "933b9262-de10-424f-ab92-ddc021356497",
   "metadata": {},
   "source": [
    "Q10. Given the string \"Hello, World!\", extract the substring \"World\"."
   ]
  },
  {
   "cell_type": "code",
   "execution_count": 22,
   "id": "04b0f485-0766-4b5e-be47-a2d44539bdc6",
   "metadata": {},
   "outputs": [],
   "source": [
    "str1=\"Hello, World\""
   ]
  },
  {
   "cell_type": "code",
   "execution_count": 24,
   "id": "081705b7-ee58-4308-b04e-4bcb988d0694",
   "metadata": {},
   "outputs": [
    {
     "data": {
      "text/plain": [
       "'World'"
      ]
     },
     "execution_count": 24,
     "metadata": {},
     "output_type": "execute_result"
    }
   ],
   "source": [
    "str1[7:12]     #using slicing operation"
   ]
  },
  {
   "cell_type": "markdown",
   "id": "710afb0d-d2f7-477b-a5b9-26e5f7cad632",
   "metadata": {},
   "source": [
    "Q11. Create a variable named \"is_student\" and assign it a boolean value indicating whether you are currently a student or not."
   ]
  },
  {
   "cell_type": "code",
   "execution_count": 25,
   "id": "95290028-e854-437e-b295-fe61f82ea4d5",
   "metadata": {},
   "outputs": [],
   "source": [
    "is_student=False"
   ]
  },
  {
   "cell_type": "code",
   "execution_count": 26,
   "id": "b81dfef1-fee6-46ff-a5e0-a55149d4774c",
   "metadata": {},
   "outputs": [
    {
     "data": {
      "text/plain": [
       "bool"
      ]
     },
     "execution_count": 26,
     "metadata": {},
     "output_type": "execute_result"
    }
   ],
   "source": [
    "type(is_student)"
   ]
  },
  {
   "cell_type": "code",
   "execution_count": null,
   "id": "40d6d739-67af-42a9-bb39-455101a6bfbf",
   "metadata": {},
   "outputs": [],
   "source": []
  },
  {
   "cell_type": "code",
   "execution_count": null,
   "id": "fdfc4444-110b-4f5a-8bf0-af033844837c",
   "metadata": {},
   "outputs": [],
   "source": []
  },
  {
   "cell_type": "code",
   "execution_count": null,
   "id": "49e79cc4-35fe-4059-b9e4-f93a74efcd07",
   "metadata": {},
   "outputs": [],
   "source": []
  }
 ],
 "metadata": {
  "kernelspec": {
   "display_name": "Python 3 (ipykernel)",
   "language": "python",
   "name": "python3"
  },
  "language_info": {
   "codemirror_mode": {
    "name": "ipython",
    "version": 3
   },
   "file_extension": ".py",
   "mimetype": "text/x-python",
   "name": "python",
   "nbconvert_exporter": "python",
   "pygments_lexer": "ipython3",
   "version": "3.10.8"
  }
 },
 "nbformat": 4,
 "nbformat_minor": 5
}
