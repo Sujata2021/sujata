{
 "cells": [
  {
   "cell_type": "markdown",
   "id": "ed1b31be-1f79-46e2-b365-29cecf60f83f",
   "metadata": {},
   "source": [
    "Q1. Explain Class and Object with respect to Object-Oriented Programming. Give a suitable example."
   ]
  },
  {
   "cell_type": "markdown",
   "id": "784537e4-5dc8-44e0-b383-31538627288c",
   "metadata": {},
   "source": [
    "Class are user defined data types that act as the blueprint for individual objects and methods"
   ]
  },
  {
   "cell_type": "markdown",
   "id": "130d3f76-6dac-4fb0-bacb-d597d0e7dd7a",
   "metadata": {},
   "source": [
    "Objects are instances of class created with specifically defined data."
   ]
  },
  {
   "cell_type": "code",
   "execution_count": 6,
   "id": "8e0273d9-5ea4-4717-98d9-2003e57ab1cc",
   "metadata": {},
   "outputs": [],
   "source": [
    "class datascience:\n",
    "      def welcome_msg(self):\n",
    "        print(\"Welcome to datascience course\")"
   ]
  },
  {
   "cell_type": "code",
   "execution_count": 7,
   "id": "3a057f00-2906-4d80-97c1-f2291b432033",
   "metadata": {},
   "outputs": [],
   "source": [
    "ds=datascience() # ds is the object of the class datascience"
   ]
  },
  {
   "cell_type": "code",
   "execution_count": 9,
   "id": "1bc4ac65-8cbc-4a10-a012-948983d514d1",
   "metadata": {},
   "outputs": [
    {
     "name": "stdout",
     "output_type": "stream",
     "text": [
      "Welcome to datascience course\n"
     ]
    }
   ],
   "source": [
    "ds.welcome_msg()"
   ]
  },
  {
   "cell_type": "markdown",
   "id": "d750ab6c-f281-4b52-a452-74bdb58135d7",
   "metadata": {},
   "source": [
    "Q2. Name the four pillars of OOPs."
   ]
  },
  {
   "cell_type": "markdown",
   "id": "87f47b6a-af9d-4670-a668-f1445a466769",
   "metadata": {},
   "source": [
    "a. Abstraction.\n",
    "b. Encapsulation.\n",
    "c. Inheritance.\n",
    "d. Polymorphism."
   ]
  },
  {
   "cell_type": "markdown",
   "id": "10bc5cf1-dd34-4532-a97f-4a91c7428f05",
   "metadata": {},
   "source": [
    "Q3. Explain why the __init__() function is used. Give a suitable example."
   ]
  },
  {
   "cell_type": "markdown",
   "id": "bbb1819a-c67c-49cd-bfdf-47965d433605",
   "metadata": {},
   "source": [
    "__init__method is used as a constructor in python which initialize the object's  attribute."
   ]
  },
  {
   "cell_type": "code",
   "execution_count": 10,
   "id": "fe567256-5139-4913-83b4-f38e5e7a1fc4",
   "metadata": {},
   "outputs": [],
   "source": [
    "class datascience:\n",
    "    def __init__(self,name,ph):\n",
    "        self.name=name\n",
    "        self.ph=ph\n",
    "        \n",
    "    def student_details(self):\n",
    "        print(self.name,self.ph)"
   ]
  },
  {
   "cell_type": "code",
   "execution_count": 11,
   "id": "09ccbe36-9974-4a2b-a8e9-7059e1c2cc71",
   "metadata": {},
   "outputs": [],
   "source": [
    "ds=datascience(\"sujata\",\"6289588150\")"
   ]
  },
  {
   "cell_type": "code",
   "execution_count": 13,
   "id": "9f3ac685-2cf6-4ad4-a821-be7025cc3af8",
   "metadata": {},
   "outputs": [
    {
     "data": {
      "text/plain": [
       "'sujata'"
      ]
     },
     "execution_count": 13,
     "metadata": {},
     "output_type": "execute_result"
    }
   ],
   "source": [
    "ds.name"
   ]
  },
  {
   "cell_type": "code",
   "execution_count": 14,
   "id": "2e952929-bd34-4de4-b019-594ba5535d0b",
   "metadata": {},
   "outputs": [
    {
     "data": {
      "text/plain": [
       "'6289588150'"
      ]
     },
     "execution_count": 14,
     "metadata": {},
     "output_type": "execute_result"
    }
   ],
   "source": [
    "ds.ph"
   ]
  },
  {
   "cell_type": "markdown",
   "id": "3a24e464-55a8-4f55-862c-3c54a3265f71",
   "metadata": {},
   "source": [
    "Q4. Why self is used in OOPs?"
   ]
  },
  {
   "cell_type": "markdown",
   "id": "89f41816-db26-44c2-8340-ad7d568d0fc3",
   "metadata": {},
   "source": [
    "Self is used as pointer to access variables and methods of a defined class in python."
   ]
  },
  {
   "cell_type": "markdown",
   "id": "b157866d-b35c-4515-abc3-a6488154dc69",
   "metadata": {},
   "source": [
    "Q5. What is inheritance? Give an example for each type of inheritance."
   ]
  },
  {
   "cell_type": "markdown",
   "id": "ef8af090-2b59-4912-a164-fdf7b2864f6a",
   "metadata": {},
   "source": [
    "Inheritance is the mechanism through which child class inherits the property from the parent class"
   ]
  },
  {
   "cell_type": "code",
   "execution_count": null,
   "id": "c730b79e-f95e-4e12-b98e-fd3945aa19ab",
   "metadata": {},
   "outputs": [],
   "source": []
  },
  {
   "cell_type": "code",
   "execution_count": null,
   "id": "a3b97935-4e08-4169-91b7-86bab2c0dc7f",
   "metadata": {},
   "outputs": [],
   "source": []
  },
  {
   "cell_type": "code",
   "execution_count": null,
   "id": "df9f2cfc-635b-4f5b-81a6-a227b742ec09",
   "metadata": {},
   "outputs": [],
   "source": []
  },
  {
   "cell_type": "code",
   "execution_count": null,
   "id": "54b5e1de-aac8-4894-b6e2-e107cd3c35e5",
   "metadata": {},
   "outputs": [],
   "source": []
  },
  {
   "cell_type": "code",
   "execution_count": null,
   "id": "0124cd29-9f2a-46bf-94f3-03b4bd5001bf",
   "metadata": {},
   "outputs": [],
   "source": []
  },
  {
   "cell_type": "code",
   "execution_count": null,
   "id": "d8e14882-559d-4bfc-ac13-a60402366fb5",
   "metadata": {},
   "outputs": [],
   "source": []
  }
 ],
 "metadata": {
  "kernelspec": {
   "display_name": "Python 3 (ipykernel)",
   "language": "python",
   "name": "python3"
  },
  "language_info": {
   "codemirror_mode": {
    "name": "ipython",
    "version": 3
   },
   "file_extension": ".py",
   "mimetype": "text/x-python",
   "name": "python",
   "nbconvert_exporter": "python",
   "pygments_lexer": "ipython3",
   "version": "3.10.8"
  }
 },
 "nbformat": 4,
 "nbformat_minor": 5
}
