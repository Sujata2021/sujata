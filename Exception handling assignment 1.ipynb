{
 "cells": [
  {
   "cell_type": "markdown",
   "id": "71b44e7c-e252-4c85-b0e1-25d552a8944f",
   "metadata": {},
   "source": [
    "Q1. What is an Exception in python? Write the difference between Exceptions and syntax errors?"
   ]
  },
  {
   "cell_type": "markdown",
   "id": "4e3aca1e-d0e9-4a0f-be60-509dd4b0000a",
   "metadata": {},
   "source": [
    "Exception is an event which occurs during the execution that disrupts the normal flow of the programme's instructions."
   ]
  },
  {
   "cell_type": "markdown",
   "id": "c4856b85-8060-483a-959a-ca03c847bdbd",
   "metadata": {},
   "source": [
    "Syntax error happens in the compile time where as exception occurs in the run time"
   ]
  },
  {
   "cell_type": "markdown",
   "id": "2f01dd12-6dab-4b09-a9ee-5276c276670e",
   "metadata": {},
   "source": [
    "Q2. What happens when an exception is not handled? Explain with an example?"
   ]
  },
  {
   "cell_type": "markdown",
   "id": "bb9a451f-a27f-4288-9278-f36ddf205366",
   "metadata": {},
   "source": [
    "If an exception is not handled the flow of the entire program will be disrupted.No other line will be executed after that which stops the program."
   ]
  },
  {
   "cell_type": "code",
   "execution_count": 1,
   "id": "9e5e2fdd-870f-4a99-b048-554ff5e09ded",
   "metadata": {},
   "outputs": [
    {
     "name": "stdin",
     "output_type": "stream",
     "text": [
      "Enter a positive number 5\n"
     ]
    },
    {
     "ename": "ZeroDivisionError",
     "evalue": "division by zero",
     "output_type": "error",
     "traceback": [
      "\u001b[0;31m---------------------------------------------------------------------------\u001b[0m",
      "\u001b[0;31mZeroDivisionError\u001b[0m                         Traceback (most recent call last)",
      "Cell \u001b[0;32mIn[1], line 2\u001b[0m\n\u001b[1;32m      1\u001b[0m a\u001b[38;5;241m=\u001b[39m\u001b[38;5;28mint\u001b[39m(\u001b[38;5;28minput\u001b[39m(\u001b[38;5;124m\"\u001b[39m\u001b[38;5;124mEnter a positive number\u001b[39m\u001b[38;5;124m\"\u001b[39m))\n\u001b[0;32m----> 2\u001b[0m \u001b[43ma\u001b[49m\u001b[38;5;241;43m/\u001b[39;49m\u001b[38;5;241;43m0\u001b[39;49m\n\u001b[1;32m      3\u001b[0m \u001b[38;5;28;01mif\u001b[39;00m a\u001b[38;5;241m>\u001b[39m\u001b[38;5;241m0\u001b[39m:\n\u001b[1;32m      4\u001b[0m     \u001b[38;5;28mprint\u001b[39m(\u001b[38;5;124m\"\u001b[39m\u001b[38;5;124mPositive\u001b[39m\u001b[38;5;124m\"\u001b[39m)\n",
      "\u001b[0;31mZeroDivisionError\u001b[0m: division by zero"
     ]
    }
   ],
   "source": [
    "a=int(input(\"Enter a positive number\"))\n",
    "a/0\n",
    "if a>0:\n",
    "    print(\"Positive\")\n",
    "else:\n",
    "    print(\"Negative\")"
   ]
  },
  {
   "cell_type": "markdown",
   "id": "89435524-2e06-4b07-9b31-a186701dbdda",
   "metadata": {},
   "source": [
    "In the above program the if else block is not executed due tozero division error"
   ]
  },
  {
   "cell_type": "markdown",
   "id": "adbdb94e-2f74-455d-b70d-cd6a9f407291",
   "metadata": {},
   "source": [
    "Q3. Which Python statements are used to catch and handle exceptions? Explain with an example?"
   ]
  },
  {
   "cell_type": "markdown",
   "id": "724f8109-d3d0-4acd-bb24-562254734ccc",
   "metadata": {},
   "source": [
    "1. Try\n",
    "2. else\n",
    "3. Finally\n",
    "4. Raise"
   ]
  },
  {
   "cell_type": "markdown",
   "id": "e177a55f-05a6-44dc-9f4c-6c0c6f0e2001",
   "metadata": {},
   "source": [
    "Q4. Explain with an example:\n",
    "\n",
    "a.try and else\n",
    "\n",
    "b.finally\n",
    "\n",
    "c.raise"
   ]
  },
  {
   "cell_type": "code",
   "execution_count": 2,
   "id": "a5dd488e-c6bf-428c-b36f-2841bdc605db",
   "metadata": {},
   "outputs": [
    {
     "name": "stdout",
     "output_type": "stream",
     "text": [
      "This block will execute once try will execute itself without an exception\n"
     ]
    }
   ],
   "source": [
    "try:\n",
    "    f = open( \"tst.txt\" , 'w' )\n",
    "    f.write(\"this is my msg\")\n",
    "except Exception as e:\n",
    "    print(\"There is some issue with my code\",e)\n",
    "else:\n",
    "    f.close()\n",
    "    print(\"This block will execute once try will execute itself without an exception\")"
   ]
  },
  {
   "cell_type": "code",
   "execution_count": 3,
   "id": "db246fe1-ad9e-4abc-bcae-299dc29c9d41",
   "metadata": {},
   "outputs": [
    {
     "name": "stdout",
     "output_type": "stream",
     "text": [
      "There is some issue with my code not writable\n",
      "I will always execute\n"
     ]
    }
   ],
   "source": [
    "try:\n",
    "    f = open( \"tst.txt\" , 'r' )\n",
    "    f.write(\"This is my msg\")\n",
    "except Exception as e:\n",
    "    print(\"There is some issue with my code\",e)\n",
    "else:\n",
    "    f.close()\n",
    "    print(\"This block will execute once try will execute itself without an exception\")\n",
    "finally:\n",
    "    print(\"I will always execute\")"
   ]
  },
  {
   "cell_type": "code",
   "execution_count": 4,
   "id": "945da276-72e3-446c-b75c-fb58eaecc190",
   "metadata": {},
   "outputs": [
    {
     "ename": "ValueError",
     "evalue": "String can't be changed into integer",
     "output_type": "error",
     "traceback": [
      "\u001b[0;31m---------------------------------------------------------------------------\u001b[0m",
      "\u001b[0;31mValueError\u001b[0m                                Traceback (most recent call last)",
      "Cell \u001b[0;32mIn[4], line 4\u001b[0m\n\u001b[1;32m      3\u001b[0m \u001b[38;5;28;01mtry\u001b[39;00m:\n\u001b[0;32m----> 4\u001b[0m     num \u001b[38;5;241m=\u001b[39m \u001b[38;5;28;43mint\u001b[39;49m\u001b[43m(\u001b[49m\u001b[43ms\u001b[49m\u001b[43m)\u001b[49m\n\u001b[1;32m      5\u001b[0m \u001b[38;5;28;01mexcept\u001b[39;00m \u001b[38;5;167;01mValueError\u001b[39;00m:\n",
      "\u001b[0;31mValueError\u001b[0m: invalid literal for int() with base 10: 'mango'",
      "\nDuring handling of the above exception, another exception occurred:\n",
      "\u001b[0;31mValueError\u001b[0m                                Traceback (most recent call last)",
      "Cell \u001b[0;32mIn[4], line 6\u001b[0m\n\u001b[1;32m      4\u001b[0m     num \u001b[38;5;241m=\u001b[39m \u001b[38;5;28mint\u001b[39m(s)\n\u001b[1;32m      5\u001b[0m \u001b[38;5;28;01mexcept\u001b[39;00m \u001b[38;5;167;01mValueError\u001b[39;00m:\n\u001b[0;32m----> 6\u001b[0m     \u001b[38;5;28;01mraise\u001b[39;00m \u001b[38;5;167;01mValueError\u001b[39;00m(\u001b[38;5;124m\"\u001b[39m\u001b[38;5;124mString can\u001b[39m\u001b[38;5;124m'\u001b[39m\u001b[38;5;124mt be changed into integer\u001b[39m\u001b[38;5;124m\"\u001b[39m)\n",
      "\u001b[0;31mValueError\u001b[0m: String can't be changed into integer"
     ]
    }
   ],
   "source": [
    "s = 'mango'\n",
    "  \n",
    "try:\n",
    "    num = int(s)\n",
    "except ValueError:\n",
    "    raise ValueError(\"String can't be changed into integer\")"
   ]
  },
  {
   "cell_type": "markdown",
   "id": "1d6bdbf6-fa34-4319-a51f-87c5df118b73",
   "metadata": {},
   "source": [
    "Q5. What are Custom Exceptions in python? Why do we need Custom Exceptions? Explain with an example?"
   ]
  },
  {
   "cell_type": "markdown",
   "id": "7dc5c221-b478-47c6-8732-afa689af2323",
   "metadata": {},
   "source": [
    "Custom exceptions are user defined exception which the user defined according to the requirement of project based on different scenario by using a raise keyword."
   ]
  },
  {
   "cell_type": "markdown",
   "id": "80abcbff-bb4f-434e-8dc4-87e2f930b41f",
   "metadata": {},
   "source": [
    "Custom exceptions add information about project related problems that can be handled only by custom exception according to project requirement."
   ]
  },
  {
   "cell_type": "code",
   "execution_count": 9,
   "id": "7f960d8c-76a7-43a0-bd25-12f762b59c4a",
   "metadata": {},
   "outputs": [
    {
     "ename": "CustomError",
     "evalue": "Example of Custom Exceptions in Python",
     "output_type": "error",
     "traceback": [
      "\u001b[0;31m---------------------------------------------------------------------------\u001b[0m",
      "\u001b[0;31mCustomError\u001b[0m                               Traceback (most recent call last)",
      "Cell \u001b[0;32mIn[9], line 3\u001b[0m\n\u001b[1;32m      1\u001b[0m \u001b[38;5;28;01mclass\u001b[39;00m \u001b[38;5;21;01mCustomError\u001b[39;00m(\u001b[38;5;167;01mException\u001b[39;00m):\n\u001b[1;32m      2\u001b[0m     \u001b[38;5;28;01mpass\u001b[39;00m\n\u001b[0;32m----> 3\u001b[0m \u001b[38;5;28;01mraise\u001b[39;00m CustomError(\u001b[38;5;124m\"\u001b[39m\u001b[38;5;124mExample of Custom Exceptions in Python\u001b[39m\u001b[38;5;124m\"\u001b[39m)\n",
      "\u001b[0;31mCustomError\u001b[0m: Example of Custom Exceptions in Python"
     ]
    }
   ],
   "source": [
    "class CustomError(Exception):\n",
    "    pass\n",
    "raise CustomError(\"Example of Custom Exceptions in Python\")"
   ]
  },
  {
   "cell_type": "markdown",
   "id": "9bd9f315-1933-4776-a18c-baa63e3114d8",
   "metadata": {},
   "source": [
    "Q6. Create custom exception class. Use this class to handle an exception.\n",
    "\n"
   ]
  },
  {
   "cell_type": "code",
   "execution_count": 1,
   "id": "bcfa719e-7a55-49d1-8bab-0cdc610b443f",
   "metadata": {},
   "outputs": [],
   "source": [
    "class validateheight(Exception):\n",
    "    def __init__(self,msg):\n",
    "        self.msg=msg"
   ]
  },
  {
   "cell_type": "code",
   "execution_count": 5,
   "id": "b7a58d65-cc65-4ac4-beb4-a6272147cf96",
   "metadata": {},
   "outputs": [],
   "source": [
    "def validate_height(height):\n",
    "    if height<0:\n",
    "        raise validateheight(\"height should not be lesser than zero\")\n",
    "    elif height>200:\n",
    "        raise validateheight(\"height is too high\")\n",
    "    else:\n",
    "        print(\"height is valid\") "
   ]
  },
  {
   "cell_type": "code",
   "execution_count": 7,
   "id": "916b86b1-3606-4833-ba1b-41616ebdb5b7",
   "metadata": {},
   "outputs": [
    {
     "name": "stdin",
     "output_type": "stream",
     "text": [
      "Enter your height -153\n"
     ]
    },
    {
     "name": "stdout",
     "output_type": "stream",
     "text": [
      "height should not be lesser than zero\n"
     ]
    }
   ],
   "source": [
    "try:\n",
    "    height=int(input(\"Enter your height\"))\n",
    "    validate_height(height)\n",
    "except validateheight as e:\n",
    "     print(e)\n",
    "    "
   ]
  },
  {
   "cell_type": "markdown",
   "id": "c6f82df2-66e5-42b1-889e-6893d2cc005d",
   "metadata": {},
   "source": [
    "Q6. Create custom exception class. Use this class to handle an exception."
   ]
  },
  {
   "cell_type": "code",
   "execution_count": null,
   "id": "a385a669-7972-496a-bd5d-8f676cd76c5f",
   "metadata": {},
   "outputs": [],
   "source": []
  }
 ],
 "metadata": {
  "kernelspec": {
   "display_name": "Python 3 (ipykernel)",
   "language": "python",
   "name": "python3"
  },
  "language_info": {
   "codemirror_mode": {
    "name": "ipython",
    "version": 3
   },
   "file_extension": ".py",
   "mimetype": "text/x-python",
   "name": "python",
   "nbconvert_exporter": "python",
   "pygments_lexer": "ipython3",
   "version": "3.10.8"
  }
 },
 "nbformat": 4,
 "nbformat_minor": 5
}
