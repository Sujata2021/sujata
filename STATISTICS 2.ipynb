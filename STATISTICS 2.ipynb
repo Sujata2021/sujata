{
 "cells": [
  {
   "cell_type": "markdown",
   "id": "d5ed8def-6780-4184-8cc3-0e9ba3bfb010",
   "metadata": {},
   "source": [
    "## Q1. What are the three measures of central tendency?"
   ]
  },
  {
   "cell_type": "markdown",
   "id": "27d0a9ee-05bc-4a01-b35e-f14c1b25bac6",
   "metadata": {},
   "source": [
    "The three measures of central tendency:-\n",
    "\n",
    "a. Mean\n",
    "\n",
    "b.Median\n",
    "\n",
    "c.Mode"
   ]
  },
  {
   "cell_type": "markdown",
   "id": "f4e63b2a-3c09-4b10-92d0-93cbbcb80330",
   "metadata": {},
   "source": [
    "## Q2. What is the difference between the mean, median, and mode? How are they used to measure the central tendency of a dataset?"
   ]
  },
  {
   "cell_type": "markdown",
   "id": "cd7b185f-2966-444c-a229-10a17db555d1",
   "metadata": {},
   "source": [
    "Mean-The average taken for a set of numbers is called a mean.\n",
    "\n",
    "Median-The middle value in the data set is called the Median.\n",
    "\n",
    "Mode-The number that occurs the most in a given list of numbers is called a mode.\n",
    "\n",
    "Mean -Add all of the numbers together and divide the sum by the total number of values.\t\n",
    "\n",
    "Median-Place all the given numbers in an ascending order\n",
    "\n",
    "Mode-It shows the frequency of occurrence.\n",
    "\n",
    "Mean-The result is the mean or average score.\n",
    "\n",
    "Median-The next step is to find the middle number on the list. It is called the median.\n",
    "\n",
    "Mode-We can have more than one mode or no mode at all."
   ]
  },
  {
   "cell_type": "markdown",
   "id": "c1ff6068-ebd7-4799-8dee-ac6a4fc9f726",
   "metadata": {},
   "source": [
    "Q3. Measure the three measures of central tendency for the given height data:\n",
    "    \n",
    "[178,177,176,177,178.2,178,175,179,180,175,178.9,176.2,177,172.5,178,176.5]"
   ]
  },
  {
   "cell_type": "code",
   "execution_count": 1,
   "id": "96d9b6e7-7f8f-479f-8795-47d105082587",
   "metadata": {},
   "outputs": [],
   "source": [
    "a=[178,177,176,177,178.2,178,175,179,180,175,178.9,176.2,177,172.5,178,176.5]"
   ]
  },
  {
   "cell_type": "code",
   "execution_count": 5,
   "id": "232163e9-1a85-47c0-aaa8-415c156deed8",
   "metadata": {},
   "outputs": [
    {
     "data": {
      "text/plain": [
       "177.01875"
      ]
     },
     "execution_count": 5,
     "metadata": {},
     "output_type": "execute_result"
    }
   ],
   "source": [
    "import numpy as np\n",
    "np.mean(a)"
   ]
  },
  {
   "cell_type": "code",
   "execution_count": 6,
   "id": "1eaa92bf-a0b3-4f51-a37b-c46c1d888f50",
   "metadata": {},
   "outputs": [
    {
     "data": {
      "text/plain": [
       "177.0"
      ]
     },
     "execution_count": 6,
     "metadata": {},
     "output_type": "execute_result"
    }
   ],
   "source": [
    "np.median(a)"
   ]
  },
  {
   "cell_type": "code",
   "execution_count": 12,
   "id": "d412d5c6-4a8b-4e0e-a131-a729f8b7f4c6",
   "metadata": {},
   "outputs": [
    {
     "name": "stderr",
     "output_type": "stream",
     "text": [
      "/tmp/ipykernel_1002/2987384853.py:2: FutureWarning: Unlike other reduction functions (e.g. `skew`, `kurtosis`), the default behavior of `mode` typically preserves the axis it acts along. In SciPy 1.11.0, this behavior will change: the default value of `keepdims` will become False, the `axis` over which the statistic is taken will be eliminated, and the value None will no longer be accepted. Set `keepdims` to True or False to avoid this warning.\n",
      "  st.mode(np.array(a))\n"
     ]
    },
    {
     "data": {
      "text/plain": [
       "ModeResult(mode=array([177.]), count=array([3]))"
      ]
     },
     "execution_count": 12,
     "metadata": {},
     "output_type": "execute_result"
    }
   ],
   "source": [
    "from scipy import stats as st\n",
    "st.mode(np.array(a))"
   ]
  },
  {
   "cell_type": "code",
   "execution_count": 13,
   "id": "735b1847-ff96-49b0-95ed-8b6e8ae67a07",
   "metadata": {},
   "outputs": [
    {
     "data": {
      "text/plain": [
       "1.7885814036548633"
      ]
     },
     "execution_count": 13,
     "metadata": {},
     "output_type": "execute_result"
    }
   ],
   "source": [
    "np.std(a)"
   ]
  },
  {
   "cell_type": "markdown",
   "id": "4c2a7311-8129-4296-ba1a-b1701f65e66d",
   "metadata": {},
   "source": [
    "## Q5. How are measures of dispersion such as range, variance, and standard deviation used to describe the spread of a dataset? Provide an example."
   ]
  },
  {
   "cell_type": "markdown",
   "id": "eedbd736-f086-489e-8b7d-92ecca3e2e4e",
   "metadata": {},
   "source": [
    "The range of the data is given as the difference between the maximum and the minimum values of the observations in the data. For example, let’s say we have data on the number of customers walking in the store in a week. \n",
    "\n",
    "10, 14, 8, 10, 15, 4, 7\n",
    "\n",
    "Minimum value in data = 7 \n",
    "\n",
    "Maximum Value in the data = 15\n",
    "\n",
    "Range = Maximum Value in the data – Minimum value in the data  \n",
    "\n",
    "           = 15 – 7 \n",
    "\n",
    "           = 8 \n",
    "\n",
    "Now we can say that the range of the data is 8. This gives us an idea about the spread of the data but doesn’t tell how the data is distributed. "
   ]
  },
  {
   "cell_type": "markdown",
   "id": "7f11f072-08de-4918-b171-56cb4e35df5b",
   "metadata": {},
   "source": [
    "The variance of the data is given by measuring the distance of the observed values from the mean of the distribution. Here we are not concerned with the sign of the distance of the point, we are more interested in the magnitude. So, we take squares of the distance from the mean. "
   ]
  },
  {
   "cell_type": "markdown",
   "id": "cae2a85e-7f7c-4e69-b958-a3c021c4da49",
   "metadata": {},
   "source": [
    "In the calculation of variance, notice that the units of the variance and the unit of the observations are not the same. So, to remove this problem, we define standard deviation. "
   ]
  },
  {
   "cell_type": "markdown",
   "id": "79655281-d8ec-4218-8120-504d4b543f12",
   "metadata": {},
   "source": [
    "## Q6. What is a Venn diagram?"
   ]
  },
  {
   "cell_type": "markdown",
   "id": "59ff8d0e-29a7-4a76-95ca-35c820152e87",
   "metadata": {},
   "source": [
    "A Venn diagram is an illustration that uses circles to show the relationships among things or finite groups of things."
   ]
  },
  {
   "cell_type": "markdown",
   "id": "daf51e95-680b-4049-b0f3-f82f7fbbea6e",
   "metadata": {},
   "source": [
    "## 7. For the two given sets A = (2,3,4,5,6,7) & B = (0,2,6,8,10). Find:\n",
    "(i) A B\n",
    "(ii) A ⋃ B"
   ]
  },
  {
   "cell_type": "code",
   "execution_count": 26,
   "id": "60395d58-bc78-4878-933b-a6e361d234b7",
   "metadata": {},
   "outputs": [],
   "source": [
    "A = {2,3,4,5,6,7}\n",
    "B = {0,2,6,8,10}"
   ]
  },
  {
   "cell_type": "markdown",
   "id": "a92f7e0c-a74a-427a-a22c-f6d4299f4cea",
   "metadata": {},
   "source": [
    "A|B"
   ]
  },
  {
   "cell_type": "code",
   "execution_count": 29,
   "id": "29f345b6-e58e-4470-bc10-7535e213858d",
   "metadata": {},
   "outputs": [
    {
     "data": {
      "text/plain": [
       "{2, 6}"
      ]
     },
     "execution_count": 29,
     "metadata": {},
     "output_type": "execute_result"
    }
   ],
   "source": [
    "A&B"
   ]
  },
  {
   "cell_type": "markdown",
   "id": "3ab4e854-def1-4b77-9ec4-1006b3c01182",
   "metadata": {},
   "source": [
    "## Q8. What do you understand about skewness in data?"
   ]
  },
  {
   "cell_type": "markdown",
   "id": "b2c84f13-2813-4039-9e15-3f6166e142c1",
   "metadata": {},
   "source": [
    "Skewness is demonstrated on a bell curve when data points are not distributed symmetrically to the left and right sides of the median on a bell curve. If the bell curve is shifted to the left or the right, it is said to be skewed."
   ]
  },
  {
   "cell_type": "markdown",
   "id": "28b61695-5866-47e0-a236-e042f6d5eab7",
   "metadata": {},
   "source": [
    "## Q9. If a data is right skewed then what will be the position of median with respect to mean?"
   ]
  },
  {
   "cell_type": "markdown",
   "id": "e604a123-0199-4b16-8b2f-843fc53231ea",
   "metadata": {},
   "source": [
    "The mean of a right-skewed distribution is almost always greater than its median. That’s because extreme values (the values in the tail) affect the mean more than the median."
   ]
  },
  {
   "cell_type": "markdown",
   "id": "77a5fc34-ac43-4d39-a4e0-c420b828793f",
   "metadata": {},
   "source": [
    "## Q10. Explain the difference between covariance and correlation. How are these measures used in statistical analysis?"
   ]
  },
  {
   "cell_type": "markdown",
   "id": "220cc115-95df-47b0-a823-c56cc661f324",
   "metadata": {},
   "source": [
    "The key differences between covariance and correlation can be summarized as follows:\n",
    "\n",
    "What do they measure? Covariance measures whether a variation in one variable results in a variation in another variable; for example, looking at whether an increase in one variable results in an increase, decrease, or no change in the other variable. Correlation measures the direction as well as the strength of the relationship between two variables (i.e. how strongly these two variables are related to each other).\n",
    "Relationship constraints: Covariance deals with the linear relationship of only two variables in the dataset, whereas correlation can involve two or multiple variables or data sets and their linear relationships.\n",
    "\n",
    "Value range: Although both correlation coefficient and covariance are measures of linear association, correlation coefficients are standardized, therefore displaying an absolute value within a definite range from -1 to 1. On the other hand, covariance values are not standardized and use an indefinite range from -∞ to +∞ , which makes the interpretation of covariance a bit tricky.\n",
    "\n",
    "Measurement units: Correlation is dimensionless, i.e. it is a unit-free measure of the relationship between variables. In contrast,  covariance is in units, which is formed by multiplying the unit of one variable by the unit of another variable.\n",
    "\n",
    "Change in scale: Covariance is affected by the change in scale, i.e. if all the values of one variable are multiplied by a constant and all the values of another variable are multiplied by a similar or different constant, then the covariance is changed. Conversely, correlation is not affected by the change in scale."
   ]
  },
  {
   "cell_type": "markdown",
   "id": "2d275342-f4eb-475d-bd4b-c5660c37af26",
   "metadata": {},
   "source": [
    "## Q11. What is the formula for calculating the sample mean? Provide an example calculation for a dataset."
   ]
  },
  {
   "cell_type": "markdown",
   "id": "b72f5157-b2ee-4adc-897a-176a507df235",
   "metadata": {},
   "source": [
    "The sample mean for a data set is defined as the sum of all the terms divided by the total number of terms. It is denoted by the symbol x̄.\n",
    "\n",
    "x̄ = Σxi / n\n",
    "\n",
    "where,\n",
    "\n",
    " Σxi is the sum of terms in the sample,\n",
    "\n",
    "n is the number of terms in the sample."
   ]
  },
  {
   "cell_type": "markdown",
   "id": "4f857239-5809-483d-bcb8-53399e37373e",
   "metadata": {},
   "source": [
    "Find the sample mean of the data 15, 20, 72, 43, and 21.\n",
    "\n",
    "Solution:\n",
    "\n",
    "We have the sample, 15, 20, 72, 43, 21\n",
    "\n",
    "Sum of terms(S) = 15 + 20+ 72 + 43 + 21 = 171\n",
    "\n",
    "Number of terms(n) = 5\n",
    "\n",
    "Using the formula for sample mean, we get\n",
    "\n",
    "x̄ = S/n\n",
    "\n",
    "= 171/5\n",
    "\n",
    "= 34.2"
   ]
  },
  {
   "cell_type": "markdown",
   "id": "5f7751d3-e64a-4ddd-ab7c-dfeccdb361d3",
   "metadata": {},
   "source": [
    "## Q12. For a normal distribution data what is the relationship between its measure of central tendency?"
   ]
  },
  {
   "cell_type": "markdown",
   "id": "e6ce6006-e17a-4ce5-94c6-b97cdd37174a",
   "metadata": {},
   "source": [
    "For normally distributed data, all three measures of central tendency will give you the same answer so they can all be used,mean=median=mode."
   ]
  },
  {
   "cell_type": "markdown",
   "id": "e3840fa2-b788-4941-9551-94c33150c3d9",
   "metadata": {},
   "source": [
    "## Q13. How is covariance different from correlation?"
   ]
  },
  {
   "cell_type": "markdown",
   "id": "81f36aef-5510-45dc-ad65-a5f9b07c3fa5",
   "metadata": {},
   "source": [
    "**Definition\n",
    "\n",
    "Covariance is an indicator of the extent to which 2 random variables are dependent on each other. A higher number denotes higher dependency.\n",
    "\n",
    "Correlation is a statistical measure that indicates how strongly two variables are related.\n",
    "\n",
    "**Values\n",
    "\n",
    "The value of covariance lies in the range of -∞ and +∞.\n",
    "\n",
    "Correlation is limited to values between the range -1 and +1\n",
    "\n",
    "**Change in scale\n",
    "\n",
    "Affects covariance\n",
    "\n",
    "Does not affect the correlation\n",
    "\n",
    "**Unit-free measure\n",
    "\n",
    "No\n",
    "\n",
    "Yes"
   ]
  },
  {
   "cell_type": "markdown",
   "id": "4a8a773f-93c1-42fd-9394-d91aa7b23aef",
   "metadata": {},
   "source": [
    "### Q14. How do outliers affect measures of central tendency and dispersion? Provide an example."
   ]
  },
  {
   "cell_type": "markdown",
   "id": "5b7833b8-f7d3-4ea0-90f9-503730596f97",
   "metadata": {},
   "source": [
    "55, 88, 89, 90, 94\n",
    "\n",
    "With the Outlier 55\n",
    "\n",
    "55+88+89+90+94 = 416\n",
    "416 / 5 = 83.2\n",
    "The mean is 83.2.\n",
    "55, 88, 89, 90, 94\n",
    "The median is 89. There is no mod"
   ]
  },
  {
   "cell_type": "markdown",
   "id": "b678b267-a0f9-458c-9762-c2ba23185640",
   "metadata": {},
   "source": [
    " 88, 89, 90, 94\n",
    " \n",
    "Without the Outlier\n",
    "\n",
    "88+89+90+94 = 361\n",
    "\n",
    "361 /4 =90.25\n",
    "\n",
    "The mean is 90.25.\n",
    "\n",
    " 88, 89, 90, 94\n",
    " \n",
    "The median is 89. There is no mod"
   ]
  },
  {
   "cell_type": "code",
   "execution_count": null,
   "id": "b294610f-c88d-482c-9cbd-d5af001f72c7",
   "metadata": {},
   "outputs": [],
   "source": []
  }
 ],
 "metadata": {
  "kernelspec": {
   "display_name": "Python 3 (ipykernel)",
   "language": "python",
   "name": "python3"
  },
  "language_info": {
   "codemirror_mode": {
    "name": "ipython",
    "version": 3
   },
   "file_extension": ".py",
   "mimetype": "text/x-python",
   "name": "python",
   "nbconvert_exporter": "python",
   "pygments_lexer": "ipython3",
   "version": "3.10.8"
  }
 },
 "nbformat": 4,
 "nbformat_minor": 5
}
