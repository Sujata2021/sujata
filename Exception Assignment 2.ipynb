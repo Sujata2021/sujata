{
 "cells": [
  {
   "cell_type": "markdown",
   "id": "320f356e-c1d3-4a7c-a209-06431c32b9f6",
   "metadata": {},
   "source": [
    "Q1. Explain why we have to use the Exception class while creating a Custom Exception."
   ]
  },
  {
   "cell_type": "markdown",
   "id": "1fb28c35-f562-4104-b914-49545dbe18d1",
   "metadata": {},
   "source": [
    "Built in exception class include all the  information abut python related problems.Creating a custom exception include all the exceptions of project related problems that combines with the python code and language of the project  "
   ]
  },
  {
   "cell_type": "markdown",
   "id": "9bdc190a-ede2-4423-9a78-7cfa3abc5807",
   "metadata": {},
   "source": [
    "Q2. Write a python program to print Python Exception Hierarchy."
   ]
  },
  {
   "cell_type": "markdown",
   "id": "27d8ab57-76b7-48ee-897f-4be4e18aee69",
   "metadata": {},
   "source": [
    "Q3. What errors are defined in the ArithmeticError class? Explain any two with an example."
   ]
  },
  {
   "cell_type": "markdown",
   "id": "38c8ab79-86c7-40e4-a57b-d91b415eef46",
   "metadata": {},
   "source": [
    "a.Zero Division Error\n",
    "b.Floating point error"
   ]
  },
  {
   "cell_type": "code",
   "execution_count": 1,
   "id": "b3b24bb6-0cb9-4fb5-a02d-e758f21daefc",
   "metadata": {},
   "outputs": [
    {
     "ename": "ZeroDivisionError",
     "evalue": "division by zero",
     "output_type": "error",
     "traceback": [
      "\u001b[0;31m---------------------------------------------------------------------------\u001b[0m",
      "\u001b[0;31mZeroDivisionError\u001b[0m                         Traceback (most recent call last)",
      "Cell \u001b[0;32mIn[1], line 1\u001b[0m\n\u001b[0;32m----> 1\u001b[0m \u001b[38;5;241;43m5\u001b[39;49m\u001b[38;5;241;43m/\u001b[39;49m\u001b[38;5;241;43m0\u001b[39;49m\n",
      "\u001b[0;31mZeroDivisionError\u001b[0m: division by zero"
     ]
    }
   ],
   "source": [
    "5/0"
   ]
  },
  {
   "cell_type": "code",
   "execution_count": 3,
   "id": "b340b1c9-5da1-4f5d-85a9-184c91c5c6fd",
   "metadata": {},
   "outputs": [
    {
     "data": {
      "text/plain": [
       "3.3333333333333335"
      ]
     },
     "execution_count": 3,
     "metadata": {},
     "output_type": "execute_result"
    }
   ],
   "source": [
    "10/3"
   ]
  },
  {
   "cell_type": "markdown",
   "id": "1efdafdd-4733-4845-a41d-5563378a80f6",
   "metadata": {},
   "source": [
    "Q4. Why LookupError class is used? Explain with an example KeyError and IndexError."
   ]
  },
  {
   "cell_type": "markdown",
   "id": "89c621e1-7aaa-46ea-8efb-7ddedfabe27f",
   "metadata": {},
   "source": [
    "LookupError is the base class for errors raised when something cann't be found.It is used for the exceptions that are raised when a key or index used on sequence is invalid.\n"
   ]
  },
  {
   "cell_type": "markdown",
   "id": "4d90bf4d-01d0-44f1-9965-b8c2bac84b2e",
   "metadata": {},
   "source": [
    "An index error is raised when a sequence reference is out of range."
   ]
  },
  {
   "cell_type": "markdown",
   "id": "d62441fa-23dc-4438-9138-096137c5913e",
   "metadata": {},
   "source": [
    "An key error is raised when a wrong key is used to access a dictionary value"
   ]
  },
  {
   "cell_type": "code",
   "execution_count": 5,
   "id": "6e2c5097-d5f4-4e25-87ae-425571722eac",
   "metadata": {},
   "outputs": [
    {
     "ename": "IndexError",
     "evalue": "list index out of range",
     "output_type": "error",
     "traceback": [
      "\u001b[0;31m---------------------------------------------------------------------------\u001b[0m",
      "\u001b[0;31mIndexError\u001b[0m                                Traceback (most recent call last)",
      "Cell \u001b[0;32mIn[5], line 2\u001b[0m\n\u001b[1;32m      1\u001b[0m l\u001b[38;5;241m=\u001b[39m[\u001b[38;5;124m\"\u001b[39m\u001b[38;5;124msuji\u001b[39m\u001b[38;5;124m\"\u001b[39m,\u001b[38;5;124m\"\u001b[39m\u001b[38;5;124msingh\u001b[39m\u001b[38;5;124m\"\u001b[39m,\u001b[38;5;124m\"\u001b[39m\u001b[38;5;124mstr\u001b[39m\u001b[38;5;124m\"\u001b[39m,\u001b[38;5;241m12\u001b[39m]\n\u001b[0;32m----> 2\u001b[0m \u001b[38;5;28mprint\u001b[39m(\u001b[43ml\u001b[49m\u001b[43m[\u001b[49m\u001b[38;5;241;43m4\u001b[39;49m\u001b[43m]\u001b[49m)\n",
      "\u001b[0;31mIndexError\u001b[0m: list index out of range"
     ]
    }
   ],
   "source": [
    "l=[\"suji\",\"singh\",\"str\",12]\n",
    "print(l[4])"
   ]
  },
  {
   "cell_type": "code",
   "execution_count": 7,
   "id": "065ef8d1-4108-4531-ba2d-4d3d109e468d",
   "metadata": {},
   "outputs": [
    {
     "ename": "KeyError",
     "evalue": "3",
     "output_type": "error",
     "traceback": [
      "\u001b[0;31m---------------------------------------------------------------------------\u001b[0m",
      "\u001b[0;31mKeyError\u001b[0m                                  Traceback (most recent call last)",
      "Cell \u001b[0;32mIn[7], line 2\u001b[0m\n\u001b[1;32m      1\u001b[0m \u001b[38;5;28mdict\u001b[39m\u001b[38;5;241m=\u001b[39m{\u001b[38;5;241m1\u001b[39m:\u001b[38;5;124m\"\u001b[39m\u001b[38;5;124mfemale\u001b[39m\u001b[38;5;124m\"\u001b[39m,\u001b[38;5;241m2\u001b[39m:\u001b[38;5;124m\"\u001b[39m\u001b[38;5;124mmale\u001b[39m\u001b[38;5;124m\"\u001b[39m,\u001b[38;5;241m4\u001b[39m:\u001b[38;5;124m\"\u001b[39m\u001b[38;5;124mmale\u001b[39m\u001b[38;5;124m\"\u001b[39m}\n\u001b[0;32m----> 2\u001b[0m \u001b[38;5;28;43mdict\u001b[39;49m\u001b[43m[\u001b[49m\u001b[38;5;241;43m3\u001b[39;49m\u001b[43m]\u001b[49m\n",
      "\u001b[0;31mKeyError\u001b[0m: 3"
     ]
    }
   ],
   "source": [
    "dict={1:\"female\",2:\"male\",4:\"male\"}\n",
    "dict[3]"
   ]
  },
  {
   "cell_type": "markdown",
   "id": "519f7d98-31d5-464e-874d-23ab0d44f301",
   "metadata": {},
   "source": [
    "Q5. Explain ImportError. What is ModuleNotFoundError?"
   ]
  },
  {
   "cell_type": "markdown",
   "id": "b7ea275a-91e7-401a-a6d4-b320afb97303",
   "metadata": {},
   "source": [
    "Import error occurs when a class cannot be imported due to misspelling of the module or the module is not found."
   ]
  },
  {
   "cell_type": "markdown",
   "id": "2037f2e9-a81f-4ce0-8022-4a99fb9e5718",
   "metadata": {},
   "source": [
    "When a module is not found in a class we get an error which is called ModuleNotFoundError."
   ]
  },
  {
   "cell_type": "code",
   "execution_count": 11,
   "id": "e8e8cf73-1f95-4523-b10e-6a0cff4cd864",
   "metadata": {},
   "outputs": [
    {
     "ename": "ModuleNotFoundError",
     "evalue": "No module named 'suji'",
     "output_type": "error",
     "traceback": [
      "\u001b[0;31m---------------------------------------------------------------------------\u001b[0m",
      "\u001b[0;31mModuleNotFoundError\u001b[0m                       Traceback (most recent call last)",
      "Cell \u001b[0;32mIn[11], line 1\u001b[0m\n\u001b[0;32m----> 1\u001b[0m \u001b[38;5;28;01mimport\u001b[39;00m \u001b[38;5;21;01msuji\u001b[39;00m\n\u001b[1;32m      2\u001b[0m \u001b[38;5;28;01mpass\u001b[39;00m\n",
      "\u001b[0;31mModuleNotFoundError\u001b[0m: No module named 'suji'"
     ]
    }
   ],
   "source": [
    "import suji\n",
    "pass"
   ]
  },
  {
   "cell_type": "markdown",
   "id": "6813b32d-0fb5-4812-9559-c78cea1e7bbd",
   "metadata": {},
   "source": [
    "Q6. List down some best practices for exception handling in python."
   ]
  },
  {
   "cell_type": "markdown",
   "id": "8dffa75b-7b6c-4a0d-86a7-93ace56e07b2",
   "metadata": {},
   "source": [
    "1.Use Exceptions for Exceptional Cases. ...\n",
    "\n",
    "2.Don't Swallow the Exception. ...\n",
    "\n",
    "3.Catch Specific Exceptions. ...\n",
    "\n",
    "4.Always Clean Up Resources in a Finally Block. ...\n",
    "\n",
    "5.Avoid Raising Generic Exceptions. ...\n",
    "\n",
    "6.Raise Custom Exceptions. ...\n",
    "\n",
    "7.Define Your Own Exception Hierarchy. ...\n",
    "\n",
    "8.Document All Exceptions Thrown by a Function.\n"
   ]
  },
  {
   "cell_type": "code",
   "execution_count": null,
   "id": "54ad9e03-6e80-4ce9-81c5-2fb1fc40278e",
   "metadata": {},
   "outputs": [],
   "source": []
  }
 ],
 "metadata": {
  "kernelspec": {
   "display_name": "Python 3 (ipykernel)",
   "language": "python",
   "name": "python3"
  },
  "language_info": {
   "codemirror_mode": {
    "name": "ipython",
    "version": 3
   },
   "file_extension": ".py",
   "mimetype": "text/x-python",
   "name": "python",
   "nbconvert_exporter": "python",
   "pygments_lexer": "ipython3",
   "version": "3.10.8"
  }
 },
 "nbformat": 4,
 "nbformat_minor": 5
}
