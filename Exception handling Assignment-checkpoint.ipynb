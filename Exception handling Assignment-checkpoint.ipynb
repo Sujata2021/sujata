{
 "cells": [
  {
   "cell_type": "code",
   "execution_count": 3,
   "id": "023e7d80",
   "metadata": {},
   "outputs": [
    {
     "name": "stdout",
     "output_type": "stream",
     "text": [
      "division by zero\n"
     ]
    }
   ],
   "source": [
    "try:\n",
    "    5/0\n",
    "except Exception as e:\n",
    "    print(e)"
   ]
  },
  {
   "cell_type": "code",
   "execution_count": 19,
   "id": "0532892a",
   "metadata": {},
   "outputs": [
    {
     "name": "stdout",
     "output_type": "stream",
     "text": [
      "Americans playBaseball\n",
      "Americans playCricket\n",
      "Americans watchBaseball\n",
      "Americans watchCricket\n",
      "IndiansplayBaseball\n",
      "IndiansplayCricket\n",
      "IndianswatchBaseball\n",
      "IndianswatchCricket\n"
     ]
    }
   ],
   "source": [
    "print(subjects[0]+verbs[0]+objects[0])\n",
    "print(subjects[0]+verbs[0]+objects[1])\n",
    "print(subjects[0]+verbs[1]+objects[0])\n",
    "print(subjects[0]+verbs[1]+objects[1])\n",
    "print(subjects[1]+verbs[0]+objects[0])\n",
    "print(subjects[1]+verbs[0]+objects[1])\n",
    "print(subjects[1]+verbs[1]+objects[0])\n",
    "print(subjects[1]+verbs[1]+objects[1])"
   ]
  },
  {
   "cell_type": "code",
   "execution_count": 22,
   "id": "f58db99c",
   "metadata": {},
   "outputs": [
    {
     "name": "stdout",
     "output_type": "stream",
     "text": [
      "Americans   watch Cricket\n"
     ]
    }
   ],
   "source": [
    "from random import randint\n",
    "icksubjects=[\"Americans \",\"Indians\"]\n",
    "verbs=[\"play\",\"watch\"]\n",
    "objects=[\"Baseball\",\"Cret\"]\n",
    "while True:\n",
    "    print(subjects[randint(0,len(subjects)-1)],\" \"+verbs[randint(0,len(verbs)-1)]+\" \"+objects[randint(0,len(objects)-1)])\n",
    "    break"
   ]
  },
  {
   "cell_type": "code",
   "execution_count": 26,
   "id": "70aacd99",
   "metadata": {},
   "outputs": [
    {
     "name": "stdout",
     "output_type": "stream",
     "text": [
      "['Americans ', 'play', 'Cricket']\n"
     ]
    }
   ],
   "source": [
    "import random\n",
    "subjects=[\"Americans \",\"Indians\"]\n",
    "verbs=[\"play\",\"watch\"]\n",
    "objects=[\"Baseball\",\"Cricket\"]\n",
    "while True:\n",
    "    a=(random.choices(subjects))\n",
    "    b=(random.choices(verbs))\n",
    "    c=(random.choices(objects))\n",
    "    print(a+b+c)\n",
    "    break"
   ]
  },
  {
   "cell_type": "code",
   "execution_count": 27,
   "id": "675c03ab",
   "metadata": {},
   "outputs": [
    {
     "ename": "NameError",
     "evalue": "name 'arr' is not defined",
     "output_type": "error",
     "traceback": [
      "\u001b[1;31m---------------------------------------------------------------------------\u001b[0m",
      "\u001b[1;31mNameError\u001b[0m                                 Traceback (most recent call last)",
      "\u001b[1;32m<ipython-input-27-0db0fcf1de74>\u001b[0m in \u001b[0;36m<module>\u001b[1;34m\u001b[0m\n\u001b[0;32m      2\u001b[0m \u001b[0mverbs\u001b[0m\u001b[1;33m=\u001b[0m\u001b[1;33m[\u001b[0m\u001b[1;34m\"play\"\u001b[0m\u001b[1;33m,\u001b[0m\u001b[1;34m\"watch\"\u001b[0m\u001b[1;33m]\u001b[0m\u001b[1;33m\u001b[0m\u001b[1;33m\u001b[0m\u001b[0m\n\u001b[0;32m      3\u001b[0m \u001b[0mobjects\u001b[0m\u001b[1;33m=\u001b[0m\u001b[1;33m[\u001b[0m\u001b[1;34m\"Baseball\"\u001b[0m\u001b[1;33m,\u001b[0m\u001b[1;34m\"Cricket\"\u001b[0m\u001b[1;33m]\u001b[0m\u001b[1;33m\u001b[0m\u001b[1;33m\u001b[0m\u001b[0m\n\u001b[1;32m----> 4\u001b[1;33m \u001b[0ma\u001b[0m\u001b[1;33m=\u001b[0m\u001b[0marr\u001b[0m\u001b[1;33m[\u001b[0m\u001b[0msubjects\u001b[0m\u001b[1;33m+\u001b[0m\u001b[0mverbs\u001b[0m\u001b[1;33m+\u001b[0m\u001b[0mobjects\u001b[0m\u001b[1;33m]\u001b[0m\u001b[1;33m\u001b[0m\u001b[1;33m\u001b[0m\u001b[0m\n\u001b[0m",
      "\u001b[1;31mNameError\u001b[0m: name 'arr' is not defined"
     ]
    }
   ],
   "source": [
    "subjects=[\"Americans \",\"Indians\"]\n",
    "verbs=[\"play\",\"watch\"]\n",
    "objects=[\"Baseball\",\"Cricket\"]\n",
    "a=arr[subjects+verbs+objects]"
   ]
  },
  {
   "cell_type": "code",
   "execution_count": 26,
   "id": "b5ec459c",
   "metadata": {},
   "outputs": [
    {
     "name": "stdout",
     "output_type": "stream",
     "text": [
      "['Americans ', 'play', 'Cricket']\n"
     ]
    }
   ],
   "source": [
    "import random\n",
    "subjects=[\"Americans \",\"Indians\"]\n",
    "verbs=[\"play\",\"watch\"]\n",
    "objects=[\"Baseball\",\"Cricket\"]\n",
    "while True:\n",
    "    a=(random.choices(subjects))\n",
    "    b=(random.choices(verbs))\n",
    "    c=(random.choices(objects))\n",
    "    print(a+b+c)\n",
    "    break"
   ]
  },
  {
   "cell_type": "code",
   "execution_count": 41,
   "id": "196b580d",
   "metadata": {},
   "outputs": [],
   "source": [
    "subjects=[\"Americans \",\"Indians\"]\n",
    "verbs=[\"play\",\"watch\"]\n",
    "objects=[\"Baseball\",\"Cricket\"]\n",
    "def \n"
   ]
  },
  {
   "cell_type": "code",
   "execution_count": null,
   "id": "ac5a5447",
   "metadata": {},
   "outputs": [],
   "source": []
  },
  {
   "cell_type": "code",
   "execution_count": null,
   "id": "d50c4ccf",
   "metadata": {},
   "outputs": [],
   "source": []
  },
  {
   "cell_type": "code",
   "execution_count": null,
   "id": "011a7ed3",
   "metadata": {},
   "outputs": [],
   "source": []
  }
 ],
 "metadata": {
  "kernelspec": {
   "display_name": "Python 3",
   "language": "python",
   "name": "python3"
  },
  "language_info": {
   "codemirror_mode": {
    "name": "ipython",
    "version": 3
   },
   "file_extension": ".py",
   "mimetype": "text/x-python",
   "name": "python",
   "nbconvert_exporter": "python",
   "pygments_lexer": "ipython3",
   "version": "3.8.8"
  }
 },
 "nbformat": 4,
 "nbformat_minor": 5
}
