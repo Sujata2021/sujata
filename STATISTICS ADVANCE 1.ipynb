{
 "cells": [
  {
   "cell_type": "markdown",
   "id": "70323cab-710d-40b3-b5cc-da210b98351d",
   "metadata": {},
   "source": [
    "## Q1: What is the difference between a t-test and a z-test? Provide an example scenario where you would use each type of test."
   ]
  },
  {
   "cell_type": "markdown",
   "id": "b7eb7219-8e44-46c2-9b03-933a86aba080",
   "metadata": {},
   "source": [
    "A z-test is used to test a Null Hypothesis if the population variance is known, or if the sample size is larger than 30, for an unknown population variance. A t-test is used when the sample size is less than 30 and the population variance is unknown"
   ]
  },
  {
   "cell_type": "markdown",
   "id": "bba05815-a74f-4adb-918a-4631d5188fcd",
   "metadata": {},
   "source": [
    "Suppose a researcher wants to investigate if the average height of students in a particular university differs from the average height of college students across the country. They could collect a random sample of students from the university and calculate the mean height of the sample. They can then conduct a Z-test to determine if the difference between the sample mean and the population mean is statistically significant or not."
   ]
  },
  {
   "cell_type": "markdown",
   "id": "bc4879bb-78a0-4f22-b507-2a79029c9fd3",
   "metadata": {},
   "source": [
    "If one wishes to figure out if the mean of the length of petals of a flower belonging to two different species is the same, a T-test can be done. "
   ]
  },
  {
   "cell_type": "markdown",
   "id": "edf162e5-1995-437a-a0ea-be4cfdcd3bee",
   "metadata": {},
   "source": [
    "## Q2: Differentiate between one-tailed and two-tailed tests."
   ]
  },
  {
   "cell_type": "markdown",
   "id": "bc2a572f-5d35-48ab-a199-9a3e68793434",
   "metadata": {},
   "source": [
    "A one-tailed test is based on a uni-directional hypothesis where the area of rejection is on only one side of the sampling distribution. It determines whether a particular population parameter is larger or smaller than the predefined parameter. It uses one single critical value to test the data.\n",
    "\n"
   ]
  },
  {
   "cell_type": "markdown",
   "id": "1d4613c9-be82-4098-9cf3-11f6ec681f68",
   "metadata": {},
   "source": [
    "A two-tailed test is also called a nondirectional hypothesis. For checking whether the sample is greater or less than a range of values, we use the two-tailed. It is used for null hypothesis testing."
   ]
  },
  {
   "cell_type": "markdown",
   "id": "3dbd191d-da7c-4e92-b9d0-6e6195ff240f",
   "metadata": {},
   "source": [
    "## Q3: Explain the concept of Type 1 and Type 2 errors in hypothesis testing. Provide an example scenario for each type of error."
   ]
  },
  {
   "cell_type": "markdown",
   "id": "9ec288c0-8642-4cd3-93d6-f09e533991fb",
   "metadata": {},
   "source": [
    "A Type 1 error occurs when the null hypothesis is rejected even though it should not have been rejected. A Type 2 error occurs when the null hypothesis is not rejected even though it should have been rejected."
   ]
  },
  {
   "cell_type": "markdown",
   "id": "11ef597a-bdf6-424d-9f9c-bfd2fb6fe658",
   "metadata": {},
   "source": [
    "Assume a woman is going in for a blood test to determine whether she has high iron levels. The null hypothesis is that the woman does not have high iron levels. If the test comes back positive for high iron when in reality her iron levels are normal, a type 1 error has occurred. The woman received a false positive test. Conversely, if the test comes back negative and she does have high iron levels, a type 2 error has occurred. The woman received a false negative test in this case.\n",
    "\n",
    "Turning to a more study-focused set of examples. Assume in this case a scientist hypothesizes that eating more spinach makes individuals more resistant to the flu. In this instance, a type 1 error would occur if the statistical analysis concluded that spinach was protective against the flu when in reality it was not. Conversely, a type 2 error would occur if the analysis concluded that spinach was not protective when in reality it was. Type 1 error examples are false positives. Type 2 error examples are false negatives.\n",
    "\n",
    " "
   ]
  },
  {
   "cell_type": "markdown",
   "id": "fd97aa5f-06b5-48ca-a605-6d8d897a09f4",
   "metadata": {},
   "source": [
    "## Q4: Explain Bayes's theorem with an example."
   ]
  },
  {
   "cell_type": "markdown",
   "id": "f02897f8-e039-46c4-89c2-a1b994507a4d",
   "metadata": {},
   "source": [
    "The general statement of Bayes’ theorem is “The conditional probability of an event A, given the occurrence of another event B, is equal to the product of the event of B, given A and the probability of A divided by the probability of event B.” i.e.\n",
    "\n",
    "P(A|B) = P(B|A)P(A) / P(B)\n",
    "\n"
   ]
  },
  {
   "cell_type": "markdown",
   "id": "94bca6a3-271f-4993-89da-f2d8963e4484",
   "metadata": {},
   "source": [
    " Bayes’ theorem defines the accuracy of the medical test by taking into account how likely a person is to have a disease and what is the overall accuracy of the test."
   ]
  },
  {
   "cell_type": "markdown",
   "id": "93929944-92ab-4395-93a4-c1cc09dcb71c",
   "metadata": {},
   "source": [
    "## Q5: What is a confidence interval? How to calculate the confidence interval, explain with an example."
   ]
  },
  {
   "cell_type": "markdown",
   "id": "831f6955-fa7a-46dd-a317-e2f78e5193ec",
   "metadata": {},
   "source": [
    "A confidence interval is the mean of your estimate plus and minus the variation in that estimate. This is the range of values you expect your estimate to fall between if you redo your test, within a certain level of confidence."
   ]
  },
  {
   "cell_type": "markdown",
   "id": "4e3ce443-3bc0-4e88-b9e3-597f42138b58",
   "metadata": {},
   "source": [
    " For example, if you construct a confidence interval with a 95% confidence level, you are confident that 95 out of 100 times the estimate will fall between the upper and lower values specified by the confidence interval.\n",
    "\n",
    "Your desired confidence level is usually one minus the alpha (α) value you used in your statistical test:\n",
    "\n",
    "Confidence level = 1 − a\n",
    "\n",
    "So if you use an alpha value of p < 0.05 for statistical significance, then your confidence level would be 1 − 0.05 = 0.95, or 95%."
   ]
  },
  {
   "cell_type": "markdown",
   "id": "c01196aa-1ad1-4974-bde1-5a719cc79420",
   "metadata": {},
   "source": [
    "## Q6. Use Bayes' Theorem to calculate the probability of an event occurring given prior knowledge of the event's probability and new evidence. Provide a sample problem and solution."
   ]
  },
  {
   "cell_type": "markdown",
   "id": "958208fc-efcf-4102-bdbe-a6919e358175",
   "metadata": {},
   "source": [
    "**1% of a population has a certain disease and the remaining 99% are free from this disease. A test is used to detect this disease. This test is positive in 95% of the people with the disease and is also (falsely) positive in 2% of the people free from the disease.\n",
    "If a person, selected at random from this population, has tested positive, what is the probability that she/he has the disease?**"
   ]
  },
  {
   "cell_type": "markdown",
   "id": "7bae793a-244e-4d63-b0e1-0eed1250a120",
   "metadata": {},
   "source": [
    "Let D be the event \"have the disease\" and FD be the event \"free from the disease\"\n",
    "\n",
    "Let the event TP be the event that the \"test is positive\".\n"
   ]
  },
  {
   "cell_type": "markdown",
   "id": "76e311b5-c4fc-4cd1-a04d-2cc9863f0d3a",
   "metadata": {},
   "source": [
    "The probability that a person has the disease given that it has tested positive is given by Bayes' theorem:\n",
    "P\n",
    "(\n",
    "D\n",
    "|\n",
    "T\n",
    "P\n",
    ")\n",
    "=\n",
    "P\n",
    "(\n",
    "T\n",
    "P\n",
    "|\n",
    "D\n",
    ")\n",
    "P\n",
    "(\n",
    "D\n",
    ")\n",
    "P\n",
    "(\n",
    "T\n",
    "P\n",
    "|\n",
    "D\n",
    ")\n",
    "P\n",
    "(\n",
    "D\n",
    ")\n",
    "+\n",
    "P\n",
    "(\n",
    "T\n",
    "P\n",
    "|\n",
    "N\n",
    "D\n",
    ")\n",
    "P\n",
    "(\n",
    "N\n",
    "D\n",
    ")\n",
    "\n",
    "\n",
    "=\n",
    "95\n",
    "%\n",
    "1\n",
    "%\n",
    "/\n",
    "(\n",
    "95\n",
    "%\n",
    "1\n",
    "%\n",
    "+\n",
    "2\n",
    "%\n",
    "99\n",
    "%\n",
    ")\n",
    "=\n",
    "0.32"
   ]
  },
  {
   "cell_type": "markdown",
   "id": "aa66971d-7269-460f-a82e-841f7dfb1eca",
   "metadata": {},
   "source": [
    "## Q7. Calculate the 95% confidence interval for a sample of data with a mean of 50 and a standard deviation of 5. Interpret the results."
   ]
  },
  {
   "cell_type": "code",
   "execution_count": 10,
   "id": "31159c95-c51c-4919-923c-cf51160dcdd5",
   "metadata": {},
   "outputs": [
    {
     "data": {
      "text/plain": [
       "(49.02, 50.98)"
      ]
     },
     "execution_count": 10,
     "metadata": {},
     "output_type": "execute_result"
    }
   ],
   "source": [
    "import math \n",
    "a=0.05\n",
    "Z_a=1.96\n",
    "x=50\n",
    "std=5\n",
    "UPPER=50+((1.96)*std/math.sqrt(100))\n",
    "LOWER=50-((1.96)*std/math.sqrt(100))\n",
    "LOWER,UPPER"
   ]
  },
  {
   "cell_type": "markdown",
   "id": "049edb9c-8124-4fac-aedf-39adcf593b7d",
   "metadata": {},
   "source": [
    "## Q8. What is the margin of error in a confidence interval? How does sample size affect the margin of error?Provide an example of a scenario where a larger sample size would result in a smaller margin of error."
   ]
  },
  {
   "cell_type": "markdown",
   "id": "7c3eaf5c-7b71-4674-884b-a9c1175c35b0",
   "metadata": {},
   "source": [
    "The margin of error shows the error in the calculation of survey results. It indicates the probability of precisely two values by which the survey results can vary from the actual results. One of these values is obtained through addition, while the other is obtained through subtraction."
   ]
  },
  {
   "cell_type": "markdown",
   "id": "fe2ad97c-6945-4952-b693-2dc066cf3635",
   "metadata": {},
   "source": [
    "the Margin of Error Decrease as the Sample Size Increases"
   ]
  },
  {
   "cell_type": "markdown",
   "id": "8b71e3de-3a50-4f42-8927-5975649b7b24",
   "metadata": {},
   "source": [
    "For example, suppose we collect a simple random sample of data with the following information:\n",
    "\n",
    "p: 0.6\n",
    "\n",
    "n: 25\n",
    "\n",
    "Here’s how to calculate a 95% confidence interval for the population proportion:\n",
    "\n",
    "Confidence Interval = p  ±  z*√p(1-p) / n\n",
    "\n",
    "Confidence Interval = .6 ±  1.96*√.6(1-.6) / 25\n",
    "\n",
    "Confidence Interval = .6 ± 0.192\n",
    "\n",
    "Confidence Interval = [.408, .792]\n",
    "\n",
    "Now consider if we instead used a sample size of 200. Here’s how we would calculate the \n",
    "95% confidence interval for the population proportion:\n",
    "\n",
    "Confidence Interval = p  ±  z*√p(1-p) / n\n",
    "\n",
    "Confidence Interval = .6 ±  1.96*√.6(1-.6) / 200\n",
    "\n",
    "Confidence Interval = .6 ± 0.068\n",
    "\n",
    "Confidence Interval = [.532, .668]"
   ]
  },
  {
   "cell_type": "markdown",
   "id": "116ff877-4400-4c72-95f0-06ff4f4abc66",
   "metadata": {},
   "source": [
    "## Q9. Calculate the z-score for a data point with a value of 75, a population mean of 70, and a population standard deviation of 5. Interpret the results."
   ]
  },
  {
   "cell_type": "code",
   "execution_count": 13,
   "id": "524de7f3-1496-4906-ae74-a22fd31b9d91",
   "metadata": {},
   "outputs": [
    {
     "data": {
      "text/plain": [
       "1.0"
      ]
     },
     "execution_count": 13,
     "metadata": {},
     "output_type": "execute_result"
    }
   ],
   "source": [
    "n=75\n",
    "\n",
    "x=70\n",
    "\n",
    "std=5\n",
    "\n",
    "Z_SCORE=(75-70)/std\n",
    "Z_SCORE"
   ]
  },
  {
   "cell_type": "markdown",
   "id": "80b149e3-8b7a-42d9-bfe9-490063746c48",
   "metadata": {},
   "source": [
    "1 standard deviation 75 is away from the mean"
   ]
  },
  {
   "cell_type": "markdown",
   "id": "3e6b6e15-c234-4384-8238-3ee5ebbdf7de",
   "metadata": {},
   "source": [
    "## Q10. In a study of the effectiveness of a new weight loss drug, a sample of 50 participants lost an averageof 6 pounds with a standard deviation of 2.5 pounds. Conduct a hypothesis test to determine if the drug is significantly effective at a 95% confidence level using a t-test."
   ]
  },
  {
   "cell_type": "code",
   "execution_count": 3,
   "id": "7b487e9b-cfd2-40fd-8102-c3b403e1622a",
   "metadata": {},
   "outputs": [
    {
     "name": "stderr",
     "output_type": "stream",
     "text": [
      "/tmp/ipykernel_191/4177730389.py:6: RuntimeWarning: Precision loss occurred in moment calculation due to catastrophic cancellation. This occurs when the data are nearly identical. Results may be unreliable.\n",
      "  b=stats.ttest_1samp(a=50,popmean=6)\n",
      "/opt/conda/lib/python3.10/site-packages/scipy/stats/_stats_py.py:1253: RuntimeWarning: divide by zero encountered in divide\n",
      "  var *= np.divide(n, n-ddof)  # to avoid error on division by zero\n",
      "/opt/conda/lib/python3.10/site-packages/scipy/stats/_stats_py.py:1253: RuntimeWarning: invalid value encountered in double_scalars\n",
      "  var *= np.divide(n, n-ddof)  # to avoid error on division by zero\n"
     ]
    },
    {
     "data": {
      "text/plain": [
       "Ttest_1sampResult(statistic=nan, pvalue=nan)"
      ]
     },
     "execution_count": 3,
     "metadata": {},
     "output_type": "execute_result"
    }
   ],
   "source": [
    "n=50\n",
    "mean=6\n",
    "std=2.5\n",
    "a=0.05\n",
    "import scipy.stats as stats\n",
    "b=stats.ttest_1samp(a=50,popmean=6)\n",
    "b\n"
   ]
  },
  {
   "cell_type": "markdown",
   "id": "61ab83a3-681f-4b60-8955-d5851fa254b8",
   "metadata": {},
   "source": [
    "## Q11. In a survey of 500 people, 65% reported being satisfied with their current job. Calculate the 95% confidence interval for the true proportion of people who are satisfied with their job."
   ]
  },
  {
   "cell_type": "markdown",
   "id": "8273d6d2-d0ba-4e6f-b260-fc2144901480",
   "metadata": {},
   "source": [
    "Given data\n",
    "\n",
    "The sample size is n=500\n",
    "\n",
    "The sample mean is x=65%=0.65\n",
    "\n",
    "The confidence level is CL=0.95\n",
    "\n",
    "The significance level is,a=1-0.95=0.05\n",
    "\n",
    "The standard critical value Z(a/2)\n",
    " corresponding to 95% confidence level from normal distribution table is, \n",
    "    Z(0.025)=1.96\n",
    "\n",
    "\n",
    "\n"
   ]
  },
  {
   "cell_type": "code",
   "execution_count": 7,
   "id": "7ea85f2a-80c7-4ffd-a502-2a338bcbb918",
   "metadata": {},
   "outputs": [
    {
     "data": {
      "text/plain": [
       "(0.608191771144905, 0.6918082288550951)"
      ]
     },
     "execution_count": 7,
     "metadata": {},
     "output_type": "execute_result"
    }
   ],
   "source": [
    "#The lower limit of confidence interval is,\n",
    "\n",
    "import math\n",
    "lower_CI=0.65-(1.96*(math.sqrt(0.65*(1-0.65)/500)))\n",
    "upper_CI=0.65+(1.96*(math.sqrt(0.65*(1-0.65)/500)))\n",
    "lower_CI,upper_CI"
   ]
  },
  {
   "cell_type": "markdown",
   "id": "ab09505c-da69-4013-b442-1bce103efb86",
   "metadata": {},
   "source": [
    "## Q12. A researcher is testing the effectiveness of two different teaching methods on student performance.\n",
    "**Sample A has a mean score of 85 with a standard deviation of 6, while sample B has a mean score of 82\n",
    "with a standard deviation of 5. Conduct a hypothesis test to determine if the two teaching methods have a\n",
    "significant difference in student performance using a t-test with a significance level of 0.01.**"
   ]
  },
  {
   "cell_type": "markdown",
   "id": "37812778-74c3-445e-8cd4-10277c362b38",
   "metadata": {},
   "source": [
    "## Q13. A population has a mean of 60 and a standard deviation of 8. A sample of 50 observations has a mean of 65. Calculate the 90% confidence interval for the true population mean. "
   ]
  },
  {
   "cell_type": "code",
   "execution_count": 8,
   "id": "53f04f86-2bcd-4a58-b3ff-39638e07202a",
   "metadata": {},
   "outputs": [
    {
     "data": {
      "text/plain": [
       "(45.29217895131981, 74.70782104868019)"
      ]
     },
     "execution_count": 8,
     "metadata": {},
     "output_type": "execute_result"
    }
   ],
   "source": [
    "Population_mean=60\n",
    "Population_std=8\n",
    "n=50\n",
    "sample_mean=65\n",
    "a=0.1\n",
    "lower_CI=60 - (1.6 *65/math.sqrt(50))\n",
    "upper_CI=60 + (1.6 *65/math.sqrt(50))\n",
    "lower_CI,upper_CI"
   ]
  },
  {
   "cell_type": "markdown",
   "id": "e6bcf321-4b40-481e-9fd1-6ebb95f7911b",
   "metadata": {},
   "source": [
    "## Q14. In a study of the effects of caffeine on reaction time, a sample of 30 participants had an average reaction time of 0.25 seconds with a standard deviation of 0.05 seconds. Conduct a hypothesis test to determine if the caffeine has a significant effect on reaction time at a 90% confidence level using a t-test."
   ]
  },
  {
   "cell_type": "code",
   "execution_count": 6,
   "id": "9233a850-f77d-4979-8cd2-af792784bab1",
   "metadata": {},
   "outputs": [
    {
     "data": {
      "text/plain": [
       "-82.1583836257749"
      ]
     },
     "execution_count": 6,
     "metadata": {},
     "output_type": "execute_result"
    }
   ],
   "source": [
    "import math\n",
    "a=0.01\n",
    "t=((0.25-1)*math.sqrt(30))/0.05\n",
    "t"
   ]
  },
  {
   "cell_type": "code",
   "execution_count": null,
   "id": "f5e2e265-9272-4a62-b741-4e02e48ae397",
   "metadata": {},
   "outputs": [],
   "source": [
    "t-value is 1.699 so the caffeine does not has a significant effect on reaction time"
   ]
  }
 ],
 "metadata": {
  "kernelspec": {
   "display_name": "Python 3 (ipykernel)",
   "language": "python",
   "name": "python3"
  },
  "language_info": {
   "codemirror_mode": {
    "name": "ipython",
    "version": 3
   },
   "file_extension": ".py",
   "mimetype": "text/x-python",
   "name": "python",
   "nbconvert_exporter": "python",
   "pygments_lexer": "ipython3",
   "version": "3.10.8"
  }
 },
 "nbformat": 4,
 "nbformat_minor": 5
}
