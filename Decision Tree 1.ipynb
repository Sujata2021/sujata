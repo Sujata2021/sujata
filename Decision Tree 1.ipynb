{
 "cells": [
  {
   "cell_type": "markdown",
   "id": "17dada8b-3f52-4d62-ae26-9b10f4388466",
   "metadata": {},
   "source": [
    "### Q1. Describe the decision tree classifier algorithm and how it works to make predictions."
   ]
  },
  {
   "cell_type": "markdown",
   "id": "2eb2bac6-5950-4eeb-be83-2f40bec6c071",
   "metadata": {},
   "source": [
    "A decision tree is one of the most powerful tools of supervised learning algorithms used for both classification and regression tasks. It builds a flowchart-like tree structure where each internal node denotes a test on an attribute, each branch represents an outcome of the test, and each leaf node (terminal node) holds a class label. It is constructed by recursively splitting the training data into subsets based on the values of the attributes until a stopping criterion is met, such as the maximum depth of the tree or the minimum number of samples required to split a node."
   ]
  },
  {
   "cell_type": "markdown",
   "id": "e87690a3-dc07-42c7-aa94-464152e0f538",
   "metadata": {},
   "source": [
    "During training, the Decision Tree algorithm selects the best attribute to split the data based on a metric such as entropy or Gini impurity, which measures the level of impurity or randomness in the subsets. The goal is to find the attribute that maximizes the information gain or the reduction in impurity after the split."
   ]
  },
  {
   "cell_type": "markdown",
   "id": "4eb8a1c5-f248-4086-9bab-75de8eb26f8a",
   "metadata": {},
   "source": [
    "The decision tree operates by analyzing the data set to predict its classification. It commences from the tree’s root node, where the algorithm views the value of the root attribute compared to the attribute of the record in the actual data set. Based on the comparison, it proceeds to follow the branch and move to the next node. \n",
    "\n",
    "The algorithm repeats this action for every subsequent node by comparing its attribute values with those of the sub-nodes and continuing the process further. It repeats until it reaches the leaf node of the tree. The complete mechanism can be better explained through the algorithm given below.\n",
    "\n",
    "Step-1: Begin the tree with the root node, says S, which contains the complete dataset.\n",
    "\n",
    "Step-2: Find the best attribute in the dataset using Attribute Selection Measure (ASM).\n",
    "\n",
    "Step-3: Divide the S into subsets that contains possible values for the best attributes.\n",
    "\n",
    "Step-4: Generate the decision tree node, which contains the best attribute.\n",
    "\n",
    "Step-5: Recursively make new decision trees using the subsets of the dataset created in step -3. Continue this process until a stage is reached where you cannot further classify the nodes and called the final node as a leaf nodeClassification and Regression Tree algorithm."
   ]
  },
  {
   "cell_type": "markdown",
   "id": "9b2f8e3e-131e-4836-a0ab-34b5f1e7a57c",
   "metadata": {},
   "source": [
    "#### Q2. Provide a step-by-step explanation of the mathematical intuition behind decision tree classification."
   ]
  },
  {
   "cell_type": "markdown",
   "id": "36df33d0-655c-4e5f-bc24-b97f43747141",
   "metadata": {},
   "source": [
    "\n",
    "While implementing a Decision tree, the main issue arises that how to select the best attribute for the root node and for sub-nodes. So, to solve such problems there is a technique which is called as Attribute selection measure or ASM. By this measurement, we can easily select the best attribute for the nodes of the tree. There are two popular techniques for ASM, which are:\n",
    "\n",
    "Information Gain\n",
    "\n",
    "\n",
    "Gini Index\n",
    "\n",
    "1. Information Gain:\n",
    "\n",
    "Information gain is the measurement of changes in entropy after the segmentation of a dataset based on an attribute.\n",
    "\n",
    "It calculates how much information a feature provides us about a class.\n",
    "According to the value of information gain, we split the node and build the decision tree.\n",
    "\n",
    "A decision tree algorithm always tries to maximize the value of information gain, and a node/attribute having the highest information gain is split first. It can be calculated using the below formula:\n",
    "\n",
    "Information Gain= Entropy(S)-  (Weighted Avg) *Entropy(each feature)  \n",
    "\n",
    "Entropy: Entropy is a metric to measure the impurity in a given attribute. It specifies randomness in data. Entropy can be calculated as:\n",
    "\n",
    "Entropy(s)= -P(yes)log2 P(yes)- P(no) log2 P(no)\n",
    "Where,\n",
    "\n",
    "S= Total number of samples\n",
    "\n",
    "P(yes)= probability of yes\n",
    "\n",
    "P(no)= probability of no\n",
    "\n",
    "2. Gini Index:\n",
    "Gini index is a measure of impurity or purity used while creating a decision tree in the CART(Classification and Regression Tree) algorithm.\n",
    "\n",
    "An attribute with the low Gini index should be preferred as compared to the high Gini index.\n",
    "\n",
    "It only creates binary splits, and the CART algorithm uses the Gini index to create binary splits.\n",
    "\n",
    "Gini index can be calculated using the below formula:\n",
    "\n",
    "Gini Index= 1- ∑jPj2\n",
    "\n",
    "\n",
    "\n"
   ]
  },
  {
   "cell_type": "markdown",
   "id": "0eafe2f6-b407-491d-8fe7-9597f6909928",
   "metadata": {},
   "source": [
    "### Q3. Explain how a decision tree classifier can be used to solve a binary classification problem."
   ]
  },
  {
   "cell_type": "markdown",
   "id": "87de6b1e-1dc4-4c04-9f78-7e40c700a213",
   "metadata": {},
   "source": [
    "Consider a subset, that only considers two features: ‘likes gravity’ and ‘likes dogs’.\n",
    "\n",
    "The first thing we have to decide is, which feature is going to be the root node. We do that by predicting the target with only one of the features and then use the feature, that has the lowest Gini Impurity as the root node. That is, in our case we build two shallow trees, with just the root node and two leafs. In the first case we use ‘likes gravity’ as a root node and in the second case ‘likes dogs’. We then calculate the Gini Impurity for both. \n",
    "\n",
    "\n",
    "\n",
    "\n",
    "The Gini Impurity for these trees are calculated as follows:\n",
    "\n",
    "Case 1:\n",
    "\n",
    "Dataset 1:\n",
    "\n",
    "\n",
    "Dataset 2:\n",
    "\n",
    "\n",
    "The Gini Impurity is the weighted mean of both:\n",
    "\n",
    "\n",
    "Case 2:\n",
    "\n",
    "Dataset 1:\n",
    "\n",
    "\n",
    "Dataset 2:\n",
    "\n",
    "\n",
    "The Gini Impurity is the weighted mean of both:\n",
    "\n",
    "\n",
    "That is, the first case has lower Gini Impurity and is the chosen split. In this simple example, only one feature remains, and we can build the final decision tree.\n",
    "\n"
   ]
  },
  {
   "cell_type": "markdown",
   "id": "c0fc1320-3fe2-40d6-af48-60cf6c194616",
   "metadata": {},
   "source": [
    "#### Q4. Discuss the geometric intuition behind decision tree classification and how it can be used to make predictions."
   ]
  },
  {
   "cell_type": "markdown",
   "id": "1ac9cc4b-2b42-4566-a959-739ee95ba409",
   "metadata": {},
   "source": [
    "Geometric Intuition\n",
    "\n",
    "Every decision that we make at internal node, it will create a hyperplane – in other words, corresponding to every decision / splitting of the data set, we will have a hyperplane.\n",
    "\n",
    "All of your hyperplanes are axis-parallel – they are parallel to either X-axis or Y-axis."
   ]
  },
  {
   "cell_type": "markdown",
   "id": "2096f811-f2c8-495a-b69c-f825a6358ea4",
   "metadata": {},
   "source": [
    "It would be useful to measure the “informativeness” of the features and use the feature with the most “informativeness” as the feature which should be used to split the data on."
   ]
  },
  {
   "cell_type": "markdown",
   "id": "5644da6e-213f-4cd5-b881-35781f949504",
   "metadata": {},
   "source": [
    "### Q5. Define the confusion matrix and describe how it can be used to evaluate the performance of a classification model."
   ]
  },
  {
   "cell_type": "markdown",
   "id": "c7cff365-2082-4b48-a908-3e9171965d21",
   "metadata": {},
   "source": [
    "A confusion matrix is a matrix that summarizes the performance of a machine learning model on a set of test data. It is often used to measure the performance of classification models, which aim to predict a categorical label for each input instance. The matrix displays the number of true positives (TP), true negatives (TN), false positives (FP), and false negatives (FN) produced by the model on the test data."
   ]
  },
  {
   "cell_type": "markdown",
   "id": "f82bbbbb-85e6-4392-8523-03084f0daf8a",
   "metadata": {},
   "source": [
    "Confusion matrices can be used to calculate performance metrics for classification models. Of the many performance metrics used, the most common are accuracy, precision, recall, and F1 score.\n",
    "\n",
    "Accuracy:\n",
    "The formula for calculating accuracy, based on the chart above, is (TP+TN)/(TP+FP+FN+TN) or all true positive and true negative cases divided by the number of all cases.\n",
    "\n",
    "Accuracy is commonly used to judge model performance, however, there are a few drawbacks that must be considered before using accuracy liberally. One of these drawbacks deals with unbalanced datasets where one class, either true or false, is more common than the other causing the model to classify observations based on this imbalance. For example, if 90% of cases are false and only 10% are true, there’s a very high possibility of our model having an accuracy score of around 90%. Naively, it may seem like we a have high rate of accuracy, but in actuality, we are just 90% likely to predict the ‘false’ class, so we don’t actually have a good metric. Normally, I wouldn’t use accuracy as a performance metric, I’d rather use precision, recall, or the F1 score.\n",
    "\n",
    "Precision:\n",
    "Precision is the measure of true positives over the number of total positives predicted by your model. The formula for precision can be written as: TP/(TP+FP). What this metric allows you to calculate is the rate of which your positive predictions are actually positive.\n",
    "\n",
    "Recall:\n",
    "Recall (a.k.a sensitivity) is the measure of your true positive over the count of actual positive outcomes. The formula for recall can be expressed as: TP/(TP+FN). Using this formula, we can assess how well our model is able to identify the actual true result.\n",
    "\n",
    "F1 Score:\n",
    "The F1 score is the harmonic mean between precision and recall. The formula for the F1 score can be expressed as: 2(p*r)/(p+r) where ‘p’ is precision and ‘r’ is recall. This score can be used as an overall metric that incorporates both precision and recall. The reason we use the harmonic mean as opposed to the regular mean, is that the harmonic mean punishes values that are further apart.\n",
    "\n",
    "An example of this could be seen where p = .4 and r = .8. Using our formula, we see that 2(0.4*0.8)/(0.4+0.8), which simplifies to 0.64/1.20=0.533; while the normal mean would just be (.4+.8)/2=0.6"
   ]
  },
  {
   "cell_type": "markdown",
   "id": "1a3df361-b98a-4ee1-90c2-285b43f5dae2",
   "metadata": {},
   "source": [
    "Q6. Provide an example of a confusion matrix and explain how precision, recall, and F1 score can be\n",
    "calculated from it."
   ]
  },
  {
   "cell_type": "code",
   "execution_count": 2,
   "id": "2207aa47-22f8-476c-ab82-486b8ba56559",
   "metadata": {},
   "outputs": [
    {
     "data": {
      "image/png": "[encoded data removed]",
      "text/plain": [
       "<Figure size 640x480 with 2 Axes>"
      ]
     },
     "metadata": {},
     "output_type": "display_data"
    },
    {
     "name": "stdout",
     "output_type": "stream",
     "text": [
      "Accuracy : 0.9370629370629371\n",
      "Precision : 0.9761904761904762\n",
      "Recall : 0.9213483146067416\n",
      "F1-score : 0.9479768786127167\n"
     ]
    }
   ],
   "source": [
    "## Binary Classifications for Breast Cancer\n",
    "\n",
    "\n",
    "#Import the necessary libraries\n",
    "from sklearn.datasets import load_breast_cancer\n",
    "from sklearn.model_selection import train_test_split\n",
    "from sklearn.tree import DecisionTreeClassifier\n",
    "from sklearn.metrics import confusion_matrix\n",
    "import seaborn as sns\n",
    "import matplotlib.pyplot as plt \n",
    "from sklearn.metrics import accuracy_score, precision_score, recall_score, f1_score\n",
    "\n",
    "# Load the breast cancer dataset\n",
    "X, y= load_breast_cancer(return_X_y=True)\n",
    "X_train, X_test, y_train, y_test = train_test_split(X, y,test_size=0.25)\n",
    "\n",
    "# Train the model\n",
    "tree = DecisionTreeClassifier(random_state=23)\n",
    "tree.fit(X_train, y_train)\n",
    "\n",
    "# preduction\n",
    "y_pred = tree.predict(X_test)\n",
    "\n",
    "# compute the confusion matrix\n",
    "cm = confusion_matrix(y_test,y_pred)\n",
    "\n",
    "#Plot the confusion matrix.\n",
    "sns.heatmap(cm, \n",
    "\t\t\tannot=True,\n",
    "\t\t\tfmt='g', \n",
    "\t\t\txticklabels=['malignant', 'benign'],\n",
    "\t\t\tyticklabels=['malignant', 'benign'])\n",
    "plt.ylabel('Prediction',fontsize=13)\n",
    "plt.xlabel('Actual',fontsize=13)\n",
    "plt.title('Confusion Matrix',fontsize=17)\n",
    "plt.show()\n",
    "\n",
    "\n",
    "# Finding precision and recall\n",
    "accuracy = accuracy_score(y_test, y_pred)\n",
    "print(\"Accuracy :\", accuracy)\n",
    "precision = precision_score(y_test, y_pred)\n",
    "print(\"Precision :\", precision)\n",
    "recall = recall_score(y_test, y_pred)\n",
    "print(\"Recall :\", recall)\n",
    "F1_score = f1_score(y_test, y_pred)\n",
    "print(\"F1-score :\", F1_score)\n"
   ]
  },
  {
   "cell_type": "markdown",
   "id": "c1f2d9b7-1d6f-448d-a805-0bd076836a34",
   "metadata": {},
   "source": [
    "### Q7. Discuss the importance of choosing an appropriate evaluation metric for a classification problem andexplain how this can be done."
   ]
  },
  {
   "cell_type": "markdown",
   "id": "bb415f68-ded0-423c-b6b8-20b678a9e0c1",
   "metadata": {},
   "source": [
    "Consider a binary classification problem, where a model can achieve only two results, either model gives a correct or incorrect prediction. Now imagine we have a classification task to predict if an image is a dog or cat as shown in the image. In a supervised learning algorithm, we first fit/train a model on training data, then test the model on testing data. Once we have the model’s predictions from the X_test data, we compare them to the true y_values (the correct labels)."
   ]
  },
  {
   "cell_type": "markdown",
   "id": "f2033a14-0157-4852-89a9-90f0cf22b5a7",
   "metadata": {},
   "source": [
    "We feed the image of the dog into the training model. Suppose the model predicts that this is a dog, and then we compare the prediction to the correct label. If the model predicts that this image is a cat and then we again compare it to the correct label and it would be incorrect.\n",
    "\n",
    "We repeat this process for all images in X_test data. Eventually, we’ll have a count of correct and incorrect matches. But in reality, it is very rare that all incorrect or correct matches hold equal value. Therefore one metric won’t tell the entire story.\n",
    "\n",
    "Accuracy is useful when the target class is well balanced but is not a good choice for the unbalanced classes. Imagine the scenario where we had 99 images of the dog and only 1 image of a cat present in our training data. Then our model would always predict the dog, and therefore we got 99% accuracy. In reality, Data is always imbalanced for example Spam email, credit card fraud, and medical diagnosis. Hence, if we want to do a better model evaluation and have a full picture of the model evaluation, other metrics such as recall and precision should also be considered."
   ]
  },
  {
   "cell_type": "markdown",
   "id": "5d60aa25-287a-4600-a84d-ec29c0675a7c",
   "metadata": {},
   "source": [
    "Understanding how well a machine learning model will perform on unseen data is the main purpose behind working with these evaluation metrics. Metrics like accuracy, precision, recall are good ways to evaluate classification models for balanced datasets, but if the data is imbalanced then other methods like ROC/AUC perform better in evaluating the model performance."
   ]
  },
  {
   "cell_type": "markdown",
   "id": "63c99f8e-9755-46f7-bea8-2dee9ef9e657",
   "metadata": {},
   "source": [
    "### Q8. Provide an example of a classification problem where precision is the most important metric, andexplain why."
   ]
  },
  {
   "cell_type": "markdown",
   "id": "0143cdc2-a622-4e22-b8a6-7eeb4f887168",
   "metadata": {},
   "source": [
    "It explains how many of the correctly predicted cases actually turned out to be positive. Precision is useful in the cases where False Positive is a higher concern than False Negatives. The importance of Precision is in music or video recommendation systems, e-commerce websites, etc. where wrong results could lead to customer churn and this could be harmful to the business.\n",
    "\n",
    "Precision for a label is defined as the number of true positives divided by the number of predicted positives."
   ]
  },
  {
   "cell_type": "markdown",
   "id": "4831d20b-7249-4716-b845-6a520b65a335",
   "metadata": {},
   "source": [
    "### Q9. Provide an example of a classification problem where recall is the most important metric, and explainwhy."
   ]
  },
  {
   "cell_type": "code",
   "execution_count": null,
   "id": "4a8324cf-5ef3-4b44-bbe7-11e07b3ecd80",
   "metadata": {},
   "outputs": [],
   "source": []
  }
 ],
 "metadata": {
  "kernelspec": {
   "display_name": "Python 3 (ipykernel)",
   "language": "python",
   "name": "python3"
  },
  "language_info": {
   "codemirror_mode": {
    "name": "ipython",
    "version": 3
   },
   "file_extension": ".py",
   "mimetype": "text/x-python",
   "name": "python",
   "nbconvert_exporter": "python",
   "pygments_lexer": "ipython3",
   "version": "3.10.8"
  }
 },
 "nbformat": 4,
 "nbformat_minor": 5
}
