{
 "cells": [
  {
   "cell_type": "markdown",
   "id": "0ddeceb2-5426-441f-aeb7-3fb441fa9293",
   "metadata": {},
   "source": [
    "Q1, Create a vehicle class with an init method having instance variables as name_of_vehicle, max_speed\n",
    "and average_of_vehicle."
   ]
  },
  {
   "cell_type": "code",
   "execution_count": 42,
   "id": "f52039f9-5c98-4b2c-a8dd-ed9bc8d8df2b",
   "metadata": {},
   "outputs": [],
   "source": [
    "class vehicle:\n",
    "    def __init__(self,name_of_vehicle,max_speed,average_of_vehicle):\n",
    "        self.name_of_vehicle=name_of_vehicle\n",
    "        self.max_speed=max_speed\n",
    "        self.average_of_vehicel=average_of_vehicle\n",
    "        \n",
    "    "
   ]
  },
  {
   "cell_type": "code",
   "execution_count": 43,
   "id": "f68d95fb-d122-47b6-b05d-3b5d8b6cc838",
   "metadata": {},
   "outputs": [],
   "source": [
    "car1=vehicle(\"XUV\",500,33)"
   ]
  },
  {
   "cell_type": "code",
   "execution_count": 44,
   "id": "15e759fa-2582-44a2-be56-621a38fdbf7e",
   "metadata": {},
   "outputs": [
    {
     "data": {
      "text/plain": [
       "'XUV'"
      ]
     },
     "execution_count": 44,
     "metadata": {},
     "output_type": "execute_result"
    }
   ],
   "source": [
    "car1.name_of_vehicle"
   ]
  },
  {
   "cell_type": "markdown",
   "id": "df53a169-7d09-4f1a-ba86-17cc29d190a2",
   "metadata": {},
   "source": [
    "Q2. Create a child class car from the vehicle class created in Que 1, which will inherit the vehicle class.\n",
    "Create a method named seating_capacity which takes capacity as an argument and returns the name of\n",
    "the vehicle and its seating capacity."
   ]
  },
  {
   "cell_type": "code",
   "execution_count": 54,
   "id": "53393fa0-3bde-43f2-aaf1-25cd584e0879",
   "metadata": {},
   "outputs": [],
   "source": [
    "class car(vehicle):\n",
    "    def seating_capacity(self,capacity,name_of_vehicle):\n",
    "        return name_of_vehicle,capacity"
   ]
  },
  {
   "cell_type": "code",
   "execution_count": 55,
   "id": "6590e955-51b2-4798-bb69-2920b9a1bb94",
   "metadata": {},
   "outputs": [],
   "source": [
    "obj=car(\"xuv\",32,55)"
   ]
  },
  {
   "cell_type": "code",
   "execution_count": 57,
   "id": "c8e6d46e-20dd-43a8-ac4c-8fd245770f69",
   "metadata": {},
   "outputs": [
    {
     "data": {
      "text/plain": [
       "('xuv', 14)"
      ]
     },
     "execution_count": 57,
     "metadata": {},
     "output_type": "execute_result"
    }
   ],
   "source": [
    "obj.seating_capacity(14,'xuv')"
   ]
  },
  {
   "cell_type": "code",
   "execution_count": 58,
   "id": "31beb028-092b-43e5-8def-33af6ee70050",
   "metadata": {},
   "outputs": [
    {
     "data": {
      "text/plain": [
       "'xuv'"
      ]
     },
     "execution_count": 58,
     "metadata": {},
     "output_type": "execute_result"
    }
   ],
   "source": [
    "obj.name_of_vehicle"
   ]
  },
  {
   "cell_type": "markdown",
   "id": "39c2f3ab-b09c-4a49-af75-96f5027cee05",
   "metadata": {},
   "source": [
    "Q3. What is multiple inheritance? Write a python code to demonstrate multiple inheritance."
   ]
  },
  {
   "cell_type": "markdown",
   "id": "68afc1dc-c2bd-4c02-9c74-eb1cf01dd19f",
   "metadata": {},
   "source": [
    "When a class is derived from more than one class is called multiple inheritance"
   ]
  },
  {
   "cell_type": "code",
   "execution_count": 66,
   "id": "0dcaa0cd-0044-44a6-b652-ba2cc3491cdc",
   "metadata": {},
   "outputs": [],
   "source": [
    "class fst_class:\n",
    "    def test_fst_class(self):\n",
    "        print(\"this is my class1\")"
   ]
  },
  {
   "cell_type": "code",
   "execution_count": 67,
   "id": "d1bd82a8-74a5-4d64-8949-77db733a5f36",
   "metadata": {},
   "outputs": [],
   "source": [
    "class class2:\n",
    "    def test_class2(self):\n",
    "        print(\"this is my class2\")"
   ]
  },
  {
   "cell_type": "code",
   "execution_count": 71,
   "id": "1c09c77c-f549-42b7-a549-80d4005f18f8",
   "metadata": {},
   "outputs": [],
   "source": [
    "class class3(fst_class):\n",
    "    def test_class3(self):\n",
    "        print(\"this is my class2\")"
   ]
  },
  {
   "cell_type": "code",
   "execution_count": 72,
   "id": "0dac2fd3-c841-4a44-a212-c216adfb268e",
   "metadata": {},
   "outputs": [],
   "source": [
    "obj_class3=class3()\n",
    "    "
   ]
  },
  {
   "cell_type": "code",
   "execution_count": 73,
   "id": "672c94ea-a755-4645-ba50-3db5b504b2b4",
   "metadata": {},
   "outputs": [
    {
     "name": "stdout",
     "output_type": "stream",
     "text": [
      "this is my class1\n"
     ]
    }
   ],
   "source": [
    "obj_class3.test_fst_class()"
   ]
  },
  {
   "cell_type": "markdown",
   "id": "3f9722b5-d8f1-4212-b691-b7b95b1fe2a0",
   "metadata": {},
   "source": [
    "Q4. What are getter and setter in python? Create a class and create a getter and a setter method in this\n",
    "class."
   ]
  },
  {
   "cell_type": "markdown",
   "id": "acedd8c7-c222-4cc4-8e4d-f366fde471be",
   "metadata": {},
   "source": [
    "A method that allows you to access an attribute in a given class."
   ]
  },
  {
   "cell_type": "markdown",
   "id": "46489dd7-2769-40c6-8070-9b0776797552",
   "metadata": {},
   "source": [
    "A method that allows you to set or mutate the value of an attribute in a class."
   ]
  },
  {
   "cell_type": "code",
   "execution_count": 75,
   "id": "61e08e3b-5051-4480-afc6-66c30a76b6ef",
   "metadata": {},
   "outputs": [],
   "source": [
    "class pwskills:\n",
    "    def  __init__(self,course_price,course_name):\n",
    "        self.__course_price=course_price\n",
    "        self.course_name=course_name\n",
    "        \n",
    "    @property\n",
    "    def course_price_access(self):\n",
    "        return self.__course_price\n",
    "    \n",
    "    @course_price_access.setter\n",
    "    def course_price_set(self,price):\n",
    "        if price<=3500:\n",
    "            pass\n",
    "        else:\n",
    "            self.__course_price=price\n",
    "    "
   ]
  },
  {
   "cell_type": "code",
   "execution_count": 76,
   "id": "b5b419b3-bb67-410c-8b44-3075b5ccb073",
   "metadata": {},
   "outputs": [],
   "source": [
    "pw=pwskills(3500,\"data science masters\")"
   ]
  },
  {
   "cell_type": "code",
   "execution_count": 79,
   "id": "866a94b7-0587-49d1-993d-d64b681bb03a",
   "metadata": {},
   "outputs": [],
   "source": [
    "pw.course_price_set=6500"
   ]
  },
  {
   "cell_type": "code",
   "execution_count": 80,
   "id": "1fbd9b0c-1444-4a91-a267-263bb7d0a0ef",
   "metadata": {},
   "outputs": [
    {
     "data": {
      "text/plain": [
       "6500"
      ]
     },
     "execution_count": 80,
     "metadata": {},
     "output_type": "execute_result"
    }
   ],
   "source": [
    "pw.course_price_access"
   ]
  },
  {
   "cell_type": "markdown",
   "id": "147ffdc8-8d4d-4473-9aec-3a331825e125",
   "metadata": {},
   "source": [
    "Q5.What is method overriding in python? Write a python code to demonstrate method overriding."
   ]
  },
  {
   "cell_type": "markdown",
   "id": "344c1a07-0944-4571-9ba5-fde2a35c4b0b",
   "metadata": {},
   "source": [
    "Method overridding is a feature of oops where a child class provide the program with specific characteristics that are already defined in parent class."
   ]
  },
  {
   "cell_type": "code",
   "execution_count": null,
   "id": "8f248d45-571c-48d3-a0e0-85cb6f87b99a",
   "metadata": {},
   "outputs": [],
   "source": []
  }
 ],
 "metadata": {
  "kernelspec": {
   "display_name": "Python 3 (ipykernel)",
   "language": "python",
   "name": "python3"
  },
  "language_info": {
   "codemirror_mode": {
    "name": "ipython",
    "version": 3
   },
   "file_extension": ".py",
   "mimetype": "text/x-python",
   "name": "python",
   "nbconvert_exporter": "python",
   "pygments_lexer": "ipython3",
   "version": "3.10.8"
  }
 },
 "nbformat": 4,
 "nbformat_minor": 5
}
