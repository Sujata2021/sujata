{
 "cells": [
  {
   "cell_type": "code",
   "execution_count": 10,
   "id": "023e7d80",
   "metadata": {},
   "outputs": [
    {
     "name": "stdout",
     "output_type": "stream",
     "text": [
      "division by zero\n"
     ]
    }
   ],
   "source": [
    "try:\n",
    "    5/0\n",
    "except Exception as e:\n",
    "    print(e)"
   ]
  },
  {
   "cell_type": "code",
   "execution_count": 11,
   "id": "0532892a",
   "metadata": {},
   "outputs": [
    {
     "name": "stdout",
     "output_type": "stream",
     "text": [
      "AmericansplayBaseball\n",
      "AmericansplayCricket\n",
      "AmericanswatchBaseball\n",
      "AmericanswatchCricket\n",
      "IndiansplayBaseball\n",
      "IndiansplayCricket\n",
      "IndianswatchBaseball\n",
      "IndianswatchCricket\n"
     ]
    }
   ],
   "source": [
    "subjects=[\"Americans\",\"Indians\"]\n",
    "verbs=[\"play\",\"watch\"]\n",
    "objects=[\"Baseball\",\"Cricket\"]\n",
    "print(subjects[0]+verbs[0]+objects[0])\n",
    "print(subjects[0]+verbs[0]+objects[1])\n",
    "print(subjects[0]+verbs[1]+objects[0])\n",
    "print(subjects[0]+verbs[1]+objects[1])\n",
    "print(subjects[1]+verbs[0]+objects[0])\n",
    "print(subjects[1]+verbs[0]+objects[1])\n",
    "print(subjects[1]+verbs[1]+objects[0])\n",
    "print(subjects[1]+verbs[1]+objects[1])"
   ]
  },
  {
   "cell_type": "code",
   "execution_count": 12,
   "id": "196b580d",
   "metadata": {},
   "outputs": [
    {
     "name": "stdout",
     "output_type": "stream",
     "text": [
      "('Americans', 'play', 'Baseball')\n",
      "('Americans', 'play', 'Cricket')\n",
      "('Americans', 'watch', 'Baseball')\n",
      "('Americans', 'watch', 'Cricket')\n",
      "('Indians', 'play', 'Baseball')\n",
      "('Indians', 'play', 'Cricket')\n",
      "('Indians', 'watch', 'Baseball')\n",
      "('Indians', 'watch', 'Cricket')\n"
     ]
    }
   ],
   "source": [
    "import itertools as it\n",
    "subjects=[\"Americans\",\"Indians\"]\n",
    "verbs=[\"play\",\"watch\"]\n",
    "objects=[\"Baseball\",\"Cricket\"]\n",
    "combined=[subjects,verbs,objects]\n",
    "index_combin = [];\n",
    "words_combin = [];\n",
    "\n",
    "for i in range(3,len(combined)+1):\n",
    "    dummy = it.combinations(range(0, len(combined)),i);\n",
    "    index_combin.append(list(dummy));\n",
    "\n",
    "sets = [];\n",
    "for i in index_combin:\n",
    "    for j in i:\n",
    "        sets.append([combined[k] for k in j]);\n",
    "\n",
    "for i in sets:\n",
    "    for j in list(it.product(*i)):\n",
    "        print(j)"
   ]
  },
  {
   "cell_type": "code",
   "execution_count": null,
   "id": "d37257fe",
   "metadata": {},
   "outputs": [],
   "source": []
  },
  {
   "cell_type": "code",
   "execution_count": null,
   "id": "ac5a5447",
   "metadata": {},
   "outputs": [],
   "source": []
  },
  {
   "cell_type": "code",
   "execution_count": null,
   "id": "d50c4ccf",
   "metadata": {},
   "outputs": [],
   "source": []
  },
  {
   "cell_type": "code",
   "execution_count": null,
   "id": "011a7ed3",
   "metadata": {},
   "outputs": [],
   "source": []
  }
 ],
 "metadata": {
  "kernelspec": {
   "display_name": "Python 3",
   "language": "python",
   "name": "python3"
  },
  "language_info": {
   "codemirror_mode": {
    "name": "ipython",
    "version": 3
   },
   "file_extension": ".py",
   "mimetype": "text/x-python",
   "name": "python",
   "nbconvert_exporter": "python",
   "pygments_lexer": "ipython3",
   "version": "3.8.8"
  }
 },
 "nbformat": 4,
 "nbformat_minor": 5
}
