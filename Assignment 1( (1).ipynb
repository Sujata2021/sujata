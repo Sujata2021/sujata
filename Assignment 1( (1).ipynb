{
 "cells": [
  {
   "cell_type": "markdown",
   "id": "71317ac0-1d1e-4100-a766-13d9ca4ab918",
   "metadata": {},
   "source": [
    "1. Create one variable containing following type of data:"
   ]
  },
  {
   "cell_type": "raw",
   "id": "85db79b3-8c95-4e81-9151-1e023292df68",
   "metadata": {},
   "source": [
    "a. string"
   ]
  },
  {
   "cell_type": "code",
   "execution_count": 1,
   "id": "4a2ae22a-07f4-407a-a6d7-229602a0bbd0",
   "metadata": {},
   "outputs": [],
   "source": [
    "a1=\"sujata\""
   ]
  },
  {
   "cell_type": "code",
   "execution_count": 2,
   "id": "1b04e694-bdb9-4722-99aa-049bdb8ec343",
   "metadata": {},
   "outputs": [
    {
     "data": {
      "text/plain": [
       "'sujata'"
      ]
     },
     "execution_count": 2,
     "metadata": {},
     "output_type": "execute_result"
    }
   ],
   "source": [
    "a1"
   ]
  },
  {
   "cell_type": "markdown",
   "id": "88388728-2f7c-4ff8-86ba-4df85a4b1bd8",
   "metadata": {},
   "source": [
    "b.list"
   ]
  },
  {
   "cell_type": "code",
   "execution_count": 3,
   "id": "07e3eb6d-334f-4fee-94e8-f2d836c4bdd3",
   "metadata": {},
   "outputs": [],
   "source": [
    "a2=[12,\"suji\",2,4]"
   ]
  },
  {
   "cell_type": "code",
   "execution_count": 4,
   "id": "1088b80a-bdaa-487a-baae-433bcec20b08",
   "metadata": {},
   "outputs": [
    {
     "data": {
      "text/plain": [
       "[12, 'suji', 2, 4]"
      ]
     },
     "execution_count": 4,
     "metadata": {},
     "output_type": "execute_result"
    }
   ],
   "source": [
    "a2"
   ]
  },
  {
   "cell_type": "code",
   "execution_count": null,
   "id": "04947a61-ca45-4298-a2ce-4795224542c7",
   "metadata": {},
   "outputs": [],
   "source": [
    "c.float"
   ]
  },
  {
   "cell_type": "code",
   "execution_count": 5,
   "id": "f7d6622c-911b-4185-b94a-04ea54b3e20a",
   "metadata": {},
   "outputs": [],
   "source": [
    "a3=6.5"
   ]
  },
  {
   "cell_type": "code",
   "execution_count": 7,
   "id": "8f9630ee-ef43-417c-9617-ac8ee47731cd",
   "metadata": {},
   "outputs": [
    {
     "data": {
      "text/plain": [
       "float"
      ]
     },
     "execution_count": 7,
     "metadata": {},
     "output_type": "execute_result"
    }
   ],
   "source": [
    "type(a3)"
   ]
  },
  {
   "cell_type": "markdown",
   "id": "af3d4cbb-8a7f-4874-ac55-7acd84c2652a",
   "metadata": {},
   "source": [
    "d.tuple"
   ]
  },
  {
   "cell_type": "code",
   "execution_count": 18,
   "id": "78e5f3eb-51f3-485d-a249-805a3598b0dd",
   "metadata": {},
   "outputs": [],
   "source": [
    "a4=(2,4,5,7,\"suji\",[2,4,6,7])"
   ]
  },
  {
   "cell_type": "code",
   "execution_count": 19,
   "id": "8ce0b44f-4191-4829-b6bc-f8f279db372d",
   "metadata": {},
   "outputs": [
    {
     "data": {
      "text/plain": [
       "tuple"
      ]
     },
     "execution_count": 19,
     "metadata": {},
     "output_type": "execute_result"
    }
   ],
   "source": [
    "type(a4)"
   ]
  },
  {
   "cell_type": "markdown",
   "id": "5bc00bb8-0e55-4ada-8742-658005ad5907",
   "metadata": {},
   "source": [
    "2.Data type of the given variable."
   ]
  },
  {
   "cell_type": "code",
   "execution_count": 1,
   "id": "0536c102-57ad-4c34-8cfe-01f488083f7d",
   "metadata": {},
   "outputs": [],
   "source": [
    "var1=''"
   ]
  },
  {
   "cell_type": "code",
   "execution_count": 2,
   "id": "4bc791a2-83a3-4e29-a7fc-9eddecf906f0",
   "metadata": {},
   "outputs": [
    {
     "data": {
      "text/plain": [
       "str"
      ]
     },
     "execution_count": 2,
     "metadata": {},
     "output_type": "execute_result"
    }
   ],
   "source": [
    "type(var1)"
   ]
  },
  {
   "cell_type": "code",
   "execution_count": 3,
   "id": "e05d2ddb-fc04-4f73-892d-3b7967b55017",
   "metadata": {},
   "outputs": [],
   "source": [
    "var2='[DS,ML,Python]'"
   ]
  },
  {
   "cell_type": "code",
   "execution_count": 4,
   "id": "17467383-7687-4ac4-97fe-7165f87f418c",
   "metadata": {},
   "outputs": [
    {
     "data": {
      "text/plain": [
       "str"
      ]
     },
     "execution_count": 4,
     "metadata": {},
     "output_type": "execute_result"
    }
   ],
   "source": [
    "type(var2)"
   ]
  },
  {
   "cell_type": "code",
   "execution_count": 5,
   "id": "ee043a31-8f41-4a2a-9162-02225fd184ea",
   "metadata": {},
   "outputs": [],
   "source": [
    "var3=['DS','ML','Python']"
   ]
  },
  {
   "cell_type": "code",
   "execution_count": 6,
   "id": "bad9b299-0057-4392-9d65-f4c0003a0916",
   "metadata": {},
   "outputs": [
    {
     "data": {
      "text/plain": [
       "list"
      ]
     },
     "execution_count": 6,
     "metadata": {},
     "output_type": "execute_result"
    }
   ],
   "source": [
    "type(var3)"
   ]
  },
  {
   "cell_type": "code",
   "execution_count": 7,
   "id": "a17e2a6a-80e8-41ba-800c-718e2d5fdccb",
   "metadata": {},
   "outputs": [],
   "source": [
    "var4=1"
   ]
  },
  {
   "cell_type": "code",
   "execution_count": 8,
   "id": "d328954c-1d22-4112-affe-cf09ade5af45",
   "metadata": {},
   "outputs": [
    {
     "data": {
      "text/plain": [
       "int"
      ]
     },
     "execution_count": 8,
     "metadata": {},
     "output_type": "execute_result"
    }
   ],
   "source": [
    "type(var4)"
   ]
  },
  {
   "cell_type": "markdown",
   "id": "812ed0f9-20ea-433d-9719-563ab95b3cb6",
   "metadata": {},
   "source": [
    "3)OPERATORS\n"
   ]
  },
  {
   "cell_type": "code",
   "execution_count": 11,
   "id": "3a876f5f-81de-41e6-bfb2-e888f5312b16",
   "metadata": {},
   "outputs": [
    {
     "data": {
      "text/plain": [
       "1.25"
      ]
     },
     "execution_count": 11,
     "metadata": {},
     "output_type": "execute_result"
    }
   ],
   "source": [
    "'/ is division operator '\n",
    "5/4"
   ]
  },
  {
   "cell_type": "code",
   "execution_count": 12,
   "id": "9896f59a-df45-4987-8ad1-614e079a768f",
   "metadata": {},
   "outputs": [
    {
     "data": {
      "text/plain": [
       "1"
      ]
     },
     "execution_count": 12,
     "metadata": {},
     "output_type": "execute_result"
    }
   ],
   "source": [
    "'% is remainder operator which gives the remainder'\n",
    "5%4"
   ]
  },
  {
   "cell_type": "code",
   "execution_count": 13,
   "id": "9529367a-1991-4f6c-8a87-9aa9b300aa84",
   "metadata": {},
   "outputs": [
    {
     "data": {
      "text/plain": [
       "1"
      ]
     },
     "execution_count": 13,
     "metadata": {},
     "output_type": "execute_result"
    }
   ],
   "source": [
    "'// is floor division which gives the floor value'\n",
    "5//4"
   ]
  },
  {
   "cell_type": "code",
   "execution_count": 14,
   "id": "bc6a0703-c2fc-4f14-a547-40464e32167f",
   "metadata": {},
   "outputs": [
    {
     "data": {
      "text/plain": [
       "1"
      ]
     },
     "execution_count": 14,
     "metadata": {},
     "output_type": "execute_result"
    }
   ],
   "source": [
    "8//5"
   ]
  },
  {
   "cell_type": "code",
   "execution_count": 15,
   "id": "ccbfe22e-bb18-42e3-97e1-2955cfd8240e",
   "metadata": {},
   "outputs": [
    {
     "data": {
      "text/plain": [
       "8"
      ]
     },
     "execution_count": 15,
     "metadata": {},
     "output_type": "execute_result"
    }
   ],
   "source": [
    "'** is power operator'\n",
    "2**3"
   ]
  },
  {
   "cell_type": "code",
   "execution_count": 16,
   "id": "2c17ef3d-5667-441f-8d45-c794f93bbc40",
   "metadata": {},
   "outputs": [
    {
     "data": {
      "text/plain": [
       "81"
      ]
     },
     "execution_count": 16,
     "metadata": {},
     "output_type": "execute_result"
    }
   ],
   "source": [
    "3**4"
   ]
  },
  {
   "cell_type": "markdown",
   "id": "8d5b66dc-8742-47de-9801-a9ee33edf838",
   "metadata": {},
   "source": [
    " 4)Create a list of your choice containing multiple types of data.Using for loop print the element and its data type. "
   ]
  },
  {
   "cell_type": "code",
   "execution_count": 1,
   "id": "ec662b2e-9bef-46d3-8050-81a9816df316",
   "metadata": {},
   "outputs": [
    {
     "name": "stdout",
     "output_type": "stream",
     "text": [
      "23 <class 'int'>\n",
      "5.2 <class 'float'>\n",
      "suji <class 'str'>\n",
      "[3, 5, 8] <class 'list'>\n",
      "4.5 <class 'float'>\n",
      "6 <class 'int'>\n",
      "7 <class 'int'>\n",
      "9 <class 'int'>\n",
      "10 <class 'int'>\n",
      "8.3 <class 'float'>\n",
      "[2, 'school'] <class 'list'>\n"
     ]
    }
   ],
   "source": [
    "l1=[23,5.2,\"suji\",[3,5,8],4.5,6,7,9,10,8.3,[2,'school']]\n",
    "for i in l1:\n",
    "    print (i,type(i))\n",
    "    "
   ]
  },
  {
   "cell_type": "markdown",
   "id": "c97b01c4-bcb7-4fa0-98f3-7dea6df30bd6",
   "metadata": {},
   "source": [
    "5)Using a while loop, verify if number A is purely divisible by number B and if so then how many times it can be divisible."
   ]
  },
  {
   "cell_type": "code",
   "execution_count": null,
   "id": "da4c1272-7fed-4144-a0a6-87adf3fc8df2",
   "metadata": {},
   "outputs": [],
   "source": [
    "A=10\n",
    "B=2\n",
    "i=1\n",
    "while i<A:\n",
    "       if A/B==0:\n",
    "            print(\"The number A is purely divisible by B\")\n",
    "            print(i)\n",
    "else:\n",
    "     print(\"The number A is not divisible by B\")\n",
    "i+=1\n"
   ]
  },
  {
   "cell_type": "markdown",
   "id": "7c3c4681-ff7c-4e62-96e2-c2f223a96c0c",
   "metadata": {},
   "source": [
    "6)Create a list containing 25 int type data.Using for loop and if-else condition print if the number is divisible by 3 or not."
   ]
  },
  {
   "cell_type": "code",
   "execution_count": 15,
   "id": "75bc4d9a-60ca-437b-80c6-4b3c25dca182",
   "metadata": {},
   "outputs": [
    {
     "name": "stdout",
     "output_type": "stream",
     "text": [
      "The number is not divisible by 3\n",
      "The number is not divisible by 3\n",
      "The number is divisible by 3\n",
      "The number is not divisible by 3\n",
      "The number is divisible by 3\n",
      "The number is divisible by 3\n",
      "The number is not divisible by 3\n",
      "The number is divisible by 3\n",
      "The number is divisible by 3\n",
      "The number is divisible by 3\n",
      "The number is not divisible by 3\n",
      "The number is divisible by 3\n",
      "The number is divisible by 3\n",
      "The number is not divisible by 3\n",
      "The number is not divisible by 3\n",
      "The number is not divisible by 3\n",
      "The number is divisible by 3\n",
      "The number is not divisible by 3\n",
      "The number is divisible by 3\n",
      "The number is not divisible by 3\n",
      "The number is divisible by 3\n",
      "The number is divisible by 3\n",
      "The number is not divisible by 3\n",
      "The number is not divisible by 3\n",
      "The number is divisible by 3\n"
     ]
    }
   ],
   "source": [
    "l2=[2,5,6,8,9,3,5,90,15,12,31,15,18,19,17,37,81,62,54,20,54,24,22,37,48]\n",
    "for i in l2:\n",
    "    if i%3==0:\n",
    "        print(\"The number is divisible by 3\")\n",
    "    else:\n",
    "        print(\"The number is not divisible by 3\") "
   ]
  },
  {
   "cell_type": "markdown",
   "id": "36fe2610-dc72-4a2f-a1ad-e394e1b01c04",
   "metadata": {},
   "source": [
    "MUTABLE and IMMUTABLE"
   ]
  },
  {
   "cell_type": "code",
   "execution_count": 1,
   "id": "e5a4304c-d4e7-496c-9d4b-2ce92665b280",
   "metadata": {},
   "outputs": [],
   "source": [
    "L11=[1,2,4,5,\"SUJI\",67,89]"
   ]
  },
  {
   "cell_type": "code",
   "execution_count": 7,
   "id": "f885377e-2bf5-4c99-b6aa-9ca0298fc8f9",
   "metadata": {},
   "outputs": [],
   "source": [
    "L11.append(7)"
   ]
  },
  {
   "cell_type": "code",
   "execution_count": 8,
   "id": "ff8a7d3c-0873-483d-9a94-488ed86a8788",
   "metadata": {},
   "outputs": [
    {
     "data": {
      "text/plain": [
       "[1, 2, 4, 5, 'SUJI', 67, 89, 7, 7]"
      ]
     },
     "execution_count": 8,
     "metadata": {},
     "output_type": "execute_result"
    }
   ],
   "source": [
    "L11"
   ]
  },
  {
   "cell_type": "code",
   "execution_count": 2,
   "id": "036b9201-5405-48f6-853e-7a05ef4b603f",
   "metadata": {},
   "outputs": [],
   "source": [
    "b2=\"suji\""
   ]
  },
  {
   "cell_type": "code",
   "execution_count": 7,
   "id": "2dd13850-7575-4eaa-9a6f-aea77c049e53",
   "metadata": {},
   "outputs": [
    {
     "ename": "TypeError",
     "evalue": "'str' object does not support item assignment",
     "output_type": "error",
     "traceback": [
      "\u001b[0;31m---------------------------------------------------------------------------\u001b[0m",
      "\u001b[0;31mTypeError\u001b[0m                                 Traceback (most recent call last)",
      "Cell \u001b[0;32mIn[7], line 1\u001b[0m\n\u001b[0;32m----> 1\u001b[0m \u001b[43mb2\u001b[49m\u001b[43m[\u001b[49m\u001b[38;5;124;43m'\u001b[39;49m\u001b[38;5;124;43ms\u001b[39;49m\u001b[38;5;124;43m'\u001b[39;49m\u001b[43m]\u001b[49m\u001b[38;5;241m=\u001b[39m\u001b[38;5;124m\"\u001b[39m\u001b[38;5;124ma\u001b[39m\u001b[38;5;124m\"\u001b[39m\n",
      "\u001b[0;31mTypeError\u001b[0m: 'str' object does not support item assignment"
     ]
    }
   ],
   "source": [
    "b2['s']=\"a\""
   ]
  },
  {
   "cell_type": "markdown",
   "id": "28a27c82-2c65-4e42-849e-303bb81d735f",
   "metadata": {},
   "source": [
    "list is mutable but string is immutable "
   ]
  },
  {
   "cell_type": "code",
   "execution_count": null,
   "id": "7366e513-cd20-4650-b65d-b0c81289e498",
   "metadata": {},
   "outputs": [],
   "source": []
  },
  {
   "cell_type": "code",
   "execution_count": null,
   "id": "f208b6c2-a7a2-4605-bcf7-9abfe93072b9",
   "metadata": {},
   "outputs": [],
   "source": []
  },
  {
   "cell_type": "code",
   "execution_count": null,
   "id": "85bc2c82-0ec3-4cf9-a029-63d694e9e408",
   "metadata": {},
   "outputs": [],
   "source": []
  }
 ],
 "metadata": {
  "kernelspec": {
   "display_name": "Python 3 (ipykernel)",
   "language": "python",
   "name": "python3"
  },
  "language_info": {
   "codemirror_mode": {
    "name": "ipython",
    "version": 3
   },
   "file_extension": ".py",
   "mimetype": "text/x-python",
   "name": "python",
   "nbconvert_exporter": "python",
   "pygments_lexer": "ipython3",
   "version": "3.10.8"
  }
 },
 "nbformat": 4,
 "nbformat_minor": 5
}
