{
 "cells": [
  {
   "cell_type": "markdown",
   "id": "da1a7f38-d799-4dc5-b8b9-3f0f193e8f47",
   "metadata": {},
   "source": [
    "## Q1. Calculate the 95% confidence interval for a sample of data with a mean of 50 and a standard deviation of 5 using Python. Interpret the results."
   ]
  },
  {
   "cell_type": "code",
   "execution_count": 2,
   "id": "1f4951f3-0959-4057-b2a7-2c3ba3613387",
   "metadata": {},
   "outputs": [
    {
     "name": "stderr",
     "output_type": "stream",
     "text": [
      "/tmp/ipykernel_136/2559657026.py:4: DeprecationWarning: Use of keyword argument `alpha` for method `interval` is deprecated. Use first positional argument or keyword argument `confidence` instead.\n",
      "  st.t.interval(alpha=0.95, df=len(data)-1,\n"
     ]
    },
    {
     "data": {
      "text/plain": [
       "(39.4953897987952, 60.5046102012048)"
      ]
     },
     "execution_count": 2,
     "metadata": {},
     "output_type": "execute_result"
    }
   ],
   "source": [
    "data=[5,10,15,20,25,30,35,40,45,50,55,60,65,70,75,80,85,90,95]\n",
    "import scipy.stats as st\n",
    "# create 90% confidence interval\n",
    "st.t.interval(alpha=0.95, df=len(data)-1,\n",
    "              loc=50,\n",
    "              scale=5)\n"
   ]
  },
  {
   "cell_type": "markdown",
   "id": "24d77f7a-b2c1-41d8-90cd-7017be0c433f",
   "metadata": {},
   "source": [
    "## Q2. Conduct a chi-square goodness of fit test to determine if the distribution of colors of M&Ms in a bag matches the expected distribution of 20% blue, 20% orange, 20% green, 10% yellow, 10% red, and 20% brown. Use Python to perform the test with a significance level of 0.05."
   ]
  },
  {
   "cell_type": "code",
   "execution_count": null,
   "id": "ef7e337d-ef8a-4fd8-9bd3-549ead875b38",
   "metadata": {},
   "outputs": [],
   "source": []
  },
  {
   "cell_type": "markdown",
   "id": "2e511952-3db3-4c0d-9452-b87c4216d563",
   "metadata": {},
   "source": [
    "## Q3. Use Python to calculate the chi-square statistic and p-value for a contingency table with the following data:"
   ]
  },
  {
   "cell_type": "markdown",
   "id": "67bde705-15b5-40b5-8b0f-cc5b939f3c92",
   "metadata": {},
   "source": [
    "           Group A    Group B\n",
    "\n",
    "Outcome1     20     15\n",
    "\n",
    "Outcome2     10     25\n",
    "\n",
    "Outcome3     15     20\n"
   ]
  },
  {
   "cell_type": "code",
   "execution_count": 1,
   "id": "ef1f9d72-f533-431b-a571-d174dde0bec5",
   "metadata": {},
   "outputs": [
    {
     "name": "stdout",
     "output_type": "stream",
     "text": [
      "p value is 0.05411376622282158\n",
      "Independent (H0 holds true)\n"
     ]
    }
   ],
   "source": [
    "from scipy.stats import chi2_contingency\n",
    " \n",
    "# defining the table\n",
    "data = [[20,10, 15], [15, 25, 20]]\n",
    "stat, p, dof, expected = chi2_contingency(data)\n",
    " \n",
    "# interpret p-value\n",
    "alpha = 0.05\n",
    "print(\"p value is \" + str(p))\n",
    "if p <= alpha:\n",
    "    print('Dependent (reject H0)')\n",
    "else:\n",
    "    print('Independent (H0 holds true)')"
   ]
  },
  {
   "cell_type": "markdown",
   "id": "1249aece-e67c-4890-901b-148f93d6a3b6",
   "metadata": {},
   "source": [
    "## Q4. A study of the prevalence of smoking in a population of 500 individuals found that 60 individuals smoked. Use Python to calculate the 95% confidence interval for the true proportion of individuals in the population who smoke."
   ]
  },
  {
   "cell_type": "code",
   "execution_count": 18,
   "id": "ec972634-9f9e-4598-9acf-9a054150c3d3",
   "metadata": {},
   "outputs": [
    {
     "name": "stdout",
     "output_type": "stream",
     "text": [
      "[260 285 265  35  94 152 257 103 136  41 430 368  62 462 154 380 428 264\n",
      " 146 473 172 280   3 462 202 433 483 492 466 482 312 305  89 487 291 382\n",
      "  41 498 257 111 130 431 380 380 229 204 216 171 164 166 435 395 318 167\n",
      " 253  30 110 212 119 432]\n"
     ]
    },
    {
     "name": "stderr",
     "output_type": "stream",
     "text": [
      "/tmp/ipykernel_120/3563385914.py:12: DeprecationWarning: Use of keyword argument `alpha` for method `interval` is deprecated. Use first positional argument or keyword argument `confidence` instead.\n",
      "  st.norm.interval(alpha=0.95,\n"
     ]
    },
    {
     "data": {
      "text/plain": [
       "(229.2117145090853, 303.62161882424806)"
      ]
     },
     "execution_count": 18,
     "metadata": {},
     "output_type": "execute_result"
    }
   ],
   "source": [
    "n=500\n",
    "smoked=60\n",
    "a=0.05\n",
    "import numpy as np\n",
    "import scipy.stats as st\n",
    "  \n",
    "# define sample data\n",
    "gfg_data = np.random.randint(1, 500, 60)\n",
    "print(gfg_data)\n",
    "# create 90% confidence interval\n",
    "# for population mean weight\n",
    "st.norm.interval(alpha=0.95,\n",
    "                 loc=np.mean(gfg_data),\n",
    "                 scale=st.sem(gfg_data))"
   ]
  },
  {
   "cell_type": "markdown",
   "id": "cd5261b7-f0b7-40ff-be02-275711b4d34a",
   "metadata": {},
   "source": [
    "## Q5. Calculate the 90% confidence interval for a sample of data with a mean of 75 and a standard deviation of 12 using Python. Interpret the results."
   ]
  },
  {
   "cell_type": "code",
   "execution_count": 11,
   "id": "a4199507-cb8c-45ae-9fe4-09dbfadd72b6",
   "metadata": {},
   "outputs": [
    {
     "name": "stderr",
     "output_type": "stream",
     "text": [
      "/tmp/ipykernel_120/1999465938.py:8: DeprecationWarning: Use of keyword argument `alpha` for method `interval` is deprecated. Use first positional argument or keyword argument `confidence` instead.\n",
      "  st.t.interval(alpha=0.90,\n"
     ]
    },
    {
     "data": {
      "text/plain": [
       "(51.89891300367725, 98.10108699632275)"
      ]
     },
     "execution_count": 11,
     "metadata": {},
     "output_type": "execute_result"
    }
   ],
   "source": [
    "import numpy as np\n",
    "import scipy.stats as st\n",
    "\n",
    "# define sample data\n",
    "gfg_data = [3,15,27,39,51,63,75,87,99,111,123,135,147]\n",
    "\n",
    "# create 99% confidence interval\n",
    "st.t.interval(alpha=0.90,\n",
    "\t\t\tdf=len(gfg_data)-1,\n",
    "\t\t\tloc=np.mean(gfg_data),\n",
    "\t\t\tscale=st.sem(gfg_data))\n"
   ]
  },
  {
   "cell_type": "markdown",
   "id": "76c15289-2e6f-429f-88c7-75694c25ea8f",
   "metadata": {},
   "source": [
    "## Q6. Use Python to plot the chi-square distribution with 10 degrees of freedom. Label the axes and shade the area corresponding to a chi-square statistic of 15."
   ]
  },
  {
   "cell_type": "code",
   "execution_count": 15,
   "id": "37578acc-8349-42d0-b4ba-a3f15328b953",
   "metadata": {},
   "outputs": [
    {
     "name": "stdout",
     "output_type": "stream",
     "text": [
      "Distribution : \n",
      " [ 0.          0.2244898   0.44897959  0.67346939  0.89795918  1.12244898\n",
      "  1.34693878  1.57142857  1.79591837  2.02040816  2.24489796  2.46938776\n",
      "  2.69387755  2.91836735  3.14285714  3.36734694  3.59183673  3.81632653\n",
      "  4.04081633  4.26530612  4.48979592  4.71428571  4.93877551  5.16326531\n",
      "  5.3877551   5.6122449   5.83673469  6.06122449  6.28571429  6.51020408\n",
      "  6.73469388  6.95918367  7.18367347  7.40816327  7.63265306  7.85714286\n",
      "  8.08163265  8.30612245  8.53061224  8.75510204  8.97959184  9.20408163\n",
      "  9.42857143  9.65306122  9.87755102 10.10204082 10.32653061 10.55102041\n",
      " 10.7755102  11.        ]\n"
     ]
    },
    {
     "data": {
      "image/png": "[encoded data removed]",
      "text/plain": [
       "<Figure size 640x480 with 1 Axes>"
      ]
     },
     "metadata": {},
     "output_type": "display_data"
    }
   ],
   "source": [
    "import numpy as np\n",
    "import matplotlib.pyplot as plt\n",
    "from scipy.stats import chi \n",
    "rv=chi(15)  \n",
    "distribution = np.linspace(0, np.minimum(rv.dist.b, 11))\n",
    "print(\"Distribution : \\n\", distribution)\n",
    "  \n",
    "plot = plt.plot(distribution, rv.pdf(distribution))"
   ]
  },
  {
   "cell_type": "markdown",
   "id": "3c4f3ab8-51a0-42e5-b729-b3328722e239",
   "metadata": {},
   "source": [
    "## Q7. A random sample of 1000 people was asked if they preferred Coke or Pepsi. Of the sample, 520 preferred Coke. Calculate a 99% confidence interval for the true proportion of people in the population who prefer Coke."
   ]
  },
  {
   "cell_type": "code",
   "execution_count": 20,
   "id": "70ec2744-66ad-4e8c-ad31-3514fab84fb6",
   "metadata": {},
   "outputs": [
    {
     "name": "stderr",
     "output_type": "stream",
     "text": [
      "/tmp/ipykernel_120/140472647.py:9: DeprecationWarning: Use of keyword argument `alpha` for method `interval` is deprecated. Use first positional argument or keyword argument `confidence` instead.\n",
      "  st.norm.interval(alpha=0.99,\n"
     ]
    },
    {
     "data": {
      "text/plain": [
       "(467.74440141438583, 533.6594447394604)"
      ]
     },
     "execution_count": 20,
     "metadata": {},
     "output_type": "execute_result"
    }
   ],
   "source": [
    "import numpy as np\n",
    "import scipy.stats as st\n",
    "\n",
    "# define sample data\n",
    "gfg_data = np.random.randint(1, 1000, 520)\n",
    "\n",
    "# create 99% confidence interval\n",
    "# for population mean weight\n",
    "st.norm.interval(alpha=0.99,\n",
    "\t\t\t\tloc=np.mean(gfg_data),\n",
    "\t\t\t\tscale=st.sem(gfg_data))\n"
   ]
  },
  {
   "cell_type": "markdown",
   "id": "13e7b561-2f1f-410a-b323-ccc6bc7e508e",
   "metadata": {},
   "source": [
    "## Q8. A researcher hypothesizes that a coin is biased towards tails. They flip the coin 100 times and observe 45 tails. Conduct a chi-square goodness of fit test to determine if the observed frequencies match the expected frequencies of a fair coin. Use a significance level of 0.05."
   ]
  },
  {
   "cell_type": "code",
   "execution_count": 26,
   "id": "d1e652d8-c328-4969-95ac-7ac818674c00",
   "metadata": {},
   "outputs": [
    {
     "name": "stdout",
     "output_type": "stream",
     "text": [
      "1.0\n",
      "0.31731050786291115\n"
     ]
    },
    {
     "data": {
      "text/plain": [
       "(None, None)"
      ]
     },
     "execution_count": 26,
     "metadata": {},
     "output_type": "execute_result"
    }
   ],
   "source": [
    "observed_data=[55,45]\n",
    "Expected_data=[50,50]\n",
    "dof=100-1\n",
    "import scipy.stats as stat\n",
    "import numpy as np\n",
    "sum(Expected_data),sum(observed_data)\n",
    "chisquare_test_statistics,p_value=stat.chisquare(observed_data,Expected_data)\n",
    "print(chisquare_test_statistics),print(p_value)\n"
   ]
  },
  {
   "cell_type": "code",
   "execution_count": 27,
   "id": "3814f8d0-62af-4e8a-a601-720b44539ca5",
   "metadata": {},
   "outputs": [],
   "source": [
    "## find the critical value\n",
    "significance=0.05\n",
    "dof=len(observed_data)-1\n",
    "critical_value=stat.chi2.ppf(1-significance,dof)"
   ]
  },
  {
   "cell_type": "code",
   "execution_count": 28,
   "id": "4618fbc1-b6ed-4a87-9178-93514700a96d",
   "metadata": {},
   "outputs": [
    {
     "data": {
      "text/plain": [
       "3.841458820694124"
      ]
     },
     "execution_count": 28,
     "metadata": {},
     "output_type": "execute_result"
    }
   ],
   "source": [
    "critical_value"
   ]
  },
  {
   "cell_type": "code",
   "execution_count": 29,
   "id": "e46a8789-8c78-4f2a-8fe3-45f41931eb30",
   "metadata": {},
   "outputs": [
    {
     "name": "stdout",
     "output_type": "stream",
     "text": [
      "Accept the null hypothesis\n"
     ]
    }
   ],
   "source": [
    "if chisquare_test_statistics > critical_value:\n",
    "    print(\"Reject the null hypothesis\")\n",
    "else:\n",
    "    print(\"Accept the null hypothesis\")"
   ]
  },
  {
   "cell_type": "markdown",
   "id": "6d0b14c5-c3dc-4d19-9408-ecf6f4a5e8ef",
   "metadata": {},
   "source": [
    "## Q9. A study was conducted to determine if there is an association between smoking status (smoker or non-smoker) and lung cancer diagnosis (yes or no). The results are shown in the contingency table below.Conduct a chi-square test for independence to determine if there is a significant association between smoking status and lung cancer diagnosis. Use a significance level of 0.05."
   ]
  },
  {
   "cell_type": "markdown",
   "id": "34fb4954-271e-42ac-a075-31fc081b7cdf",
   "metadata": {},
   "source": [
    "Lung Cancer:      Yes         No\n",
    "\n",
    "Smoker            60           140\n",
    "\n",
    "Non-smoker        30           170"
   ]
  },
  {
   "cell_type": "code",
   "execution_count": 30,
   "id": "f78afa6a-28fc-45bd-b189-223bd795f954",
   "metadata": {},
   "outputs": [
    {
     "name": "stdout",
     "output_type": "stream",
     "text": [
      "p value is 0.003555747830183694\n",
      "Dependent (reject H0)\n"
     ]
    }
   ],
   "source": [
    "from scipy.stats import chi2_contingency\n",
    " \n",
    "# defining the table\n",
    "data = [[60,140], [130,170]]\n",
    "stat, p, dof, expected = chi2_contingency(data)\n",
    " \n",
    "# interpret p-value\n",
    "alpha = 0.05\n",
    "print(\"p value is \" + str(p))\n",
    "if p <= alpha:\n",
    "    print('Dependent (reject H0)')\n",
    "else:\n",
    "    print('Independent (H0 holds true)')"
   ]
  },
  {
   "cell_type": "markdown",
   "id": "a7ec2643-462d-4a36-834c-8eb1c2138411",
   "metadata": {},
   "source": [
    "## Q10. A study was conducted to determine if the proportion of people who prefer milk chocolate, dark chocolate, or white chocolate is different in the U.S. versus the U.K. A random sample of 500 people fromthe U.S. and a random sample of 500 people from the U.K. were surveyed. The results are shown in the contingency table below. Conduct a chi-square test for independence to determine if there is a significant association between chocolate preference and country of origin."
   ]
  },
  {
   "cell_type": "raw",
   "id": "2b3960df-21c5-4639-84c0-4f8b719a4b70",
   "metadata": {},
   "source": [
    "          Milk Chocolate     Dark chocolate     White Chocolate\n",
    "\n",
    "U.S. (n=500)    200             150                150\n",
    "\n",
    "U.K. (n=500)    225             175                100\n"
   ]
  },
  {
   "cell_type": "code",
   "execution_count": 36,
   "id": "00a0bfad-6d83-412c-9a58-4c81d66301e2",
   "metadata": {},
   "outputs": [
    {
     "name": "stdout",
     "output_type": "stream",
     "text": [
      "p value is 0.0012348168997745918\n",
      "Dependent (reject H0)\n"
     ]
    }
   ],
   "source": [
    "from scipy.stats import chi2_contingency\n",
    "\n",
    "# defining the table\n",
    "data = [[200, 150, 150], [225, 175, 100]]\n",
    "stat, p, dof, expected = chi2_contingency(data)\n",
    "\n",
    "# interpret p-value\n",
    "alpha = 0.01\n",
    "print(\"p value is \" + str(p))\n",
    "if p <= alpha:\n",
    "\tprint('Dependent (reject H0)')\n",
    "else:\n",
    "\tprint('Independent (H0 holds true)')\n"
   ]
  },
  {
   "cell_type": "markdown",
   "id": "77189706-0287-4081-8b02-e0e174265854",
   "metadata": {},
   "source": [
    "## Q11. A random sample of 30 people was selected from a population with an unknown mean and standard deviation. The sample mean was found to be 72 and the sample standard deviation was found to be 10.Conduct a hypothesis test to determine if the population mean is significantly different from 70. Use a significance level of 0.05."
   ]
  },
  {
   "cell_type": "code",
   "execution_count": 5,
   "id": "5544b113-a86a-4344-9fa5-d642cab0749d",
   "metadata": {},
   "outputs": [
    {
     "name": "stdout",
     "output_type": "stream",
     "text": [
      "Population mean is not different\n"
     ]
    }
   ],
   "source": [
    "x=72\n",
    "u=70\n",
    "s=10\n",
    "n=30\n",
    "import math\n",
    "\n",
    "t=(x-u)* math.sqrt(n)/10\n",
    "critical_value =2.045\n",
    "if t< critical_value:\n",
    "    print(\"Population mean is not different\")\n",
    "else:\n",
    "    print(\"Population mean is significantly different\")"
   ]
  },
  {
   "cell_type": "code",
   "execution_count": null,
   "id": "9f576e49-0b46-48ed-adce-5b87330545d9",
   "metadata": {},
   "outputs": [],
   "source": []
  }
 ],
 "metadata": {
  "kernelspec": {
   "display_name": "Python 3 (ipykernel)",
   "language": "python",
   "name": "python3"
  },
  "language_info": {
   "codemirror_mode": {
    "name": "ipython",
    "version": 3
   },
   "file_extension": ".py",
   "mimetype": "text/x-python",
   "name": "python",
   "nbconvert_exporter": "python",
   "pygments_lexer": "ipython3",
   "version": "3.10.8"
  }
 },
 "nbformat": 4,
 "nbformat_minor": 5
}
