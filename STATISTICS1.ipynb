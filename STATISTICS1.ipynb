{
 "cells": [
  {
   "cell_type": "markdown",
   "id": "12d84e02-436a-4ca4-bbc4-f20889072e71",
   "metadata": {},
   "source": [
    "## Q1. What is Statistics?"
   ]
  },
  {
   "cell_type": "markdown",
   "id": "bdf9fa08-b966-4981-8f50-dab777bea4e7",
   "metadata": {},
   "source": [
    "Statistics is the science of collecting,organizing and analyzing the data."
   ]
  },
  {
   "cell_type": "markdown",
   "id": "32c6dc50-84e5-400b-b1bf-5c2d0bbffbc7",
   "metadata": {},
   "source": [
    "## Q2. Define the different types of statistics and give an example of when each type might be used."
   ]
  },
  {
   "cell_type": "markdown",
   "id": "1d85a02b-c2cb-4ce1-9b4b-61aa449d2727",
   "metadata": {},
   "source": [
    "a.Descriptive Statistics-It consists oforganizing and summarizing the data.\n",
    "\n",
    "\n",
    "b.Inferential Statistics-It consist of using data you have measured to form conclusion."
   ]
  },
  {
   "cell_type": "markdown",
   "id": "a92ac170-1341-477a-b315-358ad3de46c5",
   "metadata": {},
   "source": [
    "## Q4. Categorise the following datasets with respect to quantitative and qualitative data types:\n",
    "\n",
    "(i) Grading in exam: A+, A, B+, B, C+, C, D, E\n",
    "\n",
    "(ii) Colour of mangoes: yellow, green, orange, red\n",
    "\n",
    "(iii) Height data of a class: [178.9, 179, 179.5, 176, 177.2, 178.3, 175.8,...]\n",
    "\n",
    "(iv) Number of mangoes exported by a farm: [500, 600, 478, 672, ...]"
   ]
  },
  {
   "cell_type": "markdown",
   "id": "2203160e-1600-41ad-a8ab-52ce2e313c54",
   "metadata": {},
   "source": [
    "i)Qualitative\n",
    "\n",
    "ii)Qualitative\n",
    "\n",
    "iii)Quantitive\n",
    "\n",
    "iv)Quantitive"
   ]
  },
  {
   "cell_type": "markdown",
   "id": "ea1e2a76-24e0-437a-be49-cf9ac0ed6f2f",
   "metadata": {},
   "source": [
    "## Q5. Explain the concept of levels of measurement and give an example of a variable for each level."
   ]
  },
  {
   "cell_type": "markdown",
   "id": "fefa5f0a-a2c0-4176-90ac-bb3a37dda2bf",
   "metadata": {},
   "source": [
    "Data can be classified as being on one of four scales: nominal, ordinal, interval or ratio. Each level of measurement has some important properties that are useful to know.\n",
    "\n",
    "Gender is an example of a variable that is measured on a nominal scale. Individuals may be classified as “male” or “female”, but neither value represents more or less “gender” than the other.\n",
    "\n",
    "Ordinal Scale-In a race if Ram takes first and Vidur takes second place, we do not know competition was close by how many seconds.\n",
    "\n",
    "Interval Scale-temperature on Fahrenheit/Celsius thermometer i.e. 90° are hotter than 45° and the difference between 10° and 30° are the same as the difference between 60° degrees and 80°.\n",
    "\n",
    "Ratio Scale- In distance 10 miles is twice as long as 5 mile.\n",
    "\n"
   ]
  },
  {
   "cell_type": "markdown",
   "id": "b63a1881-a8aa-4a34-97e5-f3236654a841",
   "metadata": {},
   "source": [
    "## Q6. Why is it important to understand the level of measurement when analyzing data? Provide an example to illustrate your answer."
   ]
  },
  {
   "cell_type": "markdown",
   "id": "9b64c56b-e3d2-4e0c-ad3c-b6c6724c049b",
   "metadata": {},
   "source": [
    "It is important for the researcher to understand the different levels of measurement, as these levels of measurement, together with how the research question is phrased, dictate what statistical analysis is appropriate. \n",
    "\n",
    "That variable has a number of attributes. Let’s assume that in this particular election context the only relevant attributes are “republican”, “democrat”, and “independent”. For purposes of analyzing the results of this variable, we arbitrarily assign the values 1, 2 and 3 to the three attributes. The level of measurement describes the relationship among these three values. In this case, we simply are using the numbers as shorter placeholders for the lengthier text terms. We don’t assume that higher values mean “more” of something and lower numbers signify “less”. We don’t assume the value of 2 means that democrats are twice something that republicans are. We don’t assume that republicans are in first place or have the highest priority just because they have the value of 1. In this case, we only use the values as a shorter name for the attribute"
   ]
  },
  {
   "cell_type": "markdown",
   "id": "27365c19-8168-41c7-ae73-bc130a7dd273",
   "metadata": {},
   "source": [
    "## Q7. How nominal data type is different from ordinal data type."
   ]
  },
  {
   "cell_type": "markdown",
   "id": "0118fb01-62bd-4140-89cd-42de8d0812da",
   "metadata": {},
   "source": [
    "Nominal: Used to categorize data into mutually exclusive categories or groups. Ordinal: Used to measure variables in a natural order, such as rating or ranking. "
   ]
  },
  {
   "cell_type": "markdown",
   "id": "921f7eb8-6ceb-4cc3-8add-4be51e283807",
   "metadata": {},
   "source": [
    "## Q8. Which type of plot can be used to display data in terms of range?"
   ]
  },
  {
   "cell_type": "markdown",
   "id": "269d66cc-abc2-40ab-92f9-5a012e641adc",
   "metadata": {},
   "source": [
    "Scatterplot"
   ]
  },
  {
   "cell_type": "markdown",
   "id": "6c7d775a-6763-400a-b7a8-86d86252968a",
   "metadata": {},
   "source": [
    "## Q9. Describe the difference between descriptive and inferential statistics. Give an example of each type of statistics and explain how they are used."
   ]
  },
  {
   "cell_type": "markdown",
   "id": "effa3254-df69-49ab-a3b6-5588781b6a16",
   "metadata": {},
   "source": [
    "Descriptive statistics:\n",
    "\n",
    "Describe the features of populations and/or samples\n",
    "\n",
    "Organize and present data in a purely factual way\n",
    "\n",
    "\n",
    "Present final results visually, using tables, charts, or graphs\n",
    "\n",
    "Draw conclusions based on known data\n",
    "\n",
    "Use measures like central tendency, distribution, and variance\n",
    "\n",
    "\n",
    "Inferential statistics:\n",
    "\n",
    "Use samples to make generalizations about larger population\n",
    "\n",
    "Help us to make estimates and predict future outcomes\n",
    "\n",
    "Present final results in the form of probabilities\n",
    "\n",
    "Draw conclusions that go beyond the available data\n",
    "\n",
    "Use techniques like hypothesis testing, confidence intervals, and regression and correlation analysis"
   ]
  },
  {
   "cell_type": "markdown",
   "id": "8658f4b4-cbb8-4cea-aba6-5cb1bc606c9a",
   "metadata": {},
   "source": [
    "## Q10. What are some common measures of central tendency and variability used in statistics? Explain how each measure can be used to describe a dataset."
   ]
  },
  {
   "cell_type": "markdown",
   "id": "dfabfb44-6634-4eb2-9dcc-1e65b0d73f7b",
   "metadata": {},
   "source": [
    "Some of the most commonly used measures of central tendency are:\n",
    "\n",
    "Mean\n",
    "Median\n",
    "Mode"
   ]
  },
  {
   "cell_type": "markdown",
   "id": "b571dc3b-70c5-4c59-a09b-285016380cae",
   "metadata": {},
   "source": [
    "The Median of any distribution is that value that divides the distribution into two equal parts such that the number of observations above it is equal to the number of observations below it. Thus, the median is called the central value of any given data either grouped or ungrouped."
   ]
  },
  {
   "cell_type": "markdown",
   "id": "11814f03-bfb3-4cf4-9a36-d0b6251b27c4",
   "metadata": {},
   "source": [
    "The Mode is the value of that observation which has a maximum frequency corresponding to it. In other, that observation of the data occurs the maximum number of times in a dataset.\n"
   ]
  },
  {
   "cell_type": "markdown",
   "id": "22f570be-aa69-4905-bcab-0acf3b0272e3",
   "metadata": {},
   "source": [
    "\n"
   ]
  },
  {
   "cell_type": "code",
   "execution_count": null,
   "id": "4672ec8f-db21-418a-8c65-0f25743de269",
   "metadata": {},
   "outputs": [],
   "source": []
  }
 ],
 "metadata": {
  "kernelspec": {
   "display_name": "Python 3 (ipykernel)",
   "language": "python",
   "name": "python3"
  },
  "language_info": {
   "codemirror_mode": {
    "name": "ipython",
    "version": 3
   },
   "file_extension": ".py",
   "mimetype": "text/x-python",
   "name": "python",
   "nbconvert_exporter": "python",
   "pygments_lexer": "ipython3",
   "version": "3.10.8"
  }
 },
 "nbformat": 4,
 "nbformat_minor": 5
}
