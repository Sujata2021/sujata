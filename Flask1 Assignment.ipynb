{
 "cells": [
  {
   "cell_type": "markdown",
   "id": "c00a548e-b484-461a-bd9c-be7e2118640f",
   "metadata": {},
   "source": [
    "Q1. What is Flask Framework? What are the advantages of Flask Framework?"
   ]
  },
  {
   "cell_type": "markdown",
   "id": "6ac9cf62-2e80-4782-8889-8cfbbf659b2e",
   "metadata": {},
   "source": [
    "Flask is a web framework that allows developers to build lightweight web applications quickly and easily with Flask Libraries. "
   ]
  },
  {
   "cell_type": "markdown",
   "id": "f5e57a39-97f3-4c3b-903e-e2d6c5c75c53",
   "metadata": {},
   "source": [
    "1)Flask is a lightweight backend framework with minimal dependencies.\n",
    "    \n",
    "2)Flask is easy to learn because its simple and intuitive API makes it easy to learn and use for beginners.\n",
    "\n",
    "3)Flask is a flexible Framework because it allows you to customize and extend the framework to suit your needs easily."
   ]
  },
  {
   "cell_type": "markdown",
   "id": "237d0167-a9e3-4c4a-811c-4311bf0779d3",
   "metadata": {},
   "source": [
    "Q2. Create a simple Flask application to display ‘Hello World!!’. Attach the screenshot of the output in\n",
    "Jupyter Notebook."
   ]
  },
  {
   "cell_type": "markdown",
   "id": "2cb4316f-58a1-4161-9e3e-736223f5b003",
   "metadata": {
    "tags": []
   },
   "source": [
    "# from flask import Flask\n",
    "\n",
    "app = Flask(__name__)\n",
    "\n",
    "@app.route(\"/\")\n",
    "\n",
    "def hello_world():\n",
    "\n",
    "    return \"Hello, World!\""
   ]
  },
  {
   "cell_type": "markdown",
   "id": "952a5795-4959-49cc-b722-60ecb1edb686",
   "metadata": {},
   "source": [
    "Hello, World!"
   ]
  },
  {
   "cell_type": "markdown",
   "id": "0d2c5847-763a-4716-a7dd-7879d0ecae4a",
   "metadata": {},
   "source": [
    "Q3. What is App routing in Flask? Why do we use app routes?"
   ]
  },
  {
   "cell_type": "markdown",
   "id": "9661d128-e074-4122-8002-d66384b48f3d",
   "metadata": {},
   "source": [
    "App Routing means mapping the URLs to a specific function that will handle the logic for that URL. Modern web frameworks use more meaningful URLs to help users remember the URLs and make navigation simpler."
   ]
  },
  {
   "cell_type": "markdown",
   "id": "20457046-3326-42b6-916d-ceaf52b28c9a",
   "metadata": {},
   "source": [
    "The route() decorator in Flask is used to bind an URL to a function. As a result when the URL is mentioned in the browser, the function is executed to give the result. "
   ]
  },
  {
   "cell_type": "markdown",
   "id": "71875fbc-4e9a-4e44-8eff-e654c69d331b",
   "metadata": {},
   "source": [
    "Q4. Create a “/welcome” route to display the welcome message “Welcome to ABC Corporation” and a “/”\n",
    "route to show the following details:\n",
    "Company Name: ABC Corporation\n",
    "Location: India\n",
    "Contact Detail: 999-999-9999\n",
    "Attach the screenshot of the output in Jupyter Notebook."
   ]
  },
  {
   "cell_type": "markdown",
   "id": "b4bccfcb-6480-4697-8fe1-fa24a718c4bf",
   "metadata": {},
   "source": [
    "from flask import Flask\n",
    "\n",
    "app = Flask(__name__)\n",
    "\n",
    "@app.route(\"/welcome\")\n",
    "\n",
    "def Welcome():\n",
    "\n",
    "    return \"Welcome to ABC Corporation\"\n",
    "    \n",
    "if __name__==\"__main__\":\n",
    "\n",
    " app.run(host=\"0.0.0.0\")"
   ]
  },
  {
   "cell_type": "markdown",
   "id": "b65cde6a-1425-4031-affe-26a44fc09fb6",
   "metadata": {},
   "source": [
    "***Second Part***"
   ]
  },
  {
   "cell_type": "markdown",
   "id": "636a90d7-3965-4896-a200-97fe6365cd09",
   "metadata": {},
   "source": [
    "from flask import Flask\n",
    "\n",
    "app = Flask(__name__)\n",
    "\n",
    "@app.route(\"/\")\n",
    "\n",
    "def company():\n",
    "\n",
    "    return\"Company Name: ABC Corporation Location: India Contact Detail: 999-999-9999\"\n",
    "\n",
    "if __name__==\"__main__\":\n",
    "\n",
    "    app.run(host=\"0.0.0.0\")"
   ]
  },
  {
   "cell_type": "markdown",
   "id": "0fa240ba-7d17-4ad9-aa60-10d74d0221a5",
   "metadata": {},
   "source": [
    "Q5. What function is used in Flask for URL Building? Write a Python code to demonstrate the working of the\n",
    "url_for() function."
   ]
  },
  {
   "cell_type": "code",
   "execution_count": null,
   "id": "a39dba84-5073-45d9-bfd3-e8d247487bf7",
   "metadata": {},
   "outputs": [],
   "source": []
  }
 ],
 "metadata": {
  "kernelspec": {
   "display_name": "Python 3 (ipykernel)",
   "language": "python",
   "name": "python3"
  },
  "language_info": {
   "codemirror_mode": {
    "name": "ipython",
    "version": 3
   },
   "file_extension": ".py",
   "mimetype": "text/x-python",
   "name": "python",
   "nbconvert_exporter": "python",
   "pygments_lexer": "ipython3",
   "version": "3.10.8"
  }
 },
 "nbformat": 4,
 "nbformat_minor": 5
}
