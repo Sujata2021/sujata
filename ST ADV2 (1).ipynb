{
 "cells": [
  {
   "cell_type": "markdown",
   "id": "dcaca1bc-e2fe-4b40-9202-3e91be809387",
   "metadata": {},
   "source": [
    "## Q1. Write a Python function that takes in two arrays of data and calculates the F-value for a variance ratio test. The function should return the F-value and the corresponding p-value for the test."
   ]
  },
  {
   "cell_type": "code",
   "execution_count": 4,
   "id": "8ce18269-f7eb-45d8-9db6-c2537dbd7d73",
   "metadata": {},
   "outputs": [
    {
     "name": "stdout",
     "output_type": "stream",
     "text": [
      "0.010464 0.00042400000000000017\n"
     ]
    },
    {
     "data": {
      "text/plain": [
       "(24.679245283018858, 0.004431318383760985)"
      ]
     },
     "execution_count": 4,
     "metadata": {},
     "output_type": "execute_result"
    }
   ],
   "source": [
    "import numpy as np\n",
    "import scipy.stats\n",
    "\n",
    "# Create data\n",
    "group1 = [0.28, 0.2, 0.26, 0.28, 0.5]\n",
    "group2 = [0.2, 0.23, 0.26, 0.21, 0.23]\n",
    "\n",
    "# converting the list to array\n",
    "x = np.array(group1)\n",
    "y = np.array(group2)\n",
    "\n",
    "# calculate variance of each group\n",
    "print(np.var(group1), np.var(group2))\n",
    "\n",
    "def f_test(group1, group2):\n",
    "\tf = np.var(group1, ddof=1)/np.var(group2, ddof=1)\n",
    "\tnun = x.size-1\n",
    "\tdun = y.size-1\n",
    "\tp_value = 1-scipy.stats.f.cdf(f, nun, dun)\n",
    "\treturn f, p_value\n",
    "\n",
    "# perform F-test\n",
    "f_test(x, y)\n"
   ]
  },
  {
   "cell_type": "markdown",
   "id": "490659de-5d9a-4e07-91a8-e91356452846",
   "metadata": {},
   "source": [
    "## Q2. Given a significance level of 0.05 and the degrees of freedom for the numerator and denominator of an F-distribution, write a Python function that returns the critical F-value for a two-tailed test."
   ]
  },
  {
   "cell_type": "code",
   "execution_count": 19,
   "id": "0ee69e0f-77bb-4546-bbb2-23e6bb4ce7cf",
   "metadata": {},
   "outputs": [],
   "source": [
    "group1=[18, 19, 22, 25, 27, 28, 41, 45, 51, 55]\n",
    "group2= [14, 15, 15, 17, 18, 22, 25, 25, 27, 34]\n",
    "\n",
    "x=np.array(group1)\n",
    "y=np.array(group2)\n",
    "def f_test(group1, group2):\n",
    "\tf = np.var(group1, ddof=1)/np.var(group2, ddof=1)\n",
    "\tnun = x.size-1\n",
    "\tdun = y.size-1\n",
    "\tp_value = 1-scipy.stats.f.cdf(f, nun, dun)\n",
    "\treturn p_value"
   ]
  },
  {
   "cell_type": "code",
   "execution_count": 20,
   "id": "74a2fc7c-d17e-4683-ba46-ad2a9c773018",
   "metadata": {},
   "outputs": [
    {
     "data": {
      "text/plain": [
       "0.01912653593238578"
      ]
     },
     "execution_count": 20,
     "metadata": {},
     "output_type": "execute_result"
    }
   ],
   "source": [
    "f_test(x,y)"
   ]
  },
  {
   "cell_type": "markdown",
   "id": "969800b3-3e02-45a2-9906-04ac6f1b5470",
   "metadata": {},
   "source": [
    "## Q3. Write a Python program that generates random samples from two normal distributions with known variances and uses an F-test to determine if the variances are equal. The program should output the F-value, degrees of freedom, and p-value for the test."
   ]
  },
  {
   "cell_type": "code",
   "execution_count": 3,
   "id": "f62ef878-f614-4f18-9a90-f6c6c9811d90",
   "metadata": {},
   "outputs": [
    {
     "name": "stdout",
     "output_type": "stream",
     "text": [
      "0.010464 0.00042400000000000017\n"
     ]
    },
    {
     "data": {
      "text/plain": [
       "(24.679245283018858, 0.004431318383760985, 4, 4)"
      ]
     },
     "execution_count": 3,
     "metadata": {},
     "output_type": "execute_result"
    }
   ],
   "source": [
    "import numpy as np\n",
    "import scipy.stats\n",
    "  \n",
    "# Create data\n",
    "group1 = [0.28, 0.2, 0.26, 0.28, 0.5]\n",
    "group2 = [0.2, 0.23, 0.26, 0.21, 0.23]\n",
    "  \n",
    "# converting the list to array\n",
    "x = np.array(group1)\n",
    "y = np.array(group2)\n",
    "  \n",
    "# calculate variance of each group\n",
    "print(np.var(group1), np.var(group2))\n",
    "  \n",
    "def f_test(group1, group2):\n",
    "    f = np.var(group1, ddof=1)/np.var(group2, ddof=1)\n",
    "    nun = x.size-1\n",
    "    dun = y.size-1\n",
    "    p_value = 1-scipy.stats.f.cdf(f, nun, dun)\n",
    "    return f, p_value,nun,dun\n",
    "  \n",
    "# perform F-test\n",
    "f_test(x, y)"
   ]
  },
  {
   "cell_type": "markdown",
   "id": "caaa4820-5f4f-45f2-be7d-398130ce8194",
   "metadata": {},
   "source": [
    "## Q4.The variances of two populations are known to be 10 and 15. A sample of 12 observations is taken from each population. Conduct an F-test at the 5% significance level to determine if the variances are significantly different."
   ]
  },
  {
   "cell_type": "code",
   "execution_count": 2,
   "id": "37dea659-ffb8-4a09-b3e5-6425dd530f47",
   "metadata": {},
   "outputs": [
    {
     "name": "stdout",
     "output_type": "stream",
     "text": [
      "The variances are same\n"
     ]
    }
   ],
   "source": [
    "S1=10\n",
    "S2=15\n",
    "S1_=10/(12-1)\n",
    "S2_=15/(12-1)\n",
    "F=S1_/S2_\n",
    "F\n",
    "if F<2.85:\n",
    "    print (\"The variances are same\")\n",
    "else:\n",
    "    print(\"The variances are different\")"
   ]
  },
  {
   "cell_type": "markdown",
   "id": "f31d2a9f-2c09-4130-9934-a34b7a9f434e",
   "metadata": {},
   "source": [
    "## Q5. A manufacturer claims that the variance of the diameter of a certain product is 0.005. A sample of 25 products is taken, and the sample variance is found to be 0.006. Conduct an F-test at the 1% significance level to determine if the claim is justified."
   ]
  },
  {
   "cell_type": "markdown",
   "id": "272f23bc-97df-4cce-b56c-a0c1d477c174",
   "metadata": {},
   "source": []
  },
  {
   "cell_type": "markdown",
   "id": "ccaed090-176b-436f-b77f-1b8d1a77ef43",
   "metadata": {},
   "source": [
    "## Q6. Write a Python function that takes in the degrees of freedom for the numerator and denominator of an F-distribution and calculates the mean and variance of the distribution. The function should return the mean and variance as a tuple."
   ]
  },
  {
   "cell_type": "markdown",
   "id": "72944dcd-f1be-4f47-8e01-728135a03987",
   "metadata": {},
   "source": [
    "def dof:\n",
    "    "
   ]
  },
  {
   "cell_type": "markdown",
   "id": "a120f2df-471e-49bf-b041-1d59a00827d7",
   "metadata": {},
   "source": [
    "## Q7. A random sample of 10 measurements is taken from a normal population with unknown variance. The sample variance is found to be 25. Another random sample of 15 measurements is taken from another normal population with unknown variance, and the sample variance is found to be 20. Conduct an F-test at the 10% significance level to determine if the variances are significantly different."
   ]
  },
  {
   "cell_type": "code",
   "execution_count": 4,
   "id": "162b479a-df36-427e-9579-1f0391891998",
   "metadata": {},
   "outputs": [
    {
     "name": "stdout",
     "output_type": "stream",
     "text": [
      "The variances are same\n"
     ]
    }
   ],
   "source": [
    "S1=25\n",
    "S2=20\n",
    "S1_=25/(10-1)\n",
    "S2_=20/(15-1)\n",
    "F=S1_/S2_\n",
    "F\n",
    "if F<4.03:\n",
    "    print(\"The variances are same\")\n",
    "else:\n",
    "    print(\"The variances are different\")"
   ]
  },
  {
   "cell_type": "markdown",
   "id": "243fe721-4f47-4720-baaa-647aca2a2eed",
   "metadata": {},
   "source": [
    "## Q8. The following data represent the waiting times in minutes at two different restaurants on a Saturday night: Restaurant A: 24, 25, 28, 23, 22, 20, 27; Restaurant B: 31, 33, 35, 30, 32, 36. Conduct an F-test at the 5% significance level to determine if the variances are significantly different."
   ]
  },
  {
   "cell_type": "code",
   "execution_count": 5,
   "id": "e1af2ea3-b16b-4da2-b450-3798383ec51a",
   "metadata": {},
   "outputs": [],
   "source": [
    "R_A= [24, 25, 28, 23, 22, 20, 27]\n",
    "R_B=[31, 33, 35, 30, 32, 36]"
   ]
  },
  {
   "cell_type": "code",
   "execution_count": 6,
   "id": "28bd8956-a380-4c5a-a229-06f8710cb842",
   "metadata": {},
   "outputs": [],
   "source": [
    "import numpy as np\n",
    "f_test=np.var(R_A)/np.var(R_B)"
   ]
  },
  {
   "cell_type": "code",
   "execution_count": 7,
   "id": "2b25fdef-7ddc-4fc0-b822-3cb67b5d1a4e",
   "metadata": {},
   "outputs": [
    {
     "data": {
      "text/plain": [
       "1.496767651159843"
      ]
     },
     "execution_count": 7,
     "metadata": {},
     "output_type": "execute_result"
    }
   ],
   "source": [
    "f_test"
   ]
  },
  {
   "cell_type": "code",
   "execution_count": 9,
   "id": "bcbbb9d3-d5fd-4ab6-b13b-ac205131b9ec",
   "metadata": {},
   "outputs": [],
   "source": [
    "## Degree of freedom\n",
    "df1=len(R_A)-1\n",
    "df2=len(R_B)-1\n",
    "significane_value=0.05"
   ]
  },
  {
   "cell_type": "code",
   "execution_count": 10,
   "id": "6c3d8a60-dbdb-4e65-9022-d7a62ea572d7",
   "metadata": {},
   "outputs": [],
   "source": [
    "import scipy.stats as stat"
   ]
  },
  {
   "cell_type": "code",
   "execution_count": 11,
   "id": "73de636b-bb5c-4956-93fb-6a93fe583ae8",
   "metadata": {},
   "outputs": [],
   "source": [
    "critical_value=stat.f.ppf(q=1-significane_value,dfn=df1,dfd=df2)"
   ]
  },
  {
   "cell_type": "code",
   "execution_count": 13,
   "id": "370b725d-c151-4d0a-86f4-2f2ec364a03b",
   "metadata": {},
   "outputs": [
    {
     "name": "stdout",
     "output_type": "stream",
     "text": [
      "The variances are same\n"
     ]
    }
   ],
   "source": [
    "if f_test>critical_value:\n",
    "    print(\"The variances are different\")\n",
    "else:\n",
    "    print(\"The variances are same\")"
   ]
  },
  {
   "cell_type": "markdown",
   "id": "d11e2342-9ee7-4006-abf8-c0a1757a0ec6",
   "metadata": {},
   "source": [
    "## Q9. The following data represent the test scores of two groups of students: Group A: 80, 85, 90, 92, 87, 83; Group B: 75, 78, 82, 79, 81, 84. Conduct an F-test at the 1% significance level to determine if the variances are significantly different."
   ]
  },
  {
   "cell_type": "code",
   "execution_count": 14,
   "id": "0a8fea59-ad3a-4b70-8160-8c4330111f8c",
   "metadata": {},
   "outputs": [],
   "source": [
    "G_A =[80, 85, 90, 92, 87, 83]\n",
    "G_B=[75, 78, 82, 79, 81, 84]"
   ]
  },
  {
   "cell_type": "code",
   "execution_count": 15,
   "id": "441b9ee7-d9a6-465f-b4ba-7edbb227ffb7",
   "metadata": {},
   "outputs": [],
   "source": [
    "import numpy as np\n",
    "f_test=np.var(G_A)/np.var(G_B)"
   ]
  },
  {
   "cell_type": "code",
   "execution_count": 16,
   "id": "d4329727-5d8f-4373-8634-308cc3071b51",
   "metadata": {},
   "outputs": [
    {
     "data": {
      "text/plain": [
       "1.9442622950819677"
      ]
     },
     "execution_count": 16,
     "metadata": {},
     "output_type": "execute_result"
    }
   ],
   "source": [
    "f_test"
   ]
  },
  {
   "cell_type": "code",
   "execution_count": 17,
   "id": "a1fa6d24-77be-4f59-adde-1125c63adfc4",
   "metadata": {},
   "outputs": [],
   "source": [
    "## Degree of freedom\n",
    "df1=len(G_A)-1\n",
    "df2=len(G_B)-1\n",
    "significane_value=0.01"
   ]
  },
  {
   "cell_type": "code",
   "execution_count": 18,
   "id": "66b7fd49-5574-4672-b57e-4e50d84fa75b",
   "metadata": {},
   "outputs": [],
   "source": [
    "import scipy.stats as stat"
   ]
  },
  {
   "cell_type": "code",
   "execution_count": 19,
   "id": "f112a5bc-3876-4bd6-9731-59963903e507",
   "metadata": {},
   "outputs": [],
   "source": [
    "critical_value=stat.f.ppf(q=1-significane_value,dfn=df1,dfd=df2)"
   ]
  },
  {
   "cell_type": "code",
   "execution_count": 20,
   "id": "396780eb-5f87-450d-b07d-0543c1e03268",
   "metadata": {},
   "outputs": [
    {
     "name": "stdout",
     "output_type": "stream",
     "text": [
      "The variances are same\n"
     ]
    }
   ],
   "source": [
    "if f_test>critical_value:\n",
    "    print(\"The variances are different\")\n",
    "else:\n",
    "    print(\"The variances are same\")"
   ]
  },
  {
   "cell_type": "code",
   "execution_count": null,
   "id": "efdd81fa-7867-4c06-9f88-1da24e9a852f",
   "metadata": {},
   "outputs": [],
   "source": []
  }
 ],
 "metadata": {
  "kernelspec": {
   "display_name": "Python 3 (ipykernel)",
   "language": "python",
   "name": "python3"
  },
  "language_info": {
   "codemirror_mode": {
    "name": "ipython",
    "version": 3
   },
   "file_extension": ".py",
   "mimetype": "text/x-python",
   "name": "python",
   "nbconvert_exporter": "python",
   "pygments_lexer": "ipython3",
   "version": "3.10.8"
  }
 },
 "nbformat": 4,
 "nbformat_minor": 5
}
