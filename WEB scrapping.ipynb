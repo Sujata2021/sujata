{
 "cells": [
  {
   "cell_type": "markdown",
   "id": "9aefc445-253b-4cfc-8cbd-de7138e9a67f",
   "metadata": {},
   "source": [
    "Q1. What is Web Scraping? Why is it Used? Give three areas where Web Scraping is used to get data."
   ]
  },
  {
   "cell_type": "markdown",
   "id": "e28ff8ce-3a0b-4791-83dd-118b31eafb55",
   "metadata": {},
   "source": [
    "Web scraping is the process of using bots to extract content and data from a website"
   ]
  },
  {
   "cell_type": "markdown",
   "id": "b1f6d08b-3583-4679-a1bf-94dd99dd6687",
   "metadata": {},
   "source": [
    "We use web scraping to parse HTML and XML, while also automating the retrieval of large volumes of data from websites."
   ]
  },
  {
   "cell_type": "markdown",
   "id": "86ae5811-e87b-4230-8431-fc2bb4141e97",
   "metadata": {},
   "source": [
    "price monitoring, price intelligence, news monitoring"
   ]
  },
  {
   "cell_type": "markdown",
   "id": "b1cc78e4-7987-489c-9c5b-284f73fb988f",
   "metadata": {},
   "source": [
    "Q2. What are the different methods used for Web Scraping?"
   ]
  },
  {
   "cell_type": "markdown",
   "id": "fa834783-2630-4e30-8755-2c04b098c107",
   "metadata": {},
   "source": [
    "HTML Parsing- HTML parsing involves the use of JavaScript to target a linear or nested HTML page.\n",
    "\n",
    "DOM Parsing. \n",
    "\n",
    "Vertical Aggregation.\n",
    "\n",
    "XPath.\n",
    "\n",
    "Google Sheets. "
   ]
  },
  {
   "cell_type": "markdown",
   "id": "62b5bf96-1983-40d5-9ce1-8b6daa78d796",
   "metadata": {},
   "source": [
    "Q3. What is Beautiful Soup? Why is it used?"
   ]
  },
  {
   "cell_type": "markdown",
   "id": "735c5783-d8aa-4f52-835a-0df8ce3cb346",
   "metadata": {},
   "source": [
    "Beautiful Soup is a Python library that is used for web scraping purposes to pull the data out of HTML and XML files.\n"
   ]
  },
  {
   "cell_type": "markdown",
   "id": "d50ba027-2617-406b-a9a1-b3dc4ed4d071",
   "metadata": {},
   "source": [
    "It creates a parse tree from page source code that can be used to extract data in a hierarchical and more readable manner."
   ]
  },
  {
   "cell_type": "markdown",
   "id": "1f7c6188-38d7-404f-a1e0-7e48cfbcd146",
   "metadata": {},
   "source": [
    "Q4. Why is flask used in this Web Scraping project?"
   ]
  },
  {
   "cell_type": "markdown",
   "id": "d6e0169b-c2c8-4a80-94f0-e137632b8cdf",
   "metadata": {},
   "source": [
    "Flask is a lightweight framework to build websites. We'll use this to parse our collected data and display it as HTML in a new HTML file. The requests module allows us to send http requests to the website we want to scrape. The first line imports the Flask class and the render_template method from the flask library."
   ]
  },
  {
   "cell_type": "markdown",
   "id": "87e7d397-b2b0-41c4-a2b6-b8a549b9272e",
   "metadata": {},
   "source": [
    "Q5. Write the names of AWS services used in this project. Also, explain the use of each service."
   ]
  },
  {
   "cell_type": "code",
   "execution_count": null,
   "id": "fcf55cf9-ebe6-4efa-bcc1-ee6fb1b7d36a",
   "metadata": {},
   "outputs": [],
   "source": [
    "code pipeline,Bean Stalk is the name of aws services  used in this project.Code Pipeline connects g"
   ]
  }
 ],
 "metadata": {
  "kernelspec": {
   "display_name": "Python 3 (ipykernel)",
   "language": "python",
   "name": "python3"
  },
  "language_info": {
   "codemirror_mode": {
    "name": "ipython",
    "version": 3
   },
   "file_extension": ".py",
   "mimetype": "text/x-python",
   "name": "python",
   "nbconvert_exporter": "python",
   "pygments_lexer": "ipython3",
   "version": "3.10.8"
  }
 },
 "nbformat": 4,
 "nbformat_minor": 5
}
