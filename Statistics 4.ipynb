{
 "cells": [
  {
   "cell_type": "markdown",
   "id": "1f140b2f-3693-416f-a938-a935e501db7d",
   "metadata": {},
   "source": [
    "## Q1: What is Estimation Statistics? Explain point estimate and interval estimate."
   ]
  },
  {
   "cell_type": "markdown",
   "id": "b34c39c5-ff21-4764-92a0-30527033f355",
   "metadata": {},
   "source": [
    "Estimation statistics, or simply estimation, is a data analysis framework that uses a combination of effect sizes, confidence intervals, precision planning, and meta-analysis to plan experiments, analyze data and interpret results.\n",
    "\n",
    "A point estimate is a single value estimate of a parameter. For instance, a sample mean is a point estimate of a population mean. An interval estimate gives you a range of values where the parameter is expected to lie. A confidence interval is the most common type of interval estimate."
   ]
  },
  {
   "cell_type": "markdown",
   "id": "ca83d54f-71cf-4f10-95fd-a5cb46322f00",
   "metadata": {},
   "source": [
    "## Q2. Write a Python function to estimate the population mean using a sample mean and standard deviation."
   ]
  },
  {
   "cell_type": "code",
   "execution_count": 1,
   "id": "ca64bdb9-32c6-420f-a027-82025cf52f4f",
   "metadata": {},
   "outputs": [],
   "source": [
    "\n"
   ]
  },
  {
   "cell_type": "markdown",
   "id": "605150aa-efa0-4377-a946-0fca806a56a8",
   "metadata": {},
   "source": [
    "## Q3: What is Hypothesis testing? Why is it used? State the importance of Hypothesis testing."
   ]
  },
  {
   "cell_type": "markdown",
   "id": "f7bb3329-0c98-45b2-bc91-36aad5c4eb05",
   "metadata": {},
   "source": [
    "Hypothesis testing is an assessment method that allows researchers to determine the plausibility of a hypothesis. It involves testing an assumption about a specific population parameter to know whether it’s true or false. These population parameters include variance, standard deviation, and median.\n",
    "\n",
    "Suppose a company needs to launch a new bicycle in the market. For this situation, they will follow Hypothesis Testing all together decide the success of the new product in the market.Where the likelihood of the product being ineffective in the market is undertaken as the Null Hypothesis and the likelihood of the product being profitable is undertaken as an Alternative Hypothesis. By following the process of Hypothesis testing they will foresee the accomplishment.\n",
    "\n",
    "A statistical Hypothesis is a belief made about a population parameter. This belief may or might not be right. In other words, hypothesis testing is a proper technique utilized by scientist to support or reject statistical hypotheses. The foremost ideal approach to decide if a statistical hypothesis is correct is to examine the whole population.Since that’s frequently impractical, we normally take a random sample from the population and inspect the equivalent. Within the event sample data set isn’t steady with the statistical hypothesis, the hypothesis is refused.\n"
   ]
  },
  {
   "cell_type": "markdown",
   "id": "78e8dcdd-e139-4dbd-a8f0-4f975f3057bc",
   "metadata": {},
   "source": [
    "## Q4. Create a hypothesis that states whether the average weight of male college students is greater than the average weight of female college students."
   ]
  },
  {
   "cell_type": "markdown",
   "id": "973f7b1f-473e-4947-b35d-46a94e6fe064",
   "metadata": {},
   "source": [
    "Null hypothesis(H0):The average weight of male college students is greater than the average weight of female college students\n",
    "\n",
    "Alternate hypothesis(H1):the average weight of male college students is not greater than the average weight of female college students"
   ]
  },
  {
   "cell_type": "markdown",
   "id": "b6760173-b299-45a5-9cc4-ecdef5d5b71e",
   "metadata": {},
   "source": [
    "## Q5. Write a Python script to conduct a hypothesis test on the difference between two population means,given a sample from each population."
   ]
  },
  {
   "cell_type": "code",
   "execution_count": 4,
   "id": "6451ee51-edfa-46c3-b7b8-1f89082baf63",
   "metadata": {},
   "outputs": [
    {
     "data": {
      "text/plain": [
       "Ttest_indResult(statistic=-0.6337397070250238, pvalue=0.5300471010405257)"
      ]
     },
     "execution_count": 4,
     "metadata": {},
     "output_type": "execute_result"
    }
   ],
   "source": [
    "import scipy.stats as stats\n",
    "import numpy as np \n",
    "# Creating data groups\n",
    "data_group1 = np.array([14, 15, 15, 16, 13, 8, 14,\n",
    "                        17, 16, 14, 19, 20, 21, 15,\n",
    "                        15, 16, 16, 13, 14, 12])\n",
    " \n",
    "data_group2 = np.array([15, 17, 14, 17, 14, 8, 12,\n",
    "                        19, 19, 14, 17, 22, 24, 16,\n",
    "                        13, 16, 13, 18, 15, 13])\n",
    " \n",
    "# Perform the two sample t-test with equal variances\n",
    "stats.ttest_ind(a=data_group1, b=data_group2, equal_var=True)"
   ]
  },
  {
   "cell_type": "markdown",
   "id": "36e1e813-b4f0-42ac-9a0f-e958e403910e",
   "metadata": {},
   "source": [
    "p value >0.05(significance value) we fail to reject the null hypothesis.We do not have sufficient evidence to say that the mean  of the population between the two data groups is different."
   ]
  },
  {
   "cell_type": "markdown",
   "id": "ebf61ee0-c9d7-40e6-a131-7166a6b7fe18",
   "metadata": {},
   "source": [
    "## Q6: What is a null and alternative hypothesis? Give some examples."
   ]
  },
  {
   "cell_type": "markdown",
   "id": "9575adbb-d6ae-4359-abff-259c5dd25de1",
   "metadata": {},
   "source": [
    "Null Hypothesis (H0) – This can be thought of as the implied hypothesis. “Null” meaning “nothing.”  This hypothesis states that there is no difference between groups or no relationship between variables. The null hypothesis is a presumption of status quo or no change.\n",
    "\n",
    "Null Hypothesis:  H0: There is no difference in the salary of factory workers based on gender.\n",
    "\n",
    "Alternative Hypothesis (Ha) – This is also known as the claim. This hypothesis should state what you expect the data to show, based on your research on the topic. This is your answer to your research question.\n",
    "\n",
    "Alternative Hypothesis:  Ha: Male factory workers have a higher salary than female factory workers."
   ]
  },
  {
   "cell_type": "markdown",
   "id": "d1a99deb-9e6c-4b94-b235-344d38f57e27",
   "metadata": {},
   "source": [
    "## Q7: Write down the steps involved in hypothesis testing."
   ]
  },
  {
   "cell_type": "markdown",
   "id": "2ca8f147-1a41-4e25-9dc7-fd78289164f8",
   "metadata": {},
   "source": [
    "There are 5 main steps in hypothesis testing:\n",
    "\n",
    "State your research hypothesis as a null hypothesis and alternate hypothesis (Ho) and (Ha or H1).\n",
    "\n",
    "Collect data in a way designed to test the hypothesis.\n",
    "\n",
    "Perform an appropriate statistical test.\n",
    "\n",
    "Decide whether to reject or fail to reject your null hypothesis.\n",
    "\n",
    "Present the findings in your results and discussion section.\n"
   ]
  },
  {
   "cell_type": "markdown",
   "id": "3f354031-50a6-47d4-b683-5dc28f3e33c2",
   "metadata": {},
   "source": [
    "## Q8. Define p-value and explain its significance in hypothesis testing."
   ]
  },
  {
   "cell_type": "markdown",
   "id": "a49404bf-794d-4ec6-8eb7-e23278233b15",
   "metadata": {},
   "source": [
    "A p-value, or probability value, is a number describing how likely it is that your data would have occurred by random chance (i.e. that the null hypothesis is true)."
   ]
  },
  {
   "cell_type": "markdown",
   "id": "c0acf97b-104a-410b-97ca-33285ed5801c",
   "metadata": {},
   "source": [
    "The level of statistical significance is often expressed as a p-value between 0 and 1. The smaller the p-value the less likely the results occurred by random chance, and the stronger the evidence that you should reject the null hypothesis."
   ]
  },
  {
   "cell_type": "markdown",
   "id": "ec7b2e25-409b-4172-b3e5-238e5ce71413",
   "metadata": {},
   "source": [
    "## Q9. Generate a Student's t-distribution plot using Python's matplotlib library, with the degrees of freedom parameter set to 10."
   ]
  },
  {
   "cell_type": "code",
   "execution_count": 3,
   "id": "3e6a766e-d71e-4470-b3d2-573a455fbee4",
   "metadata": {},
   "outputs": [
    {
     "data": {
      "text/plain": [
       "(array([9.41924752e-05, 0.00000000e+00, 0.00000000e+00, 0.00000000e+00,\n",
       "        0.00000000e+00, 0.00000000e+00, 0.00000000e+00, 5.65154851e-04,\n",
       "        1.88384950e-03, 9.51344000e-03, 5.59503303e-02, 2.19751045e-01,\n",
       "        3.70082235e-01, 2.20881354e-01, 5.31245560e-02, 8.19474535e-03,\n",
       "        1.78965703e-03, 0.00000000e+00, 0.00000000e+00, 9.41924752e-05]),\n",
       " array([-13.25416639, -12.19251046, -11.13085453, -10.0691986 ,\n",
       "         -9.00754267,  -7.94588674,  -6.8842308 ,  -5.82257487,\n",
       "         -4.76091894,  -3.69926301,  -2.63760708,  -1.57595115,\n",
       "         -0.51429522,   0.54736071,   1.60901664,   2.67067257,\n",
       "          3.73232851,   4.79398444,   5.85564037,   6.9172963 ,\n",
       "          7.97895223]),\n",
       " <BarContainer object of 20 artists>)"
      ]
     },
     "execution_count": 3,
     "metadata": {},
     "output_type": "execute_result"
    },
    {
     "data": {
      "image/png": "[encoded data removed]",
      "text/plain": [
       "<Figure size 640x480 with 1 Axes>"
      ]
     },
     "metadata": {},
     "output_type": "display_data"
    }
   ],
   "source": [
    "from scipy.stats import t\n",
    "import matplotlib.pyplot as plt\n",
    "\n",
    "#generate t distribution with sample size 10000\n",
    "x = t.rvs(df=10, size=10000)\n",
    "\n",
    "#create plot of t distribution\n",
    "plt.hist(x, density=True, edgecolor='black', bins=20)\n"
   ]
  },
  {
   "cell_type": "markdown",
   "id": "1f256a33-7d3f-4938-8135-ff288a1b653a",
   "metadata": {},
   "source": [
    "## Q10. Write a Python program to calculate the two-sample t-test for independent samples, given two random samples of equal size and a null hypothesis that the population means are equal."
   ]
  },
  {
   "cell_type": "code",
   "execution_count": 6,
   "id": "0ea82e44-1a41-440e-8274-eeb8d5e2c94b",
   "metadata": {},
   "outputs": [
    {
     "data": {
      "text/plain": [
       "Ttest_indResult(statistic=-0.6337397070250238, pvalue=0.5300471010405257)"
      ]
     },
     "execution_count": 6,
     "metadata": {},
     "output_type": "execute_result"
    }
   ],
   "source": [
    "# Python program to demonstrate how to\n",
    "# perform two sample T-test\n",
    "\n",
    "# Import the library\n",
    "import scipy.stats as stats\n",
    "import numpy as np\n",
    "\n",
    "# Creating data groups\n",
    "data_group1 = np.array([14, 15, 15, 16, 13, 8, 14,\n",
    "\t\t\t\t\t\t17, 16, 14, 19, 20, 21, 15,\n",
    "\t\t\t\t\t\t15, 16, 16, 13, 14, 12])\n",
    "\n",
    "data_group2 = np.array([15, 17, 14, 17, 14, 8, 12,\n",
    "\t\t\t\t\t\t19, 19, 14, 17, 22, 24, 16,\n",
    "\t\t\t\t\t\t13, 16, 13, 18, 15, 13])\n",
    "\n",
    "# Perform the two sample t-test with equal variances\n",
    "stats.ttest_ind(a=data_group1, b=data_group2, equal_var=True)\n"
   ]
  },
  {
   "cell_type": "markdown",
   "id": "97956721-936b-4455-9a26-659221b88483",
   "metadata": {},
   "source": [
    "## Q11: What is Student’s t distribution? When to use the t-Distribution."
   ]
  },
  {
   "cell_type": "markdown",
   "id": "bd005a52-6a8f-4d92-9400-d8fc587a0783",
   "metadata": {},
   "source": [
    "Student’s t-distribution, also known as the t-distribution, is a probability distribution that is used in statistics for making inferences about the population mean when the sample size is small or when the population standard deviation is unknown. It is similar to the standard normal distribution (Z-distribution), but it has heavier tails.\n",
    "\n",
    "Student’s t Distribution is used when \n",
    "\n",
    "The sample size is 30 or less than 30.\n",
    "\n",
    "The population standard deviation(σ) is unknown.\n",
    "\n",
    "The population distribution must be unimodal and skewed.\n",
    "\n",
    "\n"
   ]
  },
  {
   "cell_type": "markdown",
   "id": "cc389dba-4099-4bf5-898c-3da7d0acc2fb",
   "metadata": {},
   "source": [
    "## Q12: What is t-statistic? State the formula for t-statistic."
   ]
  },
  {
   "cell_type": "markdown",
   "id": "0820d504-802d-49f9-94c8-5c206a82e9ac",
   "metadata": {},
   "source": [
    "In statistics, the t-statistic is the ratio of the departure of the estimated value of a parameter from its hypothesized value to its standard error. It is used in hypothesis testing via Student's t-test. The t-statistic is used in a t-test to determine whether to support or reject the null hypothesis.\n",
    "\n",
    " t = (X‾ - μ0) / (s / √n), where X‾ is the sample mean, μ0 represents the population mean, s is the standard deviation of the sample and n stands for the size of the sample."
   ]
  },
  {
   "cell_type": "markdown",
   "id": "c159cfcc-d652-44f2-b94c-a3f003b767fd",
   "metadata": {},
   "source": [
    "## Q13. A coffee shop owner wants to estimate the average daily revenue for their shop. They take a random sample of 50 days and find the sample mean revenue to be $500 with a standard deviation of $50.Estimate the population mean revenue with a 95% confidence interval."
   ]
  },
  {
   "cell_type": "code",
   "execution_count": 8,
   "id": "7604d8bb-0e6d-4b75-b6cc-936ad751cd50",
   "metadata": {},
   "outputs": [
    {
     "data": {
      "text/plain": [
       "(486.1407070887437, 513.8592929112564)"
      ]
     },
     "execution_count": 8,
     "metadata": {},
     "output_type": "execute_result"
    }
   ],
   "source": [
    "import math\n",
    "x_=500\n",
    "std=50\n",
    "n=50\n",
    "a=0.05\n",
    "a_=0.025\n",
    "Z=1.96\n",
    "F=x_+(Z*(std/math.sqrt(50)))\n",
    "S=x_-(Z*(std/math.sqrt(50)))\n",
    "S,F"
   ]
  },
  {
   "cell_type": "markdown",
   "id": "e9415356-66fc-48a8-a960-af11d8e74775",
   "metadata": {},
   "source": [
    "## Q14. A researcher hypothesizes that a new drug will decrease blood pressure by 10 mmHg. They conduct a clinical trial with 100 patients and find that the sample mean decrease in blood pressure is 8 mmHg with a standard deviation of 3 mmHg. Test the hypothesis with a significance level of 0.05."
   ]
  },
  {
   "cell_type": "code",
   "execution_count": 14,
   "id": "4a35e9ed-558c-45e2-9e7d-d1aaf480aa4c",
   "metadata": {},
   "outputs": [
    {
     "data": {
      "text/plain": [
       "-6.666666666666667"
      ]
     },
     "execution_count": 14,
     "metadata": {},
     "output_type": "execute_result"
    }
   ],
   "source": [
    "#H0:-New drug  will decrease blood pressure by 10 mm Hg.\n",
    "#H1:-New Drug will not decrease blood pressure by 10 mm Hg.\n",
    "a=0.05\n",
    "n=100\n",
    "std=3 #mm hg)\n",
    "mean=8 #mm hg)\n",
    "#Z_score=1.96\n",
    "Z_Test=(8-10)*math.sqrt(100)/std\n",
    "Z_Test\n"
   ]
  },
  {
   "cell_type": "markdown",
   "id": "f42d8673-0fa3-4228-b303-0e3f88d0212d",
   "metadata": {},
   "source": [
    "Now ,Z_Test<Z_score we will accept the null hypothesis.\n",
    "\n",
    "Conclusion:-New Drug will decrease blood pressure by10 mm hg"
   ]
  },
  {
   "cell_type": "markdown",
   "id": "76b32b27-9391-430d-ab4f-b6db3e8c8d14",
   "metadata": {},
   "source": [
    "## Q15. An electronics company produces a certain type of product with a mean weight of 5 pounds and a standard deviation of 0.5 pounds. A random sample of 25 products is taken, and the sample mean weight is found to be 4.8 pounds. Test the hypothesis that the true mean weight of the products is less than 5 pounds with a significance level of 0.01."
   ]
  },
  {
   "cell_type": "markdown",
   "id": "31e9e456-e9ce-4744-ba98-9ea9fd435c6d",
   "metadata": {},
   "source": [
    "H0:-A certain type of product with a mean weight of 5 pounds\n",
    "\n",
    "H1:-A certain type of product with a mean weight less than 5 pounds"
   ]
  },
  {
   "cell_type": "code",
   "execution_count": 15,
   "id": "b126e11f-f2b2-4687-a6f1-72d7561bff2b",
   "metadata": {},
   "outputs": [
    {
     "data": {
      "text/plain": [
       "-2.0000000000000018"
      ]
     },
     "execution_count": 15,
     "metadata": {},
     "output_type": "execute_result"
    }
   ],
   "source": [
    "std=0.5\n",
    "n=25\n",
    "mean=4.8\n",
    "a=0.01\n",
    "Z_test=(4.8-5)*(math.sqrt(25))/std\n",
    "Z_test\n"
   ]
  },
  {
   "cell_type": "markdown",
   "id": "d5a0699d-4600-422e-8402-e776eb174ce8",
   "metadata": {},
   "source": [
    "Area under curve with Z score is .0228 <0.01 so,we accept the null hypothesis stating a certain type of product with a mean weight of 5 pounds."
   ]
  },
  {
   "cell_type": "markdown",
   "id": "1d8bb50c-3914-49cb-a020-fae21dfb456e",
   "metadata": {},
   "source": [
    "## Q16. Two groups of students are given different study materials to prepare for a test. The first group (n1 =30) has a mean score of 80 with a standard deviation of 10, and the second group (n2 = 40) has a mean score of 75 with a standard deviation of 8. Test the hypothesis that the population means for the two groups are equal with a significance level of 0.01."
   ]
  },
  {
   "cell_type": "markdown",
   "id": "96072328-5f34-4c99-a762-428b5238f531",
   "metadata": {},
   "source": [
    "H0:-the population means for the two groups are equal\n",
    "\n",
    "H1:-the population means for the two groups are different"
   ]
  },
  {
   "cell_type": "code",
   "execution_count": 18,
   "id": "a50a5a27-e3a4-422c-8ef2-e9a546f2e881",
   "metadata": {},
   "outputs": [
    {
     "data": {
      "text/plain": [
       "2.2511258444537408"
      ]
     },
     "execution_count": 18,
     "metadata": {},
     "output_type": "execute_result"
    }
   ],
   "source": [
    "X1=80\n",
    "X2=75\n",
    "Std1=10\n",
    "Std2=8\n",
    "n1=30\n",
    "n2=40\n",
    "Z_c=(X1-X2)/(math.sqrt((Std1**2/n1 + Std2**2/n2)))\n",
    "Z_c\n"
   ]
  },
  {
   "cell_type": "markdown",
   "id": "af36dfb2-17a3-4409-ba04-0aac1f6ead41",
   "metadata": {},
   "source": [
    ".98645<2.25 so we will accept the null hypothesis that's the population mean for two groups are equal"
   ]
  },
  {
   "cell_type": "markdown",
   "id": "ee55a6cc-4c34-4a2e-a23e-5a5f3222ef47",
   "metadata": {},
   "source": [
    "## Q17. A marketing company wants to estimate the average number of ads watched by viewers during a TV program. They take a random sample of 50 viewers and find that the sample mean is 4 with a standard deviation of 1.5. Estimate the population mean with a 99% confidence interval."
   ]
  },
  {
   "cell_type": "code",
   "execution_count": 21,
   "id": "c4accf75-8235-4536-8f35-54419e86f262",
   "metadata": {},
   "outputs": [
    {
     "data": {
      "text/plain": [
       "(3.6512136447336276, 4.348786355266372)"
      ]
     },
     "execution_count": 21,
     "metadata": {},
     "output_type": "execute_result"
    }
   ],
   "source": [
    "n=5\n",
    "x_=4\n",
    "std=1.5\n",
    "a=0.01\n",
    "Z_score=0.51994\n",
    "F=x_+(Z_score *std)/math.sqrt(n)\n",
    "G=x_-(Z_score *std)/math.sqrt(n)\n",
    "G,F"
   ]
  },
  {
   "cell_type": "code",
   "execution_count": null,
   "id": "4ddbc62d-ce2f-45c9-99f0-45c23e035a81",
   "metadata": {},
   "outputs": [],
   "source": []
  }
 ],
 "metadata": {
  "kernelspec": {
   "display_name": "Python 3 (ipykernel)",
   "language": "python",
   "name": "python3"
  },
  "language_info": {
   "codemirror_mode": {
    "name": "ipython",
    "version": 3
   },
   "file_extension": ".py",
   "mimetype": "text/x-python",
   "name": "python",
   "nbconvert_exporter": "python",
   "pygments_lexer": "ipython3",
   "version": "3.10.8"
  }
 },
 "nbformat": 4,
 "nbformat_minor": 5
}
