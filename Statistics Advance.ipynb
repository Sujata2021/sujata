{
 "cells": [
  {
   "cell_type": "markdown",
   "id": "af0897ef-fe47-45d8-b619-53df82517298",
   "metadata": {},
   "source": [
    "## Q1: What are the Probability Mass Function (PMF) and Probability Density Function (PDF)? Explain with an example."
   ]
  },
  {
   "cell_type": "markdown",
   "id": "2472e0ee-63d5-4095-bd13-92916f15f0bf",
   "metadata": {},
   "source": [
    "Probability mass function denotes the probability that a discrete random variable will take on a particular value.\n",
    "\n",
    "Probability density function gives the probability that a continuous random variable will lie between a certain specified interval.\n",
    "\n",
    "Stock and investment returns are generally not continuous random variables; they are discrete. However, most financial analysts assume that returns and prices are continuous so that they can model performance and analyze risks."
   ]
  },
  {
   "cell_type": "markdown",
   "id": "b2bf42ce-c2fa-4c9e-b738-439a5791bb57",
   "metadata": {},
   "source": [
    "## Q2: What is Cumulative Density Function (CDF)? Explain with an example. Why CDF is used?"
   ]
  },
  {
   "cell_type": "markdown",
   "id": "e8674dcc-a612-4257-a4b1-e7fcc1be0275",
   "metadata": {},
   "source": [
    "In probability theory and statistics, the cumulative distribution function (CDF) of a real-valued random variable X, or just distribution function of X, evaluated at x, is the probability that X will take a value less than or equal to x.\n",
    "\n",
    "It can be used to describe the probability for a discrete, continuous or mixed variable. "
   ]
  },
  {
   "cell_type": "markdown",
   "id": "61206c57-7b4d-4240-80e6-4404e1536e79",
   "metadata": {},
   "source": [
    "## Q3: What are some examples of situations where the normal distribution might be used as a model?Explain how the parameters of the normal distribution relate to the shape of the distribution."
   ]
  },
  {
   "cell_type": "markdown",
   "id": "875117f7-1725-4be8-9fb1-05fca046fc69",
   "metadata": {},
   "source": [
    "Birthweight of Babies,Height of Males,Shoe Sizes.\n",
    "\n",
    "Mean and median are equal; both are located at the center of the distribution\n",
    "\n",
    "About 68% of data falls within one standard deviation of the mean\n",
    "\n",
    "About 95% of data falls within two standard deviations of the mean\n",
    "\n",
    "About 99.7% of data falls within three standard deviations of the mean"
   ]
  },
  {
   "cell_type": "markdown",
   "id": "acf1f45c-6cc1-47ed-94c5-97ba93be71fa",
   "metadata": {},
   "source": [
    "## Q4: Explain the importance of Normal Distribution. Give a few real-life examples of Normal Distribution."
   ]
  },
  {
   "cell_type": "markdown",
   "id": "f83b1dc8-0613-4448-a81e-f6339257c160",
   "metadata": {},
   "source": [
    "As with any probability distribution, the normal distribution describes how the values of a variable are distributed. It is the most important probability distribution in statistics because it accurately describes the distribution of values for many natural phenomena. Characteristics that are the sum of many independent processes frequently follow normal distributions. For example, heights, blood pressure, measurement error, and IQ scores follow the normal distribution."
   ]
  },
  {
   "cell_type": "markdown",
   "id": "486d6d3e-d438-4b38-be4a-ab2607314fd3",
   "metadata": {},
   "source": [
    "## Q5: What is Bernaulli Distribution? Give an Example. What is the difference between Bernoulli Distribution and Binomial Distribution?"
   ]
  },
  {
   "cell_type": "markdown",
   "id": "836257fa-77a3-414a-ad82-965a59153303",
   "metadata": {},
   "source": [
    "Bernoulli’s trials are a type of experiment where you repeat the same thing over and over again independently. Each time, you’re looking for a specific outcome, which we call event A. The chance of this outcome happening is the same each time you do the experiment, no matter how many times you repeat it.\n",
    "\n",
    "The experiment itself only has two possible outcomes, either event A happens, or it doesn’t. It’s like flipping a coin where you can either get heads or tails,Checking emails,rolling a dice.\n",
    "\n",
    " Bernoulli’s Trials are those trials in probability where only two possible outcomes are Success and Failure or True and False. Due to this fact of two possible outcomes, it is also called the Binomial Trial. Binomial Distribution is the sequence of independent experiments with each experiment being a binomial trial"
   ]
  },
  {
   "cell_type": "markdown",
   "id": "ac525813-5294-4536-8f10-32b1c1cd775e",
   "metadata": {},
   "source": [
    "## Q6. Consider a dataset with a mean of 50 and a standard deviation of 10. If we assume that the dataset is normally distributed, what is the probability that a randomly selected observation will be greater than 60? Use the appropriate formula and show your calculations."
   ]
  },
  {
   "cell_type": "code",
   "execution_count": 11,
   "id": "51d002d9-23de-4dab-8035-55a574e751c8",
   "metadata": {},
   "outputs": [
    {
     "name": "stdout",
     "output_type": "stream",
     "text": [
      "1.0\n"
     ]
    },
    {
     "data": {
      "text/plain": [
       "0.15869999999999995"
      ]
     },
     "execution_count": 11,
     "metadata": {},
     "output_type": "execute_result"
    }
   ],
   "source": [
    "data=[20,30,40,50,60,70,80]\n",
    "mean=50\n",
    "std=10\n",
    "z_score=(60-mean)/std\n",
    "print(z_score)\n",
    "Final_observation=(1-0.8413)\n",
    "Final_observation"
   ]
  },
  {
   "cell_type": "markdown",
   "id": "d63791bc-0a1a-45b4-ba2f-e985a5483a4f",
   "metadata": {},
   "source": [
    "## Q7: Explain uniform Distribution with an example."
   ]
  },
  {
   "cell_type": "markdown",
   "id": "ac49aa1f-7cd7-492e-80e7-62a8d5efc57c",
   "metadata": {},
   "source": [
    "A uniform distribution is a distribution that has constant probability due to equally likely occurring events. It is also known as rectangular distribution (continuous uniform distribution). It has two parameters a and b: a = minimum and b = maximum. The distribution is written as U(a, b).\n",
    "\n",
    "\n",
    "55 times a baby yawns, in seconds, of a 9-week-old baby girl."
   ]
  },
  {
   "cell_type": "markdown",
   "id": "c21885ca-2266-4677-b987-2af4bf9dca61",
   "metadata": {},
   "source": [
    "## Q8: What is the z score? State the importance of the z score."
   ]
  },
  {
   "cell_type": "markdown",
   "id": "1411a75e-a85c-4cca-82a4-0263f63dd849",
   "metadata": {},
   "source": [
    "Z-score is a statistical measurement that describes a value's relationship to the mean of a group of values. Z-score is measured in terms of standard deviations from the mean.\n",
    "\n",
    "A z-score is important because it tells where your data lies in the data distribution. For example, if a z-score is 1.5, it is 1.5 standard deviations away from the mean.\n"
   ]
  },
  {
   "cell_type": "markdown",
   "id": "442ec35a-194d-4d68-b19c-998f9983189c",
   "metadata": {},
   "source": [
    "## Q9: What is Central Limit Theorem? State the significance of the Central Limit Theorem."
   ]
  },
  {
   "cell_type": "markdown",
   "id": "dc9729fb-d934-4a7d-a337-a4f532ae531c",
   "metadata": {},
   "source": [
    "The central limit theorem says that the sampling distribution of the mean will always be normally distributed, as long as the sample size is large enough. Regardless of whether the population has a normal, Poisson, binomial, or any other distribution, the sampling distribution of the mean will be normal.\n",
    "\n",
    "The Central Limit Theorem is important for statistics because it allows us to safely assume that the sampling distribution of the mean will be normal in most cases"
   ]
  },
  {
   "cell_type": "markdown",
   "id": "37bbfb8d-8e25-4600-9f19-24bf5035d391",
   "metadata": {},
   "source": [
    "## Q10: State the assumptions of the Central Limit Theorem."
   ]
  },
  {
   "cell_type": "code",
   "execution_count": null,
   "id": "bc9d07f6-307c-4a18-80fb-0cd41e5f679b",
   "metadata": {},
   "outputs": [],
   "source": []
  }
 ],
 "metadata": {
  "kernelspec": {
   "display_name": "Python 3 (ipykernel)",
   "language": "python",
   "name": "python3"
  },
  "language_info": {
   "codemirror_mode": {
    "name": "ipython",
    "version": 3
   },
   "file_extension": ".py",
   "mimetype": "text/x-python",
   "name": "python",
   "nbconvert_exporter": "python",
   "pygments_lexer": "ipython3",
   "version": "3.10.8"
  }
 },
 "nbformat": 4,
 "nbformat_minor": 5
}
