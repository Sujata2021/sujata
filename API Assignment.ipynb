{
 "cells": [
  {
   "cell_type": "markdown",
   "id": "5bdeeadd-ce60-432d-956c-0bae13bab4c5",
   "metadata": {},
   "source": [
    "Q1. What is an API? Give an example, where an API is used in real life."
   ]
  },
  {
   "cell_type": "markdown",
   "id": "28944ff6-68ef-44c2-b1e0-625a52036a90",
   "metadata": {},
   "source": [
    "API-It is application programming interface\n",
    "APIs are mechanisms that enable two software components to communicate with each other using a set of definitions and protocols. For example, the weather bureau's software system contains daily weather data. The weather app on our phone “talks” to this system via APIs and shows you daily weather updates on your phone.Gpay for transferring money."
   ]
  },
  {
   "cell_type": "markdown",
   "id": "9adf1020-fef0-4f5b-a105-40b9dce8ba3d",
   "metadata": {},
   "source": [
    "Q2. Give advantages and disadvantages of using API."
   ]
  },
  {
   "cell_type": "markdown",
   "id": "e8dc19da-e819-471d-8f27-b89e6ded5eb1",
   "metadata": {},
   "source": [
    "Increased Interoperability: API solutions enable different software systems to communicate with each other, regardless of their programming language or platform. This enhances the interoperability between systems, allowing for the exchange of data and functionality.\n",
    "\n",
    "Improved Efficiency: API driven infrastructures enable developers to reuse code and functionality from existing software systems, saving time and reducing the amount of code that needs to be written from scratch.\n",
    "\n",
    "Better User Experience: APIs can enable third-party developers to create applications that integrate with existing software systems, providing a better user experience and increased functionality.\n",
    "\n",
    "Increased Flexibility: APIs provide developers with greater flexibility, enabling them to choose the best programming languages and frameworks for their needs.\n",
    "\n",
    "New Revenue Streams: APIs can enable companies to create new revenue streams by providing third-party developers with access to their software systems.\n",
    "\n",
    "/**Disadvantages**/:\n",
    "\n",
    "Security Concerns: API infrastructures can be vulnerable to security breaches, such as SQL injection attacks and cross-site scripting (XSS) attacks, making it crucial to implement security measures to protect against these threats.\n",
    "\n",
    "Complexity: APIs can be complex, requiring a significant amount of development effort to implement and maintain.\n",
    "\n",
    "Compatibility Issues: APIs can have compatibility issues between different versions of the same software system or between different systems, which can lead to errors and system failures.\n",
    "\n",
    "Dependency on Third-Party Developers: APIs rely on third-party developers to create applications that integrate with the software system. This can create dependencies that are outside of the control of the company that owns the software system.\n",
    "\n",
    "Governance and Management: APIs require proper governance and management to ensure they are being used correctly and consistently across different applications and systems.\n"
   ]
  },
  {
   "cell_type": "markdown",
   "id": "1349870b-2bf1-4efb-800f-4d2de884fcb9",
   "metadata": {},
   "source": [
    "Q3. What is a Web API? Differentiate between API and Web API."
   ]
  },
  {
   "cell_type": "markdown",
   "id": "c08e10cb-4811-4af2-91bd-90f830b43577",
   "metadata": {},
   "source": [
    "Web API is an API that can be accessed over the web using the HTTP Protocol. It is an Open-Source framework for a web application or web server that communicates between clients and websites for data access. "
   ]
  },
  {
   "cell_type": "markdown",
   "id": "dc0bec7a-0e96-471d-be60-aa1aaf98ea09",
   "metadata": {},
   "source": [
    "API is an interface that exposes an application's data to outside software, whereas web applications are one type of API with stricter requirements. These requirements include network communication, SOAP as the primary protocol, and less accessibility for the public. "
   ]
  },
  {
   "cell_type": "markdown",
   "id": "0d7231b0-c997-4244-bf15-45df6bcf8a10",
   "metadata": {},
   "source": [
    "Q4. Explain REST and SOAP Architecture. Mention shortcomings of SOAP."
   ]
  },
  {
   "cell_type": "markdown",
   "id": "4ae28be6-fca2-4d65-9d5d-9787cd1bc138",
   "metadata": {},
   "source": [
    "SOAP and REST are two internet data exchange mechanisms. For example, imagine that your internal accounts system shares data with your customer's accounting system to automate invoicing tasks. The two applications share data by using an API that defines communication rules. SOAP and REST are two different approaches to API design. The SOAP approach is highly structured and uses XML data format. REST is more flexible and allows applications to exchange data in multiple formats.\n",
    "\n",
    "\n",
    "1)Highly complex.\n",
    "2)In comparison to Rest, SOAP is significantly more complex. \n",
    "3)No variety of data formats. SOAP is also extremely limited in its support of data formats. \n"
   ]
  },
  {
   "cell_type": "markdown",
   "id": "c265877c-61c9-45da-93a8-fdcaf737ed72",
   "metadata": {},
   "source": [
    "Q5. Differentiate between REST and SOAP."
   ]
  },
  {
   "cell_type": "code",
   "execution_count": null,
   "id": "09d885fd-8b97-4efd-be40-5f8207c1e13a",
   "metadata": {},
   "outputs": [],
   "source": []
  }
 ],
 "metadata": {
  "kernelspec": {
   "display_name": "Python 3 (ipykernel)",
   "language": "python",
   "name": "python3"
  },
  "language_info": {
   "codemirror_mode": {
    "name": "ipython",
    "version": 3
   },
   "file_extension": ".py",
   "mimetype": "text/x-python",
   "name": "python",
   "nbconvert_exporter": "python",
   "pygments_lexer": "ipython3",
   "version": "3.10.8"
  }
 },
 "nbformat": 4,
 "nbformat_minor": 5
}
