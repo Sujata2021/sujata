{
 "cells": [
  {
   "cell_type": "code",
   "execution_count": 30,
   "id": "3f321636",
   "metadata": {},
   "outputs": [],
   "source": [
    "class triangle:\n",
    "    def __init__(self,a,b,c) :\n",
    "        self.a=a\n",
    "        self.b=b\n",
    "        self.c=c\n",
    "class area(triangle):\n",
    "    def AREA(self,a,b,c,s):\n",
    "        return (s*(s-a)*(s-b)*(s-c))**0.5 \n",
    "        "
   ]
  },
  {
   "cell_type": "code",
   "execution_count": 31,
   "id": "96fb863a",
   "metadata": {
    "scrolled": true
   },
   "outputs": [],
   "source": [
    "obj=area(3,4,5)"
   ]
  },
  {
   "cell_type": "code",
   "execution_count": 35,
   "id": "76185d9b",
   "metadata": {},
   "outputs": [
    {
     "data": {
      "text/plain": [
       "12.96148139681572"
      ]
     },
     "execution_count": 35,
     "metadata": {},
     "output_type": "execute_result"
    }
   ],
   "source": [
    "obj.AREA(3,4,5,7)"
   ]
  },
  {
   "cell_type": "code",
   "execution_count": 18,
   "id": "b5025a6a",
   "metadata": {},
   "outputs": [],
   "source": [
    "def filter_long_words(l,n):\n",
    "    c=[]\n",
    "    a=l.split(\" \")\n",
    "    for i in a:\n",
    "        if len(i)>n:\n",
    "            c.append(i)\n",
    "    return(c)\n",
    "    \n",
    "    "
   ]
  },
  {
   "cell_type": "code",
   "execution_count": 19,
   "id": "9b79e2c9",
   "metadata": {},
   "outputs": [
    {
     "data": {
      "text/plain": [
       "['apple']"
      ]
     },
     "execution_count": 19,
     "metadata": {},
     "output_type": "execute_result"
    }
   ],
   "source": [
    "filter_long_words(\"The apple is red\",4)"
   ]
  },
  {
   "cell_type": "code",
   "execution_count": 20,
   "id": "f48372c5",
   "metadata": {},
   "outputs": [],
   "source": [
    "def map(l):\n",
    "    c=[]\n",
    "    for i in l:\n",
    "        c.append(len(i))\n",
    "    return c\n",
    "        "
   ]
  },
  {
   "cell_type": "code",
   "execution_count": 24,
   "id": "ec75b304",
   "metadata": {},
   "outputs": [
    {
     "data": {
      "text/plain": [
       "[2, 3, 4]"
      ]
     },
     "execution_count": 24,
     "metadata": {},
     "output_type": "execute_result"
    }
   ],
   "source": [
    "map([\"ab\",\"cdy\",\"erty\"])"
   ]
  },
  {
   "cell_type": "code",
   "execution_count": 11,
   "id": "7c18026a",
   "metadata": {},
   "outputs": [],
   "source": [
    "def char(str):\n",
    "    vowel=(\"a\",\"e\",\"i\",\"o\",\"u\")\n",
    "    for i in vowel:\n",
    "        if str==i:\n",
    "            return True\n",
    "        else:\n",
    "            return False\n",
    "    "
   ]
  },
  {
   "cell_type": "code",
   "execution_count": 12,
   "id": "7828c446",
   "metadata": {},
   "outputs": [
    {
     "data": {
      "text/plain": [
       "True"
      ]
     },
     "execution_count": 12,
     "metadata": {},
     "output_type": "execute_result"
    }
   ],
   "source": [
    "char(\"a\")"
   ]
  },
  {
   "cell_type": "code",
   "execution_count": null,
   "id": "283e9d4f",
   "metadata": {},
   "outputs": [],
   "source": []
  }
 ],
 "metadata": {
  "kernelspec": {
   "display_name": "Python 3",
   "language": "python",
   "name": "python3"
  },
  "language_info": {
   "codemirror_mode": {
    "name": "ipython",
    "version": 3
   },
   "file_extension": ".py",
   "mimetype": "text/x-python",
   "name": "python",
   "nbconvert_exporter": "python",
   "pygments_lexer": "ipython3",
   "version": "3.8.8"
  }
 },
 "nbformat": 4,
 "nbformat_minor": 5
}
