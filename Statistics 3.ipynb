{
 "cells": [
  {
   "cell_type": "markdown",
   "id": "a88c9cb5-124d-4fe1-875f-7e0f8f98d117",
   "metadata": {},
   "source": [
    "## Q1. What is the Probability density function?"
   ]
  },
  {
   "cell_type": "markdown",
   "id": "ed31b870-74d5-46c5-a405-52011fccb94e",
   "metadata": {},
   "source": [
    "A function that defines the relationship between a random variable and its probability, such that you can find the probability of the variable using the function, is called a Probability Density Function (PDF) in statistics"
   ]
  },
  {
   "cell_type": "markdown",
   "id": "8799764a-a1a2-4d3a-b5ee-8cbd89b9c428",
   "metadata": {},
   "source": [
    "## Q2. What are the types of Probability distribution?"
   ]
  },
  {
   "cell_type": "markdown",
   "id": "f7f372a1-190d-4f02-aece-526cfeebf3fe",
   "metadata": {},
   "source": [
    "1.Discrete probability distributions\n",
    " \n",
    "2.Continuous probability distributions"
   ]
  },
  {
   "cell_type": "markdown",
   "id": "21a77a53-cdcd-42ee-b2be-7367117e1b77",
   "metadata": {},
   "source": [
    "## Q3. Write a Python function to calculate the probability density function of a normal distribution with given mean and standard deviation at a given point."
   ]
  },
  {
   "cell_type": "code",
   "execution_count": 3,
   "id": "0a71e236-e5ea-4a51-bc51-c043344fb775",
   "metadata": {},
   "outputs": [
    {
     "name": "stdout",
     "output_type": "stream",
     "text": [
      "0.0044318484119380075\n"
     ]
    }
   ],
   "source": [
    "from scipy.stats import norm\n",
    "probability_pdf = norm.pdf(3, 0,1)\n",
    "print(probability_pdf)\n"
   ]
  },
  {
   "cell_type": "markdown",
   "id": "124cf8d1-7c67-4038-8c79-5ad8616d2598",
   "metadata": {},
   "source": [
    "## Q4. What are the properties of Binomial distribution? Give two examples of events where binomial distribution can be applied."
   ]
  },
  {
   "cell_type": "markdown",
   "id": "9cb36ecf-e904-49cb-8e50-0997a88f4833",
   "metadata": {},
   "source": [
    "The characteristics of a binomial distribution include:\n",
    "\n",
    "a.The number of trials, n, is fixed.\n",
    "\n",
    "b.Each trial is independent of the others.\n",
    "\n",
    "c.The probability of success, p, is constant across all trials.\n",
    "\n",
    "d.The outcomes of each trial are mutually exclusive (only one outcome can occur per trial).\n",
    "\n",
    "e.The probability of success, p, and the probability of failure, q (which is equal to 1-p), add up to 1."
   ]
  },
  {
   "cell_type": "markdown",
   "id": "3ec9f50d-f106-405c-a7d8-66e3433c4a26",
   "metadata": {},
   "source": [
    "For example, in Binomial Distribution, suppose a company sends out 1000 emails and the probability for a recipient to open that email is 0.2. Then the number of people who open the emails can be modelled by a binomial distribution with n = 100 and p = 0.2.\n",
    "\n",
    "Another example of this distribution includes tossing a coin. Suppose you toss a fair coin 10 times and you want to know the probability of getting exactly 5 heads. This is an example of a binomial distribution with n=10 (number of trials) and p=0.5 (probability of success)."
   ]
  },
  {
   "cell_type": "markdown",
   "id": "ba91e367-ee4c-4c72-af55-fd9bc2edee9e",
   "metadata": {},
   "source": [
    "## Q5. Generate a random sample of size 1000 from a binomial distribution with probability of success 0.4 and plot a histogram of the results using matplotlib."
   ]
  },
  {
   "cell_type": "code",
   "execution_count": 24,
   "id": "61daf23e-1ea8-48fd-93fb-8bf2ad75dfce",
   "metadata": {},
   "outputs": [
    {
     "data": {
      "image/png": "[encoded data removed]",
      "text/plain": [
       "<Figure size 640x480 with 1 Axes>"
      ]
     },
     "metadata": {},
     "output_type": "display_data"
    }
   ],
   "source": [
    "n=1000\n",
    "p=0.4\n",
    "from scipy.stats import binom\n",
    "import matplotlib.pyplot as plt\n",
    "import numpy as np\n",
    "s_values = np.random.binomial(n, p, 1000)\n",
    "# list of pmf values\n",
    "dist = [binom.pmf(s, n, p) for s in s_values ]\n",
    "# plotting the graph \n",
    "plt.bar(s_values, dist)\n",
    "plt.show()"
   ]
  },
  {
   "cell_type": "markdown",
   "id": "7f184df5-0447-435a-9263-4387fb07e014",
   "metadata": {},
   "source": [
    "## Q6. Write a Python function to calculate the cumulative distribution function of a Poisson distribution with given mean at a given point."
   ]
  },
  {
   "cell_type": "code",
   "execution_count": 26,
   "id": "634c4d29-37e1-4fa2-ad7a-15a39604b654",
   "metadata": {},
   "outputs": [
    {
     "data": {
      "text/plain": [
       "0.40600584970983794"
      ]
     },
     "execution_count": 26,
     "metadata": {},
     "output_type": "execute_result"
    }
   ],
   "source": [
    "from scipy.stats import poisson\n",
    "poisson.cdf(1,2,0)"
   ]
  },
  {
   "cell_type": "markdown",
   "id": "71d5ce11-2902-4474-9c4b-4f9bfe050be4",
   "metadata": {},
   "source": [
    "## Q7. How Binomial distribution different from Poisson distribution?"
   ]
  },
  {
   "cell_type": "markdown",
   "id": "bfec081d-f105-4617-ba45-ba2c7f7062f1",
   "metadata": {},
   "source": [
    "In a Binomial distribution, there is a fixed number of trials (e.g. flip a coin 3 times)\n",
    "\n",
    "In a Poisson distribution, there could be any number of events that occur during a certain time interval (e.g. how many customers will arrive at a store in a given hour?)"
   ]
  },
  {
   "cell_type": "markdown",
   "id": "36e22272-93d3-45e7-9179-af537f4ac9ad",
   "metadata": {},
   "source": [
    "## Q8. Generate a random sample of size 1000 from a Poisson distribution with mean 5 and calculate the sample mean and variance."
   ]
  },
  {
   "cell_type": "code",
   "execution_count": 40,
   "id": "d0b3e513-25e5-4814-8c57-cbbd75258d90",
   "metadata": {},
   "outputs": [
    {
     "data": {
      "text/plain": [
       "4.915"
      ]
     },
     "execution_count": 40,
     "metadata": {},
     "output_type": "execute_result"
    }
   ],
   "source": [
    "import numpy as np\n",
    "s=np.random.poisson(lam=5.0,size=1000)\n",
    "s.mean()\n"
   ]
  },
  {
   "cell_type": "markdown",
   "id": "5e3cfe5c-b101-4cc8-8da5-3f3f036497ad",
   "metadata": {},
   "source": [
    "## Q9. How mean and variance are related in Binomial distribution and Poisson distribution?"
   ]
  },
  {
   "cell_type": "markdown",
   "id": "0e3d5e92-166c-41d0-a27e-e9a488b99dc4",
   "metadata": {},
   "source": [
    "In binomial distribution Mean > Variance \n",
    "while in poisson distribution mean = variance."
   ]
  },
  {
   "cell_type": "markdown",
   "id": "84523422-e201-4d9e-af7b-430955456dcc",
   "metadata": {},
   "source": [
    "## Q10. In normal distribution with respect to mean position, where does the least frequent data appear?"
   ]
  },
  {
   "cell_type": "code",
   "execution_count": null,
   "id": "62b4d457-99c7-46a3-9880-5c91fd2c623f",
   "metadata": {},
   "outputs": [],
   "source": []
  }
 ],
 "metadata": {
  "kernelspec": {
   "display_name": "Python 3 (ipykernel)",
   "language": "python",
   "name": "python3"
  },
  "language_info": {
   "codemirror_mode": {
    "name": "ipython",
    "version": 3
   },
   "file_extension": ".py",
   "mimetype": "text/x-python",
   "name": "python",
   "nbconvert_exporter": "python",
   "pygments_lexer": "ipython3",
   "version": "3.10.8"
  }
 },
 "nbformat": 4,
 "nbformat_minor": 5
}
